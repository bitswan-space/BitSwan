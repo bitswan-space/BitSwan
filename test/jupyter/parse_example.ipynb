{
 "cells": [
  {
   "cell_type": "markdown",
   "id": "be7f3cfc",
   "metadata": {},
   "source": [
    "Test that globals and variables defined in processor steps are allowed to propagate to subsequent steps in the pipeline"
   ]
  },
  {
   "cell_type": "code",
   "execution_count": 2,
   "id": "1fd34891-3aac-4f76-9697-f8495a239091",
   "metadata": {},
   "outputs": [],
   "source": [
    "from bspump.jupyter import *\n",
    "from bspump.test import TestSink, TestSource\n",
    "import json\n",
    "import asyncio"
   ]
  },
  {
   "cell_type": "code",
   "execution_count": null,
   "id": "6ccb8d48",
   "metadata": {},
   "outputs": [],
   "source": [
    "foovar = 3"
   ]
  },
  {
   "cell_type": "code",
   "execution_count": 4,
   "id": "eb6f7aa2-4821-41eb-88ce-304e2756735f",
   "metadata": {},
   "outputs": [],
   "source": [
    "event = {}\n",
    "test_events = [\n",
    "    ({\"foo\": \"aaa\"}, {\"expect\": [{\"foo\": \"aaa\", \"foovar\": 3, \"barvar\": \"hello\", \"bazvar\": \"aaa\"}]}),\n",
    "    ({\"foo\": \"aab\"}, {\"expect\": [{\"foo\": \"aab\", \"foovar\": 3, \"barvar\": \"hello\", \"bazvar\": \"aab\"}]}),\n",
    "]"
   ]
  },
  {
   "cell_type": "code",
   "execution_count": null,
   "id": "6e5432e7-f84a-4b27-826a-5171e6112ba8",
   "metadata": {},
   "outputs": [],
   "source": [
    "auto_pipeline(\n",
    "    source=lambda app, pipeline: TestSource(app, pipeline, \"TestSource\"),\n",
    "    sink=lambda app, pipeline: TestSink(app, pipeline, \"TestSink\"),\n",
    ")"
   ]
  },
  {
   "cell_type": "code",
   "execution_count": 5,
   "id": "08f23673",
   "metadata": {},
   "outputs": [
    {
     "ename": "KeyError",
     "evalue": "'foo'",
     "output_type": "error",
     "traceback": [
      "\u001b[0;31m---------------------------------------------------------------------------\u001b[0m",
      "\u001b[0;31mKeyError\u001b[0m                                  Traceback (most recent call last)",
      "Cell \u001b[0;32mIn[5], line 3\u001b[0m\n\u001b[1;32m      1\u001b[0m barvar\u001b[38;5;241m=\u001b[39m\u001b[38;5;124m\"\u001b[39m\u001b[38;5;124mhello\u001b[39m\u001b[38;5;124m\"\u001b[39m\n\u001b[1;32m      2\u001b[0m \u001b[38;5;28;01mawait\u001b[39;00m asyncio\u001b[38;5;241m.\u001b[39msleep(\u001b[38;5;241m0.2\u001b[39m)\n\u001b[0;32m----> 3\u001b[0m bazvar\u001b[38;5;241m=\u001b[39m\u001b[43mevent\u001b[49m\u001b[43m[\u001b[49m\u001b[38;5;124;43m\"\u001b[39;49m\u001b[38;5;124;43mfoo\u001b[39;49m\u001b[38;5;124;43m\"\u001b[39;49m\u001b[43m]\u001b[49m\n",
      "\u001b[0;31mKeyError\u001b[0m: 'foo'"
     ]
    }
   ],
   "source": [
    "barvar = \"hello\"\n",
    "await asyncio.sleep(0.2)\n",
    "my_multiline_string = \"\"\"a line\n",
    "non-indented line\n",
    "    once indented line\n",
    "        twice indented line\n",
    "\"\"\"\n",
    "bazvar = event[\"foo\"]"
   ]
  },
  {
   "cell_type": "code",
   "execution_count": null,
   "id": "944f3fb3-74d5-45cc-8c8f-307f0d411de7",
   "metadata": {},
   "outputs": [
    {
     "data": {
      "text/plain": [
       "{'foo': 'BAP'}"
      ]
     },
     "execution_count": 11,
     "metadata": {},
     "output_type": "execute_result"
    }
   ],
   "source": [
    "print(\"Next step\")\n",
    "event[\"foovar\"] = foovar\n",
    "event[\"barvar\"] = barvar\n",
    "event[\"bazvar\"] = bazvar\n",
    "event"
   ]
  }
 ],
 "metadata": {
  "kernelspec": {
   "display_name": "bitswan",
   "language": "python",
   "name": "python3"
  },
  "language_info": {
   "codemirror_mode": {
    "name": "ipython",
    "version": 3
   },
   "file_extension": ".py",
   "mimetype": "text/x-python",
   "name": "python",
   "nbconvert_exporter": "python",
   "pygments_lexer": "ipython3",
   "version": "3.11.2"
  }
 },
 "nbformat": 4,
 "nbformat_minor": 5
}
