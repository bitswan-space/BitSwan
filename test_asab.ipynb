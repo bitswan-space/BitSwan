{
 "cells": [
  {
   "cell_type": "code",
   "execution_count": 1,
   "metadata": {},
   "outputs": [],
   "source": [
    "import bspump.jupyter as bpj\n",
    "from bspump.kafka import KafkaConnection, KafkaSource"
   ]
  },
  {
   "cell_type": "code",
   "execution_count": 2,
   "metadata": {},
   "outputs": [
    {
     "name": "stdout",
     "output_type": "stream",
     "text": [
      "BitSwan BSPump version devel\n"
     ]
    }
   ],
   "source": [
    "bpj.init_bitswan_jupyter(\"config.conf\")"
   ]
  },
  {
   "cell_type": "code",
   "execution_count": 3,
   "metadata": {},
   "outputs": [],
   "source": [
    "bpj.new_pipeline(\"KafkaPipeline\")"
   ]
  },
  {
   "cell_type": "code",
   "execution_count": 4,
   "metadata": {},
   "outputs": [],
   "source": [
    "@bpj.register_connection\n",
    "def kafka_connection(app):\n",
    "    return KafkaConnection(app, \"KafkaConnection\")"
   ]
  },
  {
   "cell_type": "code",
   "execution_count": 5,
   "metadata": {},
   "outputs": [],
   "source": [
    "@bpj.register_source\n",
    "def kafka_source(app, pipeline):\n",
    "    return KafkaSource(app, pipeline, \"KafkaConnection\")"
   ]
  },
  {
   "cell_type": "code",
   "execution_count": 6,
   "metadata": {},
   "outputs": [
    {
     "name": "stdout",
     "output_type": "stream",
     "text": [
      "[KafkaSource('KafkaPipeline.*KafkaSource')]\n"
     ]
    },
    {
     "ename": "KeyboardInterrupt",
     "evalue": "",
     "output_type": "error",
     "traceback": [
      "\u001b[0;31m---------------------------------------------------------------------------\u001b[0m",
      "\u001b[0;31mKeyboardInterrupt\u001b[0m                         Traceback (most recent call last)",
      "Cell \u001b[0;32mIn[6], line 1\u001b[0m\n\u001b[0;32m----> 1\u001b[0m \u001b[43mbpj\u001b[49m\u001b[38;5;241;43m.\u001b[39;49m\u001b[43mget_sample_events\u001b[49m\u001b[43m(\u001b[49m\u001b[43m)\u001b[49m\n",
      "File \u001b[0;32m~/projects/work/BitswanPump/bspump/jupyter.py:204\u001b[0m, in \u001b[0;36mget_sample_events\u001b[0;34m()\u001b[0m\n\u001b[1;32m    202\u001b[0m pipeline \u001b[38;5;241m=\u001b[39m TmpPipeline(__bitswan_dev_runtime\u001b[38;5;241m.\u001b[39mdev_app, \u001b[38;5;124m\"\u001b[39m\u001b[38;5;124mKafkaPipeline\u001b[39m\u001b[38;5;124m\"\u001b[39m)\n\u001b[1;32m    203\u001b[0m pipeline\u001b[38;5;241m.\u001b[39mstart()\n\u001b[0;32m--> 204\u001b[0m \u001b[38;5;28;01mwhile\u001b[39;00m \u001b[38;5;241m1\u001b[39m:\n\u001b[1;32m    205\u001b[0m     \u001b[38;5;28;01mtry\u001b[39;00m:\n\u001b[1;32m    206\u001b[0m         \u001b[38;5;28;01mpass\u001b[39;00m\n",
      "\u001b[0;31mKeyboardInterrupt\u001b[0m: "
     ]
    },
    {
     "name": "stdout",
     "output_type": "stream",
     "text": [
      "Injecting event b'ahoj'\n",
      "Injecting event b'ahoj2'\n",
      "Injecting event b'ahoj3'\n",
      "Injecting event b'fjlaksdjfa'\n",
      "Injecting event b'fjasdo;plkfjasl;d'\n",
      "Injecting event b'fdsajhlfdsajf'\n",
      "Injecting event b'fsdja;lfkads'\n",
      "Injecting event b'fsdajlfdsa'\n",
      "Injecting event b'fjsdalfsa'\n",
      "Injecting event b'jlfsda'\n",
      "Injecting event b'fjklsa'\n",
      "Injecting event b'fsadjlf;kas'\n",
      "Injecting event b'fsdj;alfdsa'\n",
      "Injecting event b'faskl'\n",
      "Injecting event b'fasj;lfaksd'\n",
      "Injecting event b'fdsakj;lfsa'\n",
      "Injecting event b'fasdk;ljjfas'\n",
      "Injecting event b'fasdjklf;asdd'\n",
      "Injecting event b'fasdjkl;fasdf'\n",
      "Injecting event b'safdsaj;lfas'\n",
      "Injecting event b'dfsadjl;fasd'\n"
     ]
    }
   ],
   "source": [
    "bpj.get_sample_events()"
   ]
  },
  {
   "cell_type": "code",
   "execution_count": null,
   "metadata": {},
   "outputs": [],
   "source": []
  }
 ],
 "metadata": {
  "kernelspec": {
   "display_name": "Python 3",
   "language": "python",
   "name": "python3"
  },
  "language_info": {
   "codemirror_mode": {
    "name": "ipython",
    "version": 3
   },
   "file_extension": ".py",
   "mimetype": "text/x-python",
   "name": "python",
   "nbconvert_exporter": "python",
   "pygments_lexer": "ipython3",
   "version": "3.11.8"
  }
 },
 "nbformat": 4,
 "nbformat_minor": 2
}
