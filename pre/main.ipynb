{
 "cells": [
  {
   "cell_type": "markdown",
   "id": "447926d0-64da-40f5-827e-cd2889d5c03e",
   "metadata": {},
   "source": [
    "Bitswan Gitops Webhook Pipeline\n",
    "-------------------------------\n",
    "\n",
    "This pipeline allows you to easilly deploy Bitswan pipelines to any server. You just need to POST to the webhook in your CI and your pipelines will be running in no time.\n",
    "\n",
    "To install bitswan you need to initialize a git repository on your server/the place you want to run your bitswan installation and run the bitswan-pre docker image with the following ENV vars set:\n",
    "\n",
    "- `BS_WEBHOOK_PORT` - defaults to 8080\n",
    "- `BS_WEBHOOK_SECRET` - A secret that will be added to your webhook URL. To deploy post `{\"action\": \"deploy-git\"}` to the URL `https://localhost:<BS_WEBHOOK_PORT>/?secret=<BS_WEBHOOK_SECRET>`\n",
    "- `BS_BITSWAN_DIR` - The directory where your `bitswan.yaml` file resides. Should be in a checked out git repository. Defaults to `/mnt/repo/bitswan`.\n",
    "\n",
    "Simply adding the following curl command to your CI/CD pipeline should be enough to automatically deploy your data machines:\n",
    "\n",
    "```\n",
    "curl -X POST \"https://<WEBHOOK_URL>:<BS_WEBHOOK_PORT>/?secret=<BS_WEBHOOK_SECRET>\" -d '{\"action\": \"deploy-git\"}'\n",
    "```"
   ]
  },
  {
   "cell_type": "code",
   "execution_count": 1,
   "id": "4680223b",
   "metadata": {},
   "outputs": [],
   "source": [
    "from bspump.jupyter import *\n",
    "import bspump.http.web.source\n",
    "import bspump.common\n",
    "import time\n",
    "import json\n",
    "import os\n",
    "import asyncio\n",
    "import yaml\n",
    "import datetime\n",
    "from dockerfile_parse import DockerfileParser\n",
    "import docker\n",
    "import subprocess"
   ]
  },
  {
   "cell_type": "code",
   "execution_count": 2,
   "id": "f5fd3c76-2f57-4957-b0e3-6328e31fab62",
   "metadata": {},
   "outputs": [],
   "source": [
    "new_pipeline(\"BitswanGitopsWebHookPipeline\")"
   ]
  },
  {
   "cell_type": "code",
   "execution_count": 3,
   "id": "979fee55-b7e1-47ab-94f3-904dea5890f5",
   "metadata": {},
   "outputs": [],
   "source": [
    "@register_source\n",
    "def source(app, pipeline):\n",
    "   return bspump.http.web.source.WebHookSource(\n",
    "       app,\n",
    "       pipeline,\n",
    "       config = {\n",
    "           \"port\": int(os.environ.get(\"BS_WEBHOOK_PORT\", 8080)),\n",
    "           \"path\": \"/\",\n",
    "           \"secret_qparam\": os.environ.get(\"BS_WEBHOOK_SECRET\", \"not-secure\")\n",
    "       })"
   ]
  },
  {
   "cell_type": "code",
   "execution_count": 4,
   "id": "ee957c39-5d6e-4bc4-90ec-cd1a3ff6dca4",
   "metadata": {},
   "outputs": [],
   "source": [
    "sample_events([\n",
    "    b\"\"\"{\"action\": \"deploy-git\"}\"\"\"\n",
    "])"
   ]
  },
  {
   "cell_type": "code",
   "execution_count": 5,
   "id": "67e91027-d95c-41ec-9377-991ce5925c86",
   "metadata": {},
   "outputs": [
    {
     "name": "stdout",
     "output_type": "stream",
     "text": [
      "{'action': 'deploy-git'}\n"
     ]
    }
   ],
   "source": [
    "@step\n",
    "def parse_json(event):\n",
    "    return json.loads(event)"
   ]
  },
  {
   "cell_type": "code",
   "execution_count": 6,
   "id": "fba255d4-376e-4905-8ec1-15e32cbf36de",
   "metadata": {},
   "outputs": [
    {
     "name": "stdout",
     "output_type": "stream",
     "text": [
      "/mnt/repo/bitswan\n"
     ]
    }
   ],
   "source": [
    "@step\n",
    "def get_bitswan_dir(event):\n",
    "    return os.environ.get(\"BS_BITSWAN_DIR\", \"/mnt/repo/bitswan\")"
   ]
  },
  {
   "cell_type": "code",
   "execution_count": 7,
   "id": "74a2764f-c183-4f60-9374-04add7c72b60",
   "metadata": {},
   "outputs": [],
   "source": [
    "sample_events([\"/Users/lukasvecerka/Work/BitSwan/Scripts/dockerfile_test/machines\"])"
   ]
  },
  {
   "cell_type": "code",
   "execution_count": 8,
   "id": "82dbe90b-9128-490d-8c09-33cf02caf240",
   "metadata": {},
   "outputs": [
    {
     "name": "stdout",
     "output_type": "stream",
     "text": [
      "Pulling in new changes.\n",
      "Done pulling in changes.\n",
      "/Users/lukasvecerka/Work/BitSwan/Scripts/dockerfile_test/machines\n"
     ]
    },
    {
     "name": "stderr",
     "output_type": "stream",
     "text": [
      "There is no tracking information for the current branch.\n",
      "Please specify which branch you want to merge with.\n",
      "See git-pull(1) for details.\n",
      "\n",
      "    git pull <remote> <branch>\n",
      "\n",
      "If you wish to set tracking information for this branch you can do so with:\n",
      "\n",
      "    git branch --set-upstream-to=<remote>/<branch> main\n",
      "\n"
     ]
    }
   ],
   "source": [
    "@async_step\n",
    "async def git_pull(inject, bitswan_dir):\n",
    "    print(\"Pulling in new changes.\")\n",
    "    git_repo_root = os.path.abspath(bitswan_dir)  # Convert to absolute path\n",
    "\n",
    "    while git_repo_root != os.path.dirname(git_repo_root):  # Check until the root of the file system\n",
    "        if os.path.isdir(os.path.join(git_repo_root, '.git')):\n",
    "            break  # Return the path if .git directory is found\n",
    "        git_repo_root = os.path.dirname(git_repo_root)  # Move up one directory level\n",
    "\n",
    "    await asyncio.create_subprocess_exec(\"git\", \"config\", \"--global\", \"--add\", \"safe.directory\", git_repo_root) \n",
    "    await asyncio.create_subprocess_exec(\"git\", \"config\", \"pull.rebase\", \"false\", cwd=bitswan_dir) \n",
    "    await asyncio.create_subprocess_exec(\"git\", \"pull\", cwd=bitswan_dir)\n",
    "    print(\"Done pulling in changes.\")\n",
    "    await inject(bitswan_dir)"
   ]
  },
  {
   "cell_type": "code",
   "execution_count": 9,
   "id": "b50f90d1-3e99-4f3a-8b5f-482dba943e1c",
   "metadata": {},
   "outputs": [
    {
     "name": "stdout",
     "output_type": "stream",
     "text": [
      "('/Users/lukasvecerka/Work/BitSwan/Scripts/dockerfile_test/machines', {'env-dir': '/etc/bitswan-secrets/', 'data-machines': {'test1': {'source': 'test1', 'network_mode': 'host'}, 'test2': {'source': 'test2', 'network_mode': 'host'}}})\n"
     ]
    }
   ],
   "source": [
    "@step\n",
    "def load_bitswan_yaml(bitswan_dir):\n",
    "    dmy = yaml.full_load(open(os.path.join(bitswan_dir, \"bitswan.yaml\")))\n",
    "    return (bitswan_dir, dmy)"
   ]
  },
  {
   "cell_type": "code",
   "execution_count": 10,
   "id": "b11ced64",
   "metadata": {},
   "outputs": [],
   "source": [
    "def get_deployment_info(client, deployment_ids):\n",
    "    deployment_info = {}\n",
    "    for id in deployment_ids:\n",
    "        deployment_info[id] = {\n",
    "            \"deployment_id\": id,\n",
    "            \"running\": False,\n",
    "            \"container\": None,\n",
    "            \"recreate\": False,\n",
    "            \"build_commit\": None\n",
    "        }\n",
    "\n",
    "    for container in client.containers.list():\n",
    "        container_envs = dict(var.split('=', 1) for var in container.attrs['Config']['Env'])\n",
    "        deployment_id = container_envs.get('DEPLOYMENT_ID')\n",
    "        if deployment_id in deployment_ids:\n",
    "            deployment_info[deployment_id][\"running\"] = True\n",
    "            deployment_info[deployment_id][\"container\"] = container\n",
    "            deployment_info[deployment_id][\"build_commit\"] = container.attrs['Config']['Labels']['built.from']\n",
    "    return deployment_info"
   ]
  },
  {
   "cell_type": "code",
   "execution_count": 27,
   "id": "ee51b1b2",
   "metadata": {},
   "outputs": [],
   "source": [
    "def get_current_commit(path):\n",
    "    try:\n",
    "        commit_hash = subprocess.check_output(['git', 'rev-parse', 'HEAD'], text=True, cwd=path).strip()\n",
    "        return commit_hash\n",
    "    except subprocess.CalledProcessError as e:\n",
    "        print(f\"Error obtaining current Git commit: {e}\")\n",
    "        return None"
   ]
  },
  {
   "cell_type": "code",
   "execution_count": 30,
   "id": "ff25cfd5",
   "metadata": {},
   "outputs": [],
   "source": [
    "def pump_folder_changed(last_commit, pump_path):\n",
    "    result = subprocess.run(['git', 'diff', '--name-only', last_commit, 'HEAD', pump_path], stdout=asyncio.subprocess.PIPE, text=True, cwd=pump_path)\n",
    "\n",
    "    return bool(result.stdout.strip())"
   ]
  },
  {
   "cell_type": "code",
   "execution_count": 13,
   "id": "8a5ac843",
   "metadata": {},
   "outputs": [],
   "source": [
    "def parse_dockerfile(parser, dockerfile_path, envs):\n",
    "    with open(dockerfile_path, 'r') as f:\n",
    "        parser.content = f.read()\n",
    "    copy_statements = [instr for instr in parser.structure if instr['instruction'] in ['COPY', 'ADD']]\n",
    "\n",
    "    files = []\n",
    "    for copy_statement in copy_statements:\n",
    "        files.extend(copy_statement['value'].split()[:-1])\n",
    "\n",
    "    resolved_file_list = []\n",
    "\n",
    "    for file in files:\n",
    "        for env_var, value in envs.items():\n",
    "            if env_var in file:\n",
    "                file = file.replace(f'${{{env_var}}}', value).replace(f'${env_var}', value)\n",
    "                if '$' in file:\n",
    "                    continue\n",
    "        \n",
    "        resolved_file_list.append(file)\n",
    "    \n",
    "    return resolved_file_list"
   ]
  },
  {
   "cell_type": "code",
   "execution_count": 29,
   "id": "dcadb9bd",
   "metadata": {},
   "outputs": [],
   "source": [
    "def pump_dependencies_changed(commit: str, files: list, paths: tuple[str, str]) -> bool:\n",
    "    changes = []\n",
    "    for file in files:\n",
    "        if file.startswith('./'):\n",
    "            file_path = os.path.join(paths[0], file[2:])\n",
    "        elif file.startswith('../'):\n",
    "            file_path = os.path.join(paths[1], file[3:])\n",
    "        else:\n",
    "            file_path = os.path.join(paths[1], file)\n",
    "        \n",
    "        result = subprocess.run(['git', 'diff', '--name-only', commit, file_path], \n",
    "                                stdout=subprocess.PIPE, text=True, cwd=paths[1])\n",
    "        if result.stdout.strip():\n",
    "            changes.append(file)\n",
    "\n",
    "    return bool(changes)"
   ]
  },
  {
   "cell_type": "code",
   "execution_count": 33,
   "id": "1157f02b",
   "metadata": {},
   "outputs": [
    {
     "name": "stdout",
     "output_type": "stream",
     "text": [
      "{'test1': {'deployment_id': 'test1', 'running': True, 'container': <Container: 6599cf25e2b2>, 'recreate': False, 'build_commit': '3b6131368965012c0377a8d8626ebcd13fe53819'}, 'test2': {'deployment_id': 'test2', 'running': True, 'container': <Container: cea735cd0782>, 'recreate': True, 'build_commit': '214b6a0f7d4dab3d809bfed23b97340d7c690be3'}}\n",
      "('/Users/lukasvecerka/Work/BitSwan/Scripts/dockerfile_test/machines', {'env-dir': '/etc/bitswan-secrets/', 'data-machines': {'test1': {'source': 'test1', 'network_mode': 'host'}, 'test2': {'source': 'test2', 'network_mode': 'host'}}}, {'test1': {'deployment_id': 'test1', 'running': True, 'container': <Container: 6599cf25e2b2>, 'recreate': False, 'build_commit': '3b6131368965012c0377a8d8626ebcd13fe53819'}, 'test2': {'deployment_id': 'test2', 'running': True, 'container': <Container: cea735cd0782>, 'recreate': True, 'build_commit': '214b6a0f7d4dab3d809bfed23b97340d7c690be3'}})\n"
     ]
    }
   ],
   "source": [
    "@step\n",
    "def container_management(event):\n",
    "    bitswan_dir, dmy = event\n",
    "    dockerfile_parser = DockerfileParser()\n",
    "    docker_client = docker.from_env()\n",
    "\n",
    "    deployment_info = get_deployment_info(docker_client, dmy[\"data-machines\"].keys())\n",
    "    \n",
    "    for deployment_id, info in deployment_info.items():\n",
    "        # if running check if something changed\n",
    "        if info[\"running\"]:\n",
    "            pump_path = os.path.join(bitswan_dir, dmy[\"data-machines\"][deployment_id][\"source\"])\n",
    "            dockerfile_path = os.path.join(pump_path, \"Dockerfile\")\n",
    "\n",
    "            # check if pump folder changed\n",
    "            if pump_folder_changed(info[\"build_commit\"], pump_path):\n",
    "                info[\"recreate\"] = True\n",
    "                info[\"build_commit\"] = get_current_commit(bitswan_dir)\n",
    "                continue\n",
    "            \n",
    "            # check if pump's dependencies changed\n",
    "            container_envs = dict(var.split('=', 1) for var in info[\"container\"].attrs['Config']['Env'])\n",
    "            pump_dependencies = parse_dockerfile(dockerfile_parser, dockerfile_path, container_envs)\n",
    "\n",
    "            if pump_dependencies_changed(info[\"build_commit\"], pump_dependencies, (pump_path, bitswan_dir)):\n",
    "                info[\"recreate\"] = True\n",
    "                info[\"build_commit\"] = get_current_commit(bitswan_dir)\n",
    "\n",
    "        else:\n",
    "            info[\"recreate\"] = True\n",
    "            info[\"build_commit\"] = get_current_commit(bitswan_dir)\n",
    "    print(deployment_info)\n",
    "    return (bitswan_dir, dmy, deployment_info)"
   ]
  },
  {
   "cell_type": "code",
   "execution_count": 34,
   "id": "7aa05873-a827-4f7d-b26c-3f9a63ba366a",
   "metadata": {},
   "outputs": [
    {
     "name": "stdout",
     "output_type": "stream",
     "text": [
      "networks: {}\n",
      "services:\n",
      "  test1:\n",
      "    build:\n",
      "      args:\n",
      "        DATA_MACHINE_SOURCE_PATH: test1\n",
      "      context: /Users/lukasvecerka/Work/BitSwan/Scripts/dockerfile_test/machines\n",
      "      dockerfile: /Users/lukasvecerka/Work/BitSwan/Scripts/dockerfile_test/machines/test1/Dockerfile\n",
      "    environment:\n",
      "      DEPLOYMENT_ID: test1\n",
      "    labels:\n",
      "      built.from: 3b6131368965012c0377a8d8626ebcd13fe53819\n",
      "    network_mode: host\n",
      "  test2:\n",
      "    build:\n",
      "      args:\n",
      "        DATA_MACHINE_SOURCE_PATH: test2\n",
      "      context: /Users/lukasvecerka/Work/BitSwan/Scripts/dockerfile_test/machines\n",
      "      dockerfile: /Users/lukasvecerka/Work/BitSwan/Scripts/dockerfile_test/machines/test2/Dockerfile\n",
      "    environment:\n",
      "      DEPLOYMENT_ID: test2\n",
      "    labels:\n",
      "      built.from: 214b6a0f7d4dab3d809bfed23b97340d7c690be3\n",
      "    network_mode: host\n",
      "version: '3'\n",
      "\n",
      "('/Users/lukasvecerka/Work/BitSwan/Scripts/dockerfile_test/machines', \"networks: {}\\nservices:\\n  test1:\\n    build:\\n      args:\\n        DATA_MACHINE_SOURCE_PATH: test1\\n      context: /Users/lukasvecerka/Work/BitSwan/Scripts/dockerfile_test/machines\\n      dockerfile: /Users/lukasvecerka/Work/BitSwan/Scripts/dockerfile_test/machines/test1/Dockerfile\\n    environment:\\n      DEPLOYMENT_ID: test1\\n    labels:\\n      built.from: 3b6131368965012c0377a8d8626ebcd13fe53819\\n    network_mode: host\\n  test2:\\n    build:\\n      args:\\n        DATA_MACHINE_SOURCE_PATH: test2\\n      context: /Users/lukasvecerka/Work/BitSwan/Scripts/dockerfile_test/machines\\n      dockerfile: /Users/lukasvecerka/Work/BitSwan/Scripts/dockerfile_test/machines/test2/Dockerfile\\n    environment:\\n      DEPLOYMENT_ID: test2\\n    labels:\\n      built.from: 214b6a0f7d4dab3d809bfed23b97340d7c690be3\\n    network_mode: host\\nversion: '3'\\n\", {'test1': {'deployment_id': 'test1', 'running': True, 'container': <Container: 6599cf25e2b2>, 'recreate': False, 'build_commit': '3b6131368965012c0377a8d8626ebcd13fe53819'}, 'test2': {'deployment_id': 'test2', 'running': True, 'container': <Container: cea735cd0782>, 'recreate': True, 'build_commit': '214b6a0f7d4dab3d809bfed23b97340d7c690be3'}})\n"
     ]
    }
   ],
   "source": [
    "@step\n",
    "def generate_docker_compose(event):\n",
    "    (bitswan_dir, bitswan_yaml, deployment_info) = event\n",
    "    dc = {\n",
    "        \"version\": \"3\",\n",
    "        \"services\": {},\n",
    "        \"networks\": {}\n",
    "    }\n",
    "    for network in bitswan_yaml.get(\"default-networks\", []):\n",
    "        dc[\"networks\"][network] = {\"external\": True}\n",
    "    for deployment_id, conf in bitswan_yaml[\"data-machines\"].items():\n",
    "        entry = {}\n",
    "        deployment = deployment_info[deployment_id]\n",
    "        entry[\"environment\"] = {\"DEPLOYMENT_ID\": deployment_id}\n",
    "        entry[\"labels\"] = {\"built.from\": deployment[\"build_commit\"]}\n",
    "        if \"env-dir\" in bitswan_yaml:\n",
    "           env_file = os.path.join(bitswan_yaml[\"env-dir\"], deployment_id)\n",
    "           if os.path.exists(env_file):\n",
    "               entry[\"env_file\"] = [env_file]\n",
    "        if \"default-networks\" in bitswan_yaml:\n",
    "            entry[\"networks\"] = bitswan_yaml[\"default-networks\"].copy()\n",
    "        dc[\"services\"][deployment_id] = entry\n",
    "        source = conf.get(\"source\", deployment_id)\n",
    "        data_machine_dir = os.path.join(bitswan_dir, source)\n",
    "        dockerfile_path = \"Dockerfile\"\n",
    "        entry[\"build\"] = {\n",
    "            \"dockerfile\": os.path.join(data_machine_dir, dockerfile_path),\n",
    "            \"context\": bitswan_dir,\n",
    "            \"args\": {\n",
    "                \"DATA_MACHINE_SOURCE_PATH\": source,\n",
    "            }\n",
    "        }\n",
    "        passthroughs = [\"volumes\", \"network_mode\", \"ports\", \"restart\", \"devices\", \"container_name\", ]\n",
    "        for passthrough in passthroughs:\n",
    "            if passthrough in conf:\n",
    "              entry[passthrough] = conf[passthrough]\n",
    "    dc_yaml = yaml.dump(dc)\n",
    "    print(dc_yaml)\n",
    "    return (bitswan_dir, dc_yaml, deployment_info)"
   ]
  },
  {
   "cell_type": "code",
   "execution_count": 35,
   "id": "61a95fcc-448c-4a01-85d6-97bfdbcd8648",
   "metadata": {},
   "outputs": [
    {
     "ename": "KeyboardInterrupt",
     "evalue": "",
     "output_type": "error",
     "traceback": [
      "\u001b[0;31m---------------------------------------------------------------------------\u001b[0m",
      "\u001b[0;31mKeyboardInterrupt\u001b[0m                         Traceback (most recent call last)",
      "Cell \u001b[0;32mIn[35], line 2\u001b[0m\n\u001b[1;32m      1\u001b[0m \u001b[38;5;129;43m@async_step\u001b[39;49m\n\u001b[0;32m----> 2\u001b[0m \u001b[38;5;28;43;01masync\u001b[39;49;00m\u001b[43m \u001b[49m\u001b[38;5;28;43;01mdef\u001b[39;49;00m\u001b[43m \u001b[49m\u001b[38;5;21;43mdocker_compose_up_daemon\u001b[39;49m\u001b[43m(\u001b[49m\u001b[43minject\u001b[49m\u001b[43m,\u001b[49m\u001b[43m \u001b[49m\u001b[43mevent\u001b[49m\u001b[43m)\u001b[49m\u001b[43m:\u001b[49m\n\u001b[1;32m      3\u001b[0m \u001b[43m    \u001b[49m\u001b[43m(\u001b[49m\u001b[43mbitswan_dir\u001b[49m\u001b[43m,\u001b[49m\u001b[43m \u001b[49m\u001b[43mdocker_compose_yaml\u001b[49m\u001b[43m,\u001b[49m\u001b[43m \u001b[49m\u001b[43mdeployment_info\u001b[49m\u001b[43m)\u001b[49m\u001b[43m \u001b[49m\u001b[38;5;241;43m=\u001b[39;49m\u001b[43m \u001b[49m\u001b[43mevent\u001b[49m\n\u001b[1;32m      4\u001b[0m \u001b[43m    \u001b[49m\u001b[43mservices_to_recreate\u001b[49m\u001b[43m \u001b[49m\u001b[38;5;241;43m=\u001b[39;49m\u001b[43m \u001b[49m\u001b[43m[\u001b[49m\u001b[43mservice\u001b[49m\u001b[43m \u001b[49m\u001b[38;5;28;43;01mfor\u001b[39;49;00m\u001b[43m \u001b[49m\u001b[43mservice\u001b[49m\u001b[43m,\u001b[49m\u001b[43m \u001b[49m\u001b[43minfo\u001b[49m\u001b[43m \u001b[49m\u001b[38;5;129;43;01min\u001b[39;49;00m\u001b[43m \u001b[49m\u001b[43mdeployment_info\u001b[49m\u001b[38;5;241;43m.\u001b[39;49m\u001b[43mitems\u001b[49m\u001b[43m(\u001b[49m\u001b[43m)\u001b[49m\u001b[43m \u001b[49m\u001b[38;5;28;43;01mif\u001b[39;49;00m\u001b[43m \u001b[49m\u001b[43minfo\u001b[49m\u001b[43m[\u001b[49m\u001b[38;5;124;43m\"\u001b[39;49m\u001b[38;5;124;43mrecreate\u001b[39;49m\u001b[38;5;124;43m\"\u001b[39;49m\u001b[43m]\u001b[49m\u001b[43m]\u001b[49m\n",
      "File \u001b[0;32m~/Work/BitSwan/Product/BitSwan/bspump/jupyter.py:322\u001b[0m, in \u001b[0;36masync_step\u001b[0;34m(func)\u001b[0m\n\u001b[1;32m    319\u001b[0m     \u001b[38;5;28;01mreturn\u001b[39;00m CustomGenerator(app, pipeline)\n\u001b[1;32m    321\u001b[0m generator\u001b[38;5;241m.\u001b[39m\u001b[38;5;18m__name__\u001b[39m \u001b[38;5;241m=\u001b[39m func\u001b[38;5;241m.\u001b[39m\u001b[38;5;18m__name__\u001b[39m\n\u001b[0;32m--> 322\u001b[0m \u001b[43mregister_generator\u001b[49m\u001b[43m(\u001b[49m\u001b[43mgenerator\u001b[49m\u001b[43m)\u001b[49m\n",
      "File \u001b[0;32m~/Work/BitSwan/Product/BitSwan/bspump/jupyter.py:256\u001b[0m, in \u001b[0;36mregister_generator\u001b[0;34m(func)\u001b[0m\n\u001b[1;32m    253\u001b[0m     task \u001b[38;5;241m=\u001b[39m asyncio\u001b[38;5;241m.\u001b[39mensure_future(_fn())\n\u001b[1;32m    254\u001b[0m     loop\u001b[38;5;241m.\u001b[39mrun_until_complete(task)\n\u001b[0;32m--> 256\u001b[0m \u001b[43mwrapper\u001b[49m\u001b[43m(\u001b[49m\u001b[43m)\u001b[49m\n\u001b[1;32m    257\u001b[0m \u001b[38;5;28;01mreturn\u001b[39;00m _fn\n",
      "File \u001b[0;32m~/Work/BitSwan/Product/BitSwan/bspump/jupyter.py:254\u001b[0m, in \u001b[0;36mregister_generator.<locals>.wrapper\u001b[0;34m(*args, **kwargs)\u001b[0m\n\u001b[1;32m    252\u001b[0m loop \u001b[38;5;241m=\u001b[39m asyncio\u001b[38;5;241m.\u001b[39mget_event_loop()\n\u001b[1;32m    253\u001b[0m task \u001b[38;5;241m=\u001b[39m asyncio\u001b[38;5;241m.\u001b[39mensure_future(_fn())\n\u001b[0;32m--> 254\u001b[0m \u001b[43mloop\u001b[49m\u001b[38;5;241;43m.\u001b[39;49m\u001b[43mrun_until_complete\u001b[49m\u001b[43m(\u001b[49m\u001b[43mtask\u001b[49m\u001b[43m)\u001b[49m\n",
      "File \u001b[0;32m~/miniforge3/envs/bspumptest/lib/python3.10/site-packages/nest_asyncio.py:93\u001b[0m, in \u001b[0;36m_patch_loop.<locals>.run_until_complete\u001b[0;34m(self, future)\u001b[0m\n\u001b[1;32m     91\u001b[0m     f\u001b[38;5;241m.\u001b[39m_log_destroy_pending \u001b[38;5;241m=\u001b[39m \u001b[38;5;28;01mFalse\u001b[39;00m\n\u001b[1;32m     92\u001b[0m \u001b[38;5;28;01mwhile\u001b[39;00m \u001b[38;5;129;01mnot\u001b[39;00m f\u001b[38;5;241m.\u001b[39mdone():\n\u001b[0;32m---> 93\u001b[0m     \u001b[38;5;28;43mself\u001b[39;49m\u001b[38;5;241;43m.\u001b[39;49m\u001b[43m_run_once\u001b[49m\u001b[43m(\u001b[49m\u001b[43m)\u001b[49m\n\u001b[1;32m     94\u001b[0m     \u001b[38;5;28;01mif\u001b[39;00m \u001b[38;5;28mself\u001b[39m\u001b[38;5;241m.\u001b[39m_stopping:\n\u001b[1;32m     95\u001b[0m         \u001b[38;5;28;01mbreak\u001b[39;00m\n",
      "File \u001b[0;32m~/miniforge3/envs/bspumptest/lib/python3.10/site-packages/nest_asyncio.py:116\u001b[0m, in \u001b[0;36m_patch_loop.<locals>._run_once\u001b[0;34m(self)\u001b[0m\n\u001b[1;32m    109\u001b[0m     heappop(scheduled)\n\u001b[1;32m    111\u001b[0m timeout \u001b[38;5;241m=\u001b[39m (\n\u001b[1;32m    112\u001b[0m     \u001b[38;5;241m0\u001b[39m \u001b[38;5;28;01mif\u001b[39;00m ready \u001b[38;5;129;01mor\u001b[39;00m \u001b[38;5;28mself\u001b[39m\u001b[38;5;241m.\u001b[39m_stopping\n\u001b[1;32m    113\u001b[0m     \u001b[38;5;28;01melse\u001b[39;00m \u001b[38;5;28mmin\u001b[39m(\u001b[38;5;28mmax\u001b[39m(\n\u001b[1;32m    114\u001b[0m         scheduled[\u001b[38;5;241m0\u001b[39m]\u001b[38;5;241m.\u001b[39m_when \u001b[38;5;241m-\u001b[39m \u001b[38;5;28mself\u001b[39m\u001b[38;5;241m.\u001b[39mtime(), \u001b[38;5;241m0\u001b[39m), \u001b[38;5;241m86400\u001b[39m) \u001b[38;5;28;01mif\u001b[39;00m scheduled\n\u001b[1;32m    115\u001b[0m     \u001b[38;5;28;01melse\u001b[39;00m \u001b[38;5;28;01mNone\u001b[39;00m)\n\u001b[0;32m--> 116\u001b[0m event_list \u001b[38;5;241m=\u001b[39m \u001b[38;5;28;43mself\u001b[39;49m\u001b[38;5;241;43m.\u001b[39;49m\u001b[43m_selector\u001b[49m\u001b[38;5;241;43m.\u001b[39;49m\u001b[43mselect\u001b[49m\u001b[43m(\u001b[49m\u001b[43mtimeout\u001b[49m\u001b[43m)\u001b[49m\n\u001b[1;32m    117\u001b[0m \u001b[38;5;28mself\u001b[39m\u001b[38;5;241m.\u001b[39m_process_events(event_list)\n\u001b[1;32m    119\u001b[0m end_time \u001b[38;5;241m=\u001b[39m \u001b[38;5;28mself\u001b[39m\u001b[38;5;241m.\u001b[39mtime() \u001b[38;5;241m+\u001b[39m \u001b[38;5;28mself\u001b[39m\u001b[38;5;241m.\u001b[39m_clock_resolution\n",
      "File \u001b[0;32m~/miniforge3/envs/bspumptest/lib/python3.10/selectors.py:562\u001b[0m, in \u001b[0;36mKqueueSelector.select\u001b[0;34m(self, timeout)\u001b[0m\n\u001b[1;32m    560\u001b[0m ready \u001b[38;5;241m=\u001b[39m []\n\u001b[1;32m    561\u001b[0m \u001b[38;5;28;01mtry\u001b[39;00m:\n\u001b[0;32m--> 562\u001b[0m     kev_list \u001b[38;5;241m=\u001b[39m \u001b[38;5;28;43mself\u001b[39;49m\u001b[38;5;241;43m.\u001b[39;49m\u001b[43m_selector\u001b[49m\u001b[38;5;241;43m.\u001b[39;49m\u001b[43mcontrol\u001b[49m\u001b[43m(\u001b[49m\u001b[38;5;28;43;01mNone\u001b[39;49;00m\u001b[43m,\u001b[49m\u001b[43m \u001b[49m\u001b[43mmax_ev\u001b[49m\u001b[43m,\u001b[49m\u001b[43m \u001b[49m\u001b[43mtimeout\u001b[49m\u001b[43m)\u001b[49m\n\u001b[1;32m    563\u001b[0m \u001b[38;5;28;01mexcept\u001b[39;00m \u001b[38;5;167;01mInterruptedError\u001b[39;00m:\n\u001b[1;32m    564\u001b[0m     \u001b[38;5;28;01mreturn\u001b[39;00m ready\n",
      "\u001b[0;31mKeyboardInterrupt\u001b[0m: "
     ]
    }
   ],
   "source": [
    "@async_step\n",
    "async def docker_compose_up_daemon(inject, event):\n",
    "    (bitswan_dir, docker_compose_yaml, deployment_info) = event\n",
    "    services_to_recreate = [service for service, info in deployment_info.items() if info[\"recreate\"]]\n",
    "\n",
    "    cmd = [\"docker-compose\", \"-f\", \"/dev/stdin\", \"build\", \"--pull\", \" \".join(services_to_recreate)]\n",
    "\n",
    "    # Create a subprocess with stdin pipe\n",
    "    proc = await asyncio.create_subprocess_exec(\n",
    "        *cmd, \n",
    "        stdin=asyncio.subprocess.PIPE, \n",
    "        stdout=asyncio.subprocess.PIPE, \n",
    "        stderr=asyncio.subprocess.PIPE,\n",
    "        cwd=bitswan_dir\n",
    "    )\n",
    "\n",
    "    # Send docker_compose_yaml as input to the process and wait for completion\n",
    "    stdout, stderr = await proc.communicate(input=docker_compose_yaml.encode())\n",
    "\n",
    "    build_result = {\n",
    "        \"cmd\": cmd,\n",
    "        \"stdout\": stdout.decode(\"utf-8\"),\n",
    "        \"stderr\": stderr.decode(\"utf-8\"),\n",
    "        \"returncode\": proc.returncode,\n",
    "    }\n",
    "    \n",
    "    cmd = [\"docker-compose\", \"-f\", \"/dev/stdin\", \"up\", \"-d\", \" \".join(services_to_recreate)]\n",
    "\n",
    "    # Create a subprocess with stdin pipe\n",
    "    proc = await asyncio.create_subprocess_exec(\n",
    "        *cmd, \n",
    "        stdin=asyncio.subprocess.PIPE, \n",
    "        stdout=asyncio.subprocess.PIPE, \n",
    "        stderr=asyncio.subprocess.PIPE,\n",
    "        cwd=bitswan_dir\n",
    "    )\n",
    "\n",
    "    # Send docker_compose_yaml as input to the process and wait for completion\n",
    "    stdout, stderr = await proc.communicate(input=docker_compose_yaml.encode())\n",
    "\n",
    "    up_result = {\n",
    "        \"cmd\": cmd,\n",
    "        \"stdout\": stdout.decode(\"utf-8\"),\n",
    "        \"stderr\": stderr.decode(\"utf-8\"),\n",
    "        \"returncode\": proc.returncode,\n",
    "    }\n",
    "    event = {\n",
    "        \"@timestamp\": datetime.datetime.now().timestamp(),\n",
    "        \"local-time\": datetime.datetime.now().strftime(\"%Y-%m-%d %H:%M:%S\"),\n",
    "        \"build\": build_result,\n",
    "        \"up\": up_result\n",
    "    }\n",
    "    await inject(event)"
   ]
  },
  {
   "cell_type": "code",
   "execution_count": null,
   "id": "8d9c3673-dab0-4b10-92f1-d8b391ecda4f",
   "metadata": {},
   "outputs": [],
   "source": [
    "@step\n",
    "def serialize_yaml(event):\n",
    "    return yaml.dump(event)"
   ]
  },
  {
   "cell_type": "code",
   "execution_count": null,
   "id": "bfd88fa5-f797-4c23-82ac-117538bb05e2",
   "metadata": {},
   "outputs": [],
   "source": [
    "@register_sink\n",
    "def init_sink(app, pipeline):\n",
    "    return bspump.common.PrintSink(app, pipeline)"
   ]
  },
  {
   "cell_type": "code",
   "execution_count": null,
   "id": "55aced63",
   "metadata": {},
   "outputs": [],
   "source": [
    "end_pipeline()"
   ]
  }
 ],
 "metadata": {
  "kernelspec": {
   "display_name": "Python 3 (ipykernel)",
   "language": "python",
   "name": "python3"
  },
  "language_info": {
   "codemirror_mode": {
    "name": "ipython",
    "version": 3
   },
   "file_extension": ".py",
   "mimetype": "text/x-python",
   "name": "python",
   "nbconvert_exporter": "python",
   "pygments_lexer": "ipython3",
   "version": "3.10.13"
  }
 },
 "nbformat": 4,
 "nbformat_minor": 5
}
