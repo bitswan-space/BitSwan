{
 "cells": [
  {
   "cell_type": "code",
   "execution_count": 1,
   "id": "4680223b",
   "metadata": {},
   "outputs": [],
   "source": [
    "import bspump\n",
    "import time\n",
    "import random\n",
    "import bspump.file\n",
    "from bspump.trigger import PeriodicTrigger\n",
    "from datetime import datetime"
   ]
  },
  {
   "cell_type": "code",
   "execution_count": 2,
   "id": "da9a8807-3f45-47fc-bdbc-e2d7151970a7",
   "metadata": {},
   "outputs": [],
   "source": [
    "class RandomNumberSource(bspump.abc.source.TriggerSource):\n",
    "  async def cycle(self):\n",
    "      # Roll a die and run if the result is 1\n",
    "      if random.randint(1, 6) == 1:\n",
    "        await self.process(random.randint(1, 100))"
   ]
  },
  {
   "cell_type": "code",
   "execution_count": 3,
   "id": "55aced63",
   "metadata": {},
   "outputs": [],
   "source": [
    "class ExampleProcessor(bspump.Processor):\n",
    "     def process(self, context, event):\n",
    "        current_time = datetime.now()\n",
    "        timestamp = current_time.strftime('%Y-%m-%d %H:%M:%S.%f')\n",
    "        # sleep a random amount of time between 1 and 100ms\n",
    "        time.sleep(random.randint(1, 100) / 1000)\n",
    "\n",
    "        event = {\n",
    "            \"timestamp\": timestamp,\n",
    "            \"random_number\": event,\n",
    "            \"squared\": event * event,\n",
    "            \"doubled\": event * 2\n",
    "        }\n",
    "        return event"
   ]
  },
  {
   "cell_type": "code",
   "execution_count": 7,
   "id": "5ecbdd29-1aa8-49e9-a6ed-68c6f6dd147b",
   "metadata": {},
   "outputs": [
    {
     "data": {
      "text/plain": [
       "{'timestamp': '2023-11-20 16:10:50.114359',\n",
       " 'random_number': 3,\n",
       " 'squared': 9,\n",
       " 'doubled': 6}"
      ]
     },
     "execution_count": 7,
     "metadata": {},
     "output_type": "execute_result"
    }
   ],
   "source": [
    "ExampleProcessor.process(None, None, 3)"
   ]
  },
  {
   "cell_type": "code",
   "execution_count": 5,
   "id": "6f588e7a",
   "metadata": {},
   "outputs": [],
   "source": [
    "class ExamplePipeline(bspump.Pipeline):\n",
    "    def __init__(self, app, pipeline_id):\n",
    "        super().__init__(app, pipeline_id)\n",
    "        self.build(\n",
    "            RandomNumberSource(app, self).on(PeriodicTrigger(app, interval=0.05)),\n",
    "            ExampleProcessor(app, self),\n",
    "            bspump.file.FileCSVSink(app, self),\n",
    "        )"
   ]
  },
  {
   "cell_type": "code",
   "execution_count": 6,
   "id": "2c7ce3d6",
   "metadata": {},
   "outputs": [],
   "source": [
    "class App(bspump.BSPumpApplication):\n",
    "    def __init__(self):\n",
    "        super().__init__()\n",
    "        svc = self.get_service(\"bspump.PumpService\")\n",
    "\n",
    "        svc.add_pipeline(ExamplePipeline(self, \"Pipeline\"))\n"
   ]
  }
 ],
 "metadata": {
  "kernelspec": {
   "display_name": "Python 3 (ipykernel)",
   "language": "python",
   "name": "python3"
  },
  "language_info": {
   "codemirror_mode": {
    "name": "ipython",
    "version": 3
   },
   "file_extension": ".py",
   "mimetype": "text/x-python",
   "name": "python",
   "nbconvert_exporter": "python",
   "pygments_lexer": "ipython3",
   "version": "3.11.3"
  }
 },
 "nbformat": 4,
 "nbformat_minor": 5
}
