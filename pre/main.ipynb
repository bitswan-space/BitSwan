{
 "cells": [
  {
   "cell_type": "markdown",
   "id": "447926d0-64da-40f5-827e-cd2889d5c03e",
   "metadata": {},
   "source": [
    "Bitswan Gitops Webhook Pipeline\n",
    "-------------------------------\n",
    "\n",
    "This pipeline allows you to easilly deploy Bitswan pipelines to any server. You just need to POST to the webhook in your CI and your pipelines will be running in no time.\n",
    "\n",
    "To install bitswan you need to initialize a git repository on your server/the place you want to run your bitswan installation and run the bitswan-pre docker image with the following ENV vars set:\n",
    "\n",
    "- `BS_WEBHOOK_PORT` - defaults to 8080\n",
    "- `BS_WEBHOOK_SECRET` - A secret that will be added to your webhook URL. To deploy post `{\"action\": \"deploy-git\"}` to the URL `https://localhost:<BS_WEBHOOK_PORT>/?secret=<BS_WEBHOOK_SECRET>`\n",
    "- `BS_BITSWAN_DIR` - The directory where your `bitswan.yaml` file resides. Should be in a checked out git repository. Defaults to `/mnt/repo/bitswan`.\n",
    "\n",
    "Simply adding the following curl command to your CI/CD pipeline should be enough to automatically deploy your data machines:\n",
    "\n",
    "```\n",
    "curl -X POST \"https://<WEBHOOK_URL>:<BS_WEBHOOK_PORT>/?secret=<BS_WEBHOOK_SECRET>\" -d '{\"action\": \"deploy-git\"}'\n",
    "```"
   ]
  },
  {
   "cell_type": "code",
   "execution_count": 12,
   "id": "4680223b",
   "metadata": {},
   "outputs": [],
   "source": [
    "from bspump.jupyter import *\n",
    "import bspump.http.web.source\n",
    "import bspump.common\n",
    "import time\n",
    "import json\n",
    "import os\n",
    "import asyncio\n",
    "import yaml\n",
    "import datetime"
   ]
  },
  {
   "cell_type": "code",
   "execution_count": 2,
   "id": "f5fd3c76-2f57-4957-b0e3-6328e31fab62",
   "metadata": {},
   "outputs": [],
   "source": [
    "new_pipeline(\"BitswanGitopsWebHookPipeline\")"
   ]
  },
  {
   "cell_type": "code",
   "execution_count": 3,
   "id": "979fee55-b7e1-47ab-94f3-904dea5890f5",
   "metadata": {},
   "outputs": [],
   "source": [
    "@register_source\n",
    "def source(app, pipeline):\n",
    "   return bspump.http.web.source.WebHookSource(\n",
    "       app,\n",
    "       pipeline,\n",
    "       config = {\n",
    "           \"port\": int(os.environ.get(\"BS_WEBHOOK_PORT\", 8080)),\n",
    "           \"path\": \"/\",\n",
    "           \"secret_qparam\": os.environ.get(\"BS_WEBHOOK_SECRET\", \"not-secure\")\n",
    "       })"
   ]
  },
  {
   "cell_type": "code",
   "execution_count": 4,
   "id": "ee957c39-5d6e-4bc4-90ec-cd1a3ff6dca4",
   "metadata": {},
   "outputs": [],
   "source": [
    "sample_events([\n",
    "    b\"\"\"{\"action\": \"deploy-git\"}\"\"\"\n",
    "])"
   ]
  },
  {
   "cell_type": "code",
   "execution_count": 5,
   "id": "67e91027-d95c-41ec-9377-991ce5925c86",
   "metadata": {},
   "outputs": [
    {
     "name": "stdout",
     "output_type": "stream",
     "text": [
      "{'action': 'deploy-git'}\n"
     ]
    }
   ],
   "source": [
    "@step\n",
    "def parse_json(event):\n",
    "    return json.loads(event)"
   ]
  },
  {
   "cell_type": "code",
   "execution_count": 6,
   "id": "fba255d4-376e-4905-8ec1-15e32cbf36de",
   "metadata": {},
   "outputs": [
    {
     "name": "stdout",
     "output_type": "stream",
     "text": [
      "/mnt/repo/bitswan\n"
     ]
    }
   ],
   "source": [
    "@step\n",
    "def get_bitswan_dir(event):\n",
    "    return os.environ.get(\"BS_BITSWAN_DIR\", \"/mnt/repo/bitswan\")"
   ]
  },
  {
   "cell_type": "code",
   "execution_count": 13,
   "id": "74a2764f-c183-4f60-9374-04add7c72b60",
   "metadata": {},
   "outputs": [],
   "source": [
    "sample_events([\"/home/timothy/pr/libertyaces/product/bitswanmonorepo/server-configs/libertyaces/hetzner-1/docker-compose/zabbix-demo\"])"
   ]
  },
  {
   "cell_type": "code",
   "execution_count": 14,
   "id": "82dbe90b-9128-490d-8c09-33cf02caf240",
   "metadata": {},
   "outputs": [
    {
     "name": "stdout",
     "output_type": "stream",
     "text": [
      "Pulling in new changes.\n",
      "Done pulling in changes.\n",
      "/home/timothy/pr/libertyaces/product/bitswanmonorepo/server-configs/libertyaces/hetzner-1/docker-compose/zabbix-demo\n"
     ]
    }
   ],
   "source": [
    "@async_step\n",
    "async def git_pull(inject, bitswan_dir):\n",
    "    print(\"Pulling in new changes.\")\n",
    "    git_repo_root = os.path.abspath(bitswan_dir)  # Convert to absolute path\n",
    "\n",
    "    while git_repo_root != os.path.dirname(git_repo_root):  # Check until the root of the file system\n",
    "        if os.path.isdir(os.path.join(git_repo_root, '.git')):\n",
    "            break  # Return the path if .git directory is found\n",
    "        git_repo_root = os.path.dirname(git_repo_root)  # Move up one directory level\n",
    "\n",
    "    await asyncio.create_subprocess_exec(\"git\", \"config\", \"--global\", \"--add\", \"safe.directory\", git_repo_root) \n",
    "    await asyncio.create_subprocess_exec(\"git\", \"config\", \"pull.rebase\", \"false\", cwd=bitswan_dir) \n",
    "    await asyncio.create_subprocess_exec(\"git\", \"pull\", cwd=bitswan_dir)\n",
    "    print(\"Done pulling in changes.\")\n",
    "    await inject(bitswan_dir)"
   ]
  },
  {
   "cell_type": "code",
   "execution_count": 15,
   "id": "b50f90d1-3e99-4f3a-8b5f-482dba943e1c",
   "metadata": {},
   "outputs": [
    {
     "name": "stdout",
     "output_type": "stream",
     "text": [
      "('/home/timothy/pr/libertyaces/product/bitswanmonorepo/server-configs/libertyaces/hetzner-1/docker-compose/zabbix-demo', {'env-dir': '/etc/bitswan-secrets/', 'default-networks': ['default'], 'data-machines': {'demo-zabbix-demo-loader': {'volumes': ['/mnt/data/zabbix-demo/:/data/'], 'source': 'zabbix-demo-loader'}, 'demo-zabbix-cleaner': {'source': 'zabbix-cleaner'}, 'demo-zabbix-analyzer': {'source': 'zabbix-analyzer'}, 'demo-zabbix-shoveler': {'source': 'zabbix-shoveler'}}})\n",
      "Already up to date.\n"
     ]
    }
   ],
   "source": [
    "@step\n",
    "def load_bitswan_yaml(bitswan_dir):\n",
    "    dmy = yaml.full_load(open(os.path.join(bitswan_dir, \"bitswan.yaml\")))\n",
    "    return (bitswan_dir, dmy)"
   ]
  },
  {
   "cell_type": "code",
   "execution_count": 17,
   "id": "7aa05873-a827-4f7d-b26c-3f9a63ba366a",
   "metadata": {},
   "outputs": [
    {
     "name": "stdout",
     "output_type": "stream",
     "text": [
      "services:\n",
      "  demo-zabbix-analyzer:\n",
      "    build:\n",
      "      args:\n",
      "        DATA_MACHINE_SOURCE_PATH: zabbix-analyzer\n",
      "      context: /home/timothy/pr/libertyaces/product/bitswanmonorepo/server-configs/libertyaces/hetzner-1/docker-compose/zabbix-demo\n",
      "      dockerfile: /home/timothy/pr/libertyaces/product/bitswanmonorepo/server-configs/libertyaces/hetzner-1/docker-compose/zabbix-demo/zabbix-analyzer/Dockerfile\n",
      "    environment:\n",
      "      DEPLOYMENT_ID: demo-zabbix-analyzer\n",
      "    networks:\n",
      "    - default\n",
      "  demo-zabbix-cleaner:\n",
      "    build:\n",
      "      args:\n",
      "        DATA_MACHINE_SOURCE_PATH: zabbix-cleaner\n",
      "      context: /home/timothy/pr/libertyaces/product/bitswanmonorepo/server-configs/libertyaces/hetzner-1/docker-compose/zabbix-demo\n",
      "      dockerfile: /home/timothy/pr/libertyaces/product/bitswanmonorepo/server-configs/libertyaces/hetzner-1/docker-compose/zabbix-demo/zabbix-cleaner/Dockerfile\n",
      "    environment:\n",
      "      DEPLOYMENT_ID: demo-zabbix-cleaner\n",
      "    networks:\n",
      "    - default\n",
      "  demo-zabbix-demo-loader:\n",
      "    build:\n",
      "      args:\n",
      "        DATA_MACHINE_SOURCE_PATH: zabbix-demo-loader\n",
      "      context: /home/timothy/pr/libertyaces/product/bitswanmonorepo/server-configs/libertyaces/hetzner-1/docker-compose/zabbix-demo\n",
      "      dockerfile: /home/timothy/pr/libertyaces/product/bitswanmonorepo/server-configs/libertyaces/hetzner-1/docker-compose/zabbix-demo/zabbix-demo-loader/Dockerfile\n",
      "    environment:\n",
      "      DEPLOYMENT_ID: demo-zabbix-demo-loader\n",
      "    networks:\n",
      "    - default\n",
      "    volumes:\n",
      "    - /mnt/data/zabbix-demo/:/data/\n",
      "  demo-zabbix-shoveler:\n",
      "    build:\n",
      "      args:\n",
      "        DATA_MACHINE_SOURCE_PATH: zabbix-shoveler\n",
      "      context: /home/timothy/pr/libertyaces/product/bitswanmonorepo/server-configs/libertyaces/hetzner-1/docker-compose/zabbix-demo\n",
      "      dockerfile: /home/timothy/pr/libertyaces/product/bitswanmonorepo/server-configs/libertyaces/hetzner-1/docker-compose/zabbix-demo/zabbix-shoveler/Dockerfile\n",
      "    environment:\n",
      "      DEPLOYMENT_ID: demo-zabbix-shoveler\n",
      "    networks:\n",
      "    - default\n",
      "version: '3'\n",
      "\n",
      "('/home/timothy/pr/libertyaces/product/bitswanmonorepo/server-configs/libertyaces/hetzner-1/docker-compose/zabbix-demo', \"services:\\n  demo-zabbix-analyzer:\\n    build:\\n      args:\\n        DATA_MACHINE_SOURCE_PATH: zabbix-analyzer\\n      context: /home/timothy/pr/libertyaces/product/bitswanmonorepo/server-configs/libertyaces/hetzner-1/docker-compose/zabbix-demo\\n      dockerfile: /home/timothy/pr/libertyaces/product/bitswanmonorepo/server-configs/libertyaces/hetzner-1/docker-compose/zabbix-demo/zabbix-analyzer/Dockerfile\\n    environment:\\n      DEPLOYMENT_ID: demo-zabbix-analyzer\\n    networks:\\n    - default\\n  demo-zabbix-cleaner:\\n    build:\\n      args:\\n        DATA_MACHINE_SOURCE_PATH: zabbix-cleaner\\n      context: /home/timothy/pr/libertyaces/product/bitswanmonorepo/server-configs/libertyaces/hetzner-1/docker-compose/zabbix-demo\\n      dockerfile: /home/timothy/pr/libertyaces/product/bitswanmonorepo/server-configs/libertyaces/hetzner-1/docker-compose/zabbix-demo/zabbix-cleaner/Dockerfile\\n    environment:\\n      DEPLOYMENT_ID: demo-zabbix-cleaner\\n    networks:\\n    - default\\n  demo-zabbix-demo-loader:\\n    build:\\n      args:\\n        DATA_MACHINE_SOURCE_PATH: zabbix-demo-loader\\n      context: /home/timothy/pr/libertyaces/product/bitswanmonorepo/server-configs/libertyaces/hetzner-1/docker-compose/zabbix-demo\\n      dockerfile: /home/timothy/pr/libertyaces/product/bitswanmonorepo/server-configs/libertyaces/hetzner-1/docker-compose/zabbix-demo/zabbix-demo-loader/Dockerfile\\n    environment:\\n      DEPLOYMENT_ID: demo-zabbix-demo-loader\\n    networks:\\n    - default\\n    volumes:\\n    - /mnt/data/zabbix-demo/:/data/\\n  demo-zabbix-shoveler:\\n    build:\\n      args:\\n        DATA_MACHINE_SOURCE_PATH: zabbix-shoveler\\n      context: /home/timothy/pr/libertyaces/product/bitswanmonorepo/server-configs/libertyaces/hetzner-1/docker-compose/zabbix-demo\\n      dockerfile: /home/timothy/pr/libertyaces/product/bitswanmonorepo/server-configs/libertyaces/hetzner-1/docker-compose/zabbix-demo/zabbix-shoveler/Dockerfile\\n    environment:\\n      DEPLOYMENT_ID: demo-zabbix-shoveler\\n    networks:\\n    - default\\nversion: '3'\\n\")\n"
     ]
    }
   ],
   "source": [
    "@step\n",
    "def generate_docker_compose(event):\n",
    "    (bitswan_dir, bitswan_yaml) = event\n",
    "    dc = {\n",
    "        \"version\": \"3\",\n",
    "        \"services\": {}\n",
    "    }\n",
    "    for deployment_id, conf in bitswan_yaml[\"data-machines\"].items():\n",
    "        entry = {}\n",
    "        entry[\"environment\"] = {\"DEPLOYMENT_ID\": deployment_id}\n",
    "        if \"env-dir\" in bitswan_yaml:\n",
    "           env_file = os.path.join(bitswan_yaml[\"env-dir\"], deployment_id)\n",
    "           if os.path.exists(env_file):\n",
    "               entry[\"env_file\"] = [env_file]\n",
    "        if \"default-networks\" in bitswan_yaml:\n",
    "            entry[\"networks\"] = bitswan_yaml[\"default-networks\"].copy()\n",
    "        dc[\"services\"][deployment_id] = entry\n",
    "        data_machine_dir = os.path.join(bitswan_dir, conf[\"source\"])\n",
    "        app_yaml = yaml.full_load(open(os.path.join(data_machine_dir, \"app.yaml\")))\n",
    "        dockerfile_path = app_yaml[\"dockerfile\"]\n",
    "        entry[\"build\"] = {\n",
    "            \"dockerfile\": os.path.join(data_machine_dir, dockerfile_path),\n",
    "            \"context\": bitswan_dir,\n",
    "            \"args\": {\n",
    "                \"DATA_MACHINE_SOURCE_PATH\": conf[\"source\"],\n",
    "            }\n",
    "        }\n",
    "        passthroughs = [\"volumes\", \"network_mode\", \"ports\", \"restart\", \"devices\", ]\n",
    "        for passthrough in passthroughs:\n",
    "            if passthrough in conf:\n",
    "              entry[passthrough] = conf[passthrough]\n",
    "    dc_yaml = yaml.dump(dc)\n",
    "    print(dc_yaml)\n",
    "    return (bitswan_dir, dc_yaml)"
   ]
  },
  {
   "cell_type": "code",
   "execution_count": null,
   "id": "61a95fcc-448c-4a01-85d6-97bfdbcd8648",
   "metadata": {},
   "outputs": [],
   "source": [
    "@async_step\n",
    "async def docker_compose_up_daemon(inject, event):\n",
    "    (bitswan_dir, docker_compose_yaml) = event\n",
    "    cmd = [\"docker-compose\", \"-f\", \"/dev/stdin\", \"build\", \"--pull\"]\n",
    "\n",
    "    # Create a subprocess with stdin pipe\n",
    "    proc = await asyncio.create_subprocess_exec(\n",
    "        *cmd, \n",
    "        stdin=asyncio.subprocess.PIPE, \n",
    "        stdout=asyncio.subprocess.PIPE, \n",
    "        stderr=asyncio.subprocess.PIPE,\n",
    "        cwd=bitswan_dir\n",
    "    )\n",
    "\n",
    "    # Send docker_compose_yaml as input to the process and wait for completion\n",
    "    stdout, stderr = await proc.communicate(input=docker_compose_yaml.encode())\n",
    "\n",
    "    build_result = {\n",
    "        \"cmd\": cmd,\n",
    "        \"stdout\": stdout.decode(\"utf-8\"),\n",
    "        \"stderr\": stderr.decode(\"utf-8\"),\n",
    "        \"returncode\": proc.returncode,\n",
    "    }\n",
    "    \n",
    "    cmd = [\"docker-compose\", \"-f\", \"/dev/stdin\", \"up\", \"-d\"]\n",
    "\n",
    "    # Create a subprocess with stdin pipe\n",
    "    proc = await asyncio.create_subprocess_exec(\n",
    "        *cmd, \n",
    "        stdin=asyncio.subprocess.PIPE, \n",
    "        stdout=asyncio.subprocess.PIPE, \n",
    "        stderr=asyncio.subprocess.PIPE,\n",
    "        cwd=bitswan_dir\n",
    "    )\n",
    "\n",
    "    # Send docker_compose_yaml as input to the process and wait for completion\n",
    "    stdout, stderr = await proc.communicate(input=docker_compose_yaml.encode())\n",
    "\n",
    "    up_result = {\n",
    "        \"cmd\": cmd,\n",
    "        \"stdout\": stdout.decode(\"utf-8\"),\n",
    "        \"stderr\": stderr.decode(\"utf-8\"),\n",
    "        \"returncode\": proc.returncode,\n",
    "    }\n",
    "    event = {\n",
    "        \"@timestamp\": datetime.datetime.now().timestamp(),\n",
    "        \"local-time\": datetime.datetime.now().strftime(\"%Y-%m-%d %H:%M:%S\"),\n",
    "        \"build\": build_result,\n",
    "        \"up\": up_result\n",
    "    }\n",
    "    await inject(event)"
   ]
  },
  {
   "cell_type": "code",
   "execution_count": null,
   "id": "8d9c3673-dab0-4b10-92f1-d8b391ecda4f",
   "metadata": {},
   "outputs": [],
   "source": [
    "@step\n",
    "def serialize_yaml(event):\n",
    "    return yaml.dump(event)"
   ]
  },
  {
   "cell_type": "code",
   "execution_count": null,
   "id": "bfd88fa5-f797-4c23-82ac-117538bb05e2",
   "metadata": {},
   "outputs": [],
   "source": [
    "@register_sink\n",
    "def init_sink(app, pipeline):\n",
    "    return bspump.common.PrintSink(app, pipeline)"
   ]
  },
  {
   "cell_type": "code",
   "execution_count": null,
   "id": "55aced63",
   "metadata": {},
   "outputs": [],
   "source": [
    "end_pipeline()"
   ]
  }
 ],
 "metadata": {
  "kernelspec": {
   "display_name": "Python 3 (ipykernel)",
   "language": "python",
   "name": "python3"
  },
  "language_info": {
   "codemirror_mode": {
    "name": "ipython",
    "version": 3
   },
   "file_extension": ".py",
   "mimetype": "text/x-python",
   "name": "python",
   "nbconvert_exporter": "python",
   "pygments_lexer": "ipython3",
   "version": "3.10.13"
  }
 },
 "nbformat": 4,
 "nbformat_minor": 5
}
