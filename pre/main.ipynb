{
 "cells": [
  {
   "cell_type": "markdown",
   "id": "447926d0-64da-40f5-827e-cd2889d5c03e",
   "metadata": {},
   "source": [
    "Bitswan Gitops Webhook Pipeline\n",
    "-------------------------------\n",
    "\n",
    "This pipeline allows you to easilly deploy Bitswan pipelines to any server. You just need to POST to the webhook in your CI and your pipelines will be running in no time.\n",
    "\n",
    "To install bitswan you need to initialize a git repository on your server/the place you want to run your bitswan installation and run the bitswan-pre docker image with the following ENV vars set:\n",
    "\n",
    "- `BS_WEBHOOK_PORT` - defaults to 8080\n",
    "- `BS_WEBHOOK_SECRET` - A secret that will be added to your webhook URL. To deploy post `{\"action\": \"deploy-git\"}` to the URL `https://localhost:<BS_WEBHOOK_PORT>/?secret=<BS_WEBHOOK_SECRET>`\n",
    "- `BS_BITSWAN_DIR` - The directory where your `bitswan.yaml` file resides. Should be in a checked out git repository. Defaults to `/mnt/repo/bitswan`.\n",
    "\n",
    "Simply adding the following curl command to your CI/CD pipeline should be enough to automatically deploy your data machines:\n",
    "\n",
    "```\n",
    "curl -X POST \"https://<WEBHOOK_URL>:<BS_WEBHOOK_PORT>/?secret=<BS_WEBHOOK_SECRET>\" -d '{\"action\": \"deploy-git\"}'\n",
    "```"
   ]
  },
  {
   "cell_type": "code",
   "execution_count": 2,
   "id": "4680223b",
   "metadata": {},
   "outputs": [],
   "source": [
    "from bspump.jupyter import *\n",
    "import bspump.http.web.source\n",
    "import bspump.common\n",
    "import time\n",
    "import json\n",
    "import os\n",
    "import asyncio\n",
    "import yaml\n",
    "import datetime\n",
    "from copy import deepcopy"
   ]
  },
  {
   "cell_type": "code",
   "execution_count": 3,
   "id": "f5fd3c76-2f57-4957-b0e3-6328e31fab62",
   "metadata": {},
   "outputs": [],
   "source": [
    "new_pipeline(\"BitswanGitopsWebHookPipeline\")"
   ]
  },
  {
   "cell_type": "code",
   "execution_count": 4,
   "id": "979fee55-b7e1-47ab-94f3-904dea5890f5",
   "metadata": {},
   "outputs": [],
   "source": [
    "@register_source\n",
    "def source(app, pipeline):\n",
    "   return bspump.http.web.source.WebHookSource(\n",
    "       app,\n",
    "       pipeline,\n",
    "       config = {\n",
    "           \"port\": int(os.environ.get(\"BS_WEBHOOK_PORT\", 8080)),\n",
    "           \"path\": \"/\",\n",
    "           \"secret_qparam\": os.environ.get(\"BS_WEBHOOK_SECRET\", \"not-secure\")\n",
    "       })"
   ]
  },
  {
   "cell_type": "code",
   "execution_count": 5,
   "id": "ee957c39-5d6e-4bc4-90ec-cd1a3ff6dca4",
   "metadata": {},
   "outputs": [],
   "source": [
    "sample_events([\n",
    "    b\"\"\"{\"action\": \"deploy-git\"}\"\"\"\n",
    "])"
   ]
  },
  {
   "cell_type": "code",
   "execution_count": 6,
   "id": "67e91027-d95c-41ec-9377-991ce5925c86",
   "metadata": {},
   "outputs": [
    {
     "name": "stdout",
     "output_type": "stream",
     "text": [
      "{'action': 'deploy-git'}\n"
     ]
    }
   ],
   "source": [
    "@step\n",
    "def parse_json(event):\n",
    "    return json.loads(event)"
   ]
  },
  {
   "cell_type": "code",
   "execution_count": 7,
   "id": "fba255d4-376e-4905-8ec1-15e32cbf36de",
   "metadata": {},
   "outputs": [
    {
     "name": "stdout",
     "output_type": "stream",
     "text": [
      "{'action': 'deploy-git', 'bitswan_dir': '/mnt/repo/bitswan'}\n"
     ]
    }
   ],
   "source": [
    "@step\n",
    "def get_bitswan_dir(event):\n",
    "    event[\"bitswan_dir\"] = os.environ.get(\"BS_BITSWAN_DIR\", \"/mnt/repo/bitswan\")\n",
    "    return event"
   ]
  },
  {
   "cell_type": "code",
   "execution_count": 8,
   "id": "74a2764f-c183-4f60-9374-04add7c72b60",
   "metadata": {},
   "outputs": [],
   "source": [
    "sample_events([{'action': 'deploy-git', \"start-ides\": [\"bitswan-ingress\"], \"bitswan_dir\":\"/home/timothy/pr/libertyaces/product/poc-pipelines\"}])"
   ]
  },
  {
   "cell_type": "code",
   "execution_count": 9,
   "id": "82dbe90b-9128-490d-8c09-33cf02caf240",
   "metadata": {},
   "outputs": [
    {
     "name": "stdout",
     "output_type": "stream",
     "text": [
      "Pulling in new changes.\n",
      "Done pulling in changes.\n",
      "{'action': 'deploy-git', 'start-ides': ['bitswan-ingress'], 'bitswan_dir': '/home/timothy/pr/libertyaces/product/poc-pipelines'}\n"
     ]
    }
   ],
   "source": [
    "@async_step\n",
    "async def git_pull(inject, event):\n",
    "    bitswan_dir = event[\"bitswan_dir\"]\n",
    "    print(\"Pulling in new changes.\")\n",
    "    git_repo_root = os.path.abspath(bitswan_dir)  # Convert to absolute path\n",
    "\n",
    "    while git_repo_root != os.path.dirname(git_repo_root):  # Check until the root of the file system\n",
    "        if os.path.isdir(os.path.join(git_repo_root, '.git')):\n",
    "            break  # Return the path if .git directory is found\n",
    "        git_repo_root = os.path.dirname(git_repo_root)  # Move up one directory level\n",
    "\n",
    "    await asyncio.create_subprocess_exec(\"git\", \"config\", \"--global\", \"--add\", \"safe.directory\", git_repo_root) \n",
    "    await asyncio.create_subprocess_exec(\"git\", \"config\", \"pull.rebase\", \"false\", cwd=bitswan_dir) \n",
    "    await asyncio.create_subprocess_exec(\"git\", \"pull\", cwd=bitswan_dir)\n",
    "    print(\"Done pulling in changes.\")\n",
    "    await inject(event)"
   ]
  },
  {
   "cell_type": "code",
   "execution_count": 10,
   "id": "b50f90d1-3e99-4f3a-8b5f-482dba943e1c",
   "metadata": {},
   "outputs": [
    {
     "name": "stdout",
     "output_type": "stream",
     "text": [
      "{'action': 'deploy-git', 'start-ides': ['bitswan-ingress'], 'bitswan_dir': '/home/timothy/pr/libertyaces/product/poc-pipelines', 'yaml': {'env-dir': '/etc/bitswan-secrets/', 'data-machines': {'bitswan-ingress': {'enabled': False}}}}\n"
     ]
    }
   ],
   "source": [
    "@step\n",
    "def load_bitswan_yaml(event):\n",
    "    event[\"yaml\"] = yaml.full_load(open(os.path.join(event[\"bitswan_dir\"], \"bitswan.yaml\")))\n",
    "    return event"
   ]
  },
  {
   "cell_type": "code",
   "execution_count": 11,
   "id": "7aa05873-a827-4f7d-b26c-3f9a63ba366a",
   "metadata": {},
   "outputs": [
    {
     "name": "stdout",
     "output_type": "stream",
     "text": [
      "networks: {}\n",
      "services:\n",
      "  bitswan-ingress__ide__:\n",
      "    build:\n",
      "      args:\n",
      "        DATA_MACHINE_SOURCE_PATH: bitswan-ingress\n",
      "      context: /home/timothy/pr/libertyaces/product/poc-pipelines\n",
      "      dockerfile: /home/timothy/pr/libertyaces/product/poc-pipelines/bitswan-ingress/Dockerfile\n",
      "    deploy:\n",
      "      labels:\n",
      "        space.bitswan.mode: IDE\n",
      "    entrypoint: /start-ide.sh\n",
      "    environment:\n",
      "      DEPLOYMENT_ID: bitswan-ingress\n",
      "    volumes:\n",
      "    - /src:/mnt\n",
      "version: '3'\n",
      "\n",
      "('/home/timothy/pr/libertyaces/product/poc-pipelines', \"networks: {}\\nservices:\\n  bitswan-ingress__ide__:\\n    build:\\n      args:\\n        DATA_MACHINE_SOURCE_PATH: bitswan-ingress\\n      context: /home/timothy/pr/libertyaces/product/poc-pipelines\\n      dockerfile: /home/timothy/pr/libertyaces/product/poc-pipelines/bitswan-ingress/Dockerfile\\n    deploy:\\n      labels:\\n        space.bitswan.mode: IDE\\n    entrypoint: /start-ide.sh\\n    environment:\\n      DEPLOYMENT_ID: bitswan-ingress\\n    volumes:\\n    - /src:/mnt\\nversion: '3'\\n\")\n"
     ]
    }
   ],
   "source": [
    "@step\n",
    "def generate_docker_compose(event):\n",
    "    bitswan_dir = event[\"bitswan_dir\"]\n",
    "    bitswan_yaml = event[\"yaml\"]\n",
    "    dc = {\n",
    "        \"version\": \"3\",\n",
    "        \"services\": {},\n",
    "        \"networks\": {}\n",
    "    }\n",
    "    for network in bitswan_yaml.get(\"default-networks\", []):\n",
    "        dc[\"networks\"][network] = {\"external\": True}\n",
    "    for deployment_id, conf in bitswan_yaml[\"data-machines\"].items():\n",
    "        if conf is None:\n",
    "            conf = {}\n",
    "        entry = {}\n",
    "        entry[\"environment\"] = {\"DEPLOYMENT_ID\": deployment_id}\n",
    "        if \"env-dir\" in bitswan_yaml:\n",
    "           env_file = os.path.join(bitswan_yaml[\"env-dir\"], deployment_id)\n",
    "           if os.path.exists(env_file):\n",
    "               entry[\"env_file\"] = [env_file]\n",
    "        if \"default-networks\" in bitswan_yaml:\n",
    "            entry[\"networks\"] = bitswan_yaml[\"default-networks\"].copy()\n",
    "        source = conf.get(\"source\", deployment_id)\n",
    "        data_machine_dir = os.path.join(bitswan_dir, source)\n",
    "        dockerfile_path = \"Dockerfile\"\n",
    "        entry[\"build\"] = {\n",
    "            \"dockerfile\": os.path.join(data_machine_dir, dockerfile_path),\n",
    "            \"context\": bitswan_dir,\n",
    "            \"args\": {\n",
    "                \"DATA_MACHINE_SOURCE_PATH\": source,\n",
    "            }\n",
    "        }\n",
    "        passthroughs = [\"volumes\", \"network_mode\", \"ports\", \"restart\", \"devices\", \"container_name\", ]\n",
    "        for passthrough in passthroughs:\n",
    "            if passthrough in conf:\n",
    "              entry[passthrough] = conf[passthrough]\n",
    "        if conf.get(\"enabled\", True):\n",
    "            dc[\"services\"][deployment_id] = entry\n",
    "        if deployment_id in event.get(\"start-ides\", []):\n",
    "            ide_entry = deepcopy(entry)\n",
    "            ide_entry[\"entrypoint\"] = \"/start-ide.sh\"\n",
    "            ide_entry[\"deploy\"] = ide_entry.get(\"deploy\", {})\n",
    "            ide_entry[\"deploy\"][\"labels\"] = ide_entry[\"deploy\"].get(\"labels\", {})\n",
    "            ide_entry[\"deploy\"][\"labels\"][\"space.bitswan.mode\"] = \"IDE\"\n",
    "            ide_entry[\"volumes\"] = ide_entry.get(\"volumes\", [])\n",
    "            ide_entry[\"volumes\"].append(\"/src:/mnt\")\n",
    "            dc[\"services\"][deployment_id+\"__ide__\"] = ide_entry\n",
    "    dc_yaml = yaml.dump(dc)\n",
    "    print(dc_yaml)\n",
    "    return (bitswan_dir, dc_yaml)"
   ]
  },
  {
   "cell_type": "code",
   "execution_count": 12,
   "id": "61a95fcc-448c-4a01-85d6-97bfdbcd8648",
   "metadata": {},
   "outputs": [
    {
     "name": "stdout",
     "output_type": "stream",
     "text": [
      "{'@timestamp': 1706896896.047645, 'local-time': '2024-02-02 19:01:36', 'build': {'cmd': ['docker-compose', '-f', '/dev/stdin', 'build', '--pull'], 'stdout': '', 'stderr': 'invalid tag \"dev-bitswan-ingress__ide__\": invalid reference format\\n', 'returncode': 17}, 'up': {'cmd': ['docker-compose', '-f', '/dev/stdin', 'up', '-d'], 'stdout': '', 'stderr': 'Error response from daemon: no such image: dev-bitswan-ingress__ide__: invalid reference format\\n', 'returncode': 1}}\n"
     ]
    },
    {
     "name": "stderr",
     "output_type": "stream",
     "text": [
      "Your configuration specifies to merge with the ref 'refs/heads/main'\n",
      "from the remote, but no such ref was fetched.\n"
     ]
    }
   ],
   "source": [
    "@async_step\n",
    "async def docker_compose_up_daemon(inject, event):\n",
    "    (bitswan_dir, docker_compose_yaml) = event\n",
    "    cmd = [\"docker-compose\", \"-f\", \"/dev/stdin\", \"build\", \"--pull\"]\n",
    "\n",
    "    # Create a subprocess with stdin pipe\n",
    "    proc = await asyncio.create_subprocess_exec(\n",
    "        *cmd, \n",
    "        stdin=asyncio.subprocess.PIPE, \n",
    "        stdout=asyncio.subprocess.PIPE, \n",
    "        stderr=asyncio.subprocess.PIPE,\n",
    "        cwd=bitswan_dir\n",
    "    )\n",
    "\n",
    "    # Send docker_compose_yaml as input to the process and wait for completion\n",
    "    stdout, stderr = await proc.communicate(input=docker_compose_yaml.encode())\n",
    "\n",
    "    build_result = {\n",
    "        \"cmd\": cmd,\n",
    "        \"stdout\": stdout.decode(\"utf-8\"),\n",
    "        \"stderr\": stderr.decode(\"utf-8\"),\n",
    "        \"returncode\": proc.returncode,\n",
    "    }\n",
    "    \n",
    "    cmd = [\"docker-compose\", \"-f\", \"/dev/stdin\", \"up\", \"-d\"]\n",
    "\n",
    "    # Create a subprocess with stdin pipe\n",
    "    proc = await asyncio.create_subprocess_exec(\n",
    "        *cmd, \n",
    "        stdin=asyncio.subprocess.PIPE, \n",
    "        stdout=asyncio.subprocess.PIPE, \n",
    "        stderr=asyncio.subprocess.PIPE,\n",
    "        cwd=bitswan_dir\n",
    "    )\n",
    "\n",
    "    # Send docker_compose_yaml as input to the process and wait for completion\n",
    "    stdout, stderr = await proc.communicate(input=docker_compose_yaml.encode())\n",
    "\n",
    "    up_result = {\n",
    "        \"cmd\": cmd,\n",
    "        \"stdout\": stdout.decode(\"utf-8\"),\n",
    "        \"stderr\": stderr.decode(\"utf-8\"),\n",
    "        \"returncode\": proc.returncode,\n",
    "    }\n",
    "    event = {\n",
    "        \"@timestamp\": datetime.datetime.now().timestamp(),\n",
    "        \"local-time\": datetime.datetime.now().strftime(\"%Y-%m-%d %H:%M:%S\"),\n",
    "        \"build\": build_result,\n",
    "        \"up\": up_result\n",
    "    }\n",
    "    await inject(event)"
   ]
  },
  {
   "cell_type": "code",
   "execution_count": null,
   "id": "8d9c3673-dab0-4b10-92f1-d8b391ecda4f",
   "metadata": {},
   "outputs": [],
   "source": [
    "@step\n",
    "def serialize_yaml(event):\n",
    "    return yaml.dump(event)"
   ]
  },
  {
   "cell_type": "code",
   "execution_count": null,
   "id": "bfd88fa5-f797-4c23-82ac-117538bb05e2",
   "metadata": {},
   "outputs": [],
   "source": [
    "@register_sink\n",
    "def init_sink(app, pipeline):\n",
    "    return bspump.common.PrintSink(app, pipeline)"
   ]
  },
  {
   "cell_type": "code",
   "execution_count": null,
   "id": "55aced63",
   "metadata": {},
   "outputs": [],
   "source": [
    "end_pipeline()"
   ]
  }
 ],
 "metadata": {
  "kernelspec": {
   "display_name": "Python 3 (ipykernel)",
   "language": "python",
   "name": "python3"
  },
  "language_info": {
   "codemirror_mode": {
    "name": "ipython",
    "version": 3
   },
   "file_extension": ".py",
   "mimetype": "text/x-python",
   "name": "python",
   "nbconvert_exporter": "python",
   "pygments_lexer": "ipython3",
   "version": "3.10.11"
  }
 },
 "nbformat": 4,
 "nbformat_minor": 5
}
