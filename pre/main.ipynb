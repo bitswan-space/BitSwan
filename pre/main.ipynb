{
 "cells": [
  {
   "cell_type": "markdown",
   "id": "447926d0-64da-40f5-827e-cd2889d5c03e",
   "metadata": {},
   "source": [
    "Bitswan Gitops Webhook Pipeline\n",
    "-------------------------------\n",
    "\n",
    "This pipeline allows you to easilly deploy Bitswan pipelines to any server. You just need to POST to the webhook in your CI and your pipelines will be running in no time.\n",
    "\n",
    "To install bitswan you need to initialize a git repository on your server/the place you want to run your bitswan installation and run the bitswan-pre docker image with the following ENV vars set:\n",
    "\n",
    "- `BS_WEBHOOK_PORT` - defaults to 8080\n",
    "- `BS_WEBHOOK_SECRET` - A secret that will be added to your webhook URL. To deploy post `{\"action\": \"deploy-git\"}` to the URL `https://localhost:<BS_WEBHOOK_PORT>/?secret=<BS_WEBHOOK_SECRET>`\n",
    "- `BS_BITSWAN_DIR` - The directory where your `bitswan.yaml` file resides. Should be in a checked out git repository. Defaults to `/mnt/repo/bitswan`.\n",
    "\n",
    "Simply adding the following curl command to your CI/CD pipeline should be enough to automatically deploy your data machines:\n",
    "\n",
    "```\n",
    "curl -X POST \"https://<WEBHOOK_URL>:<BS_WEBHOOK_PORT>/?secret=<BS_WEBHOOK_SECRET>\" -d '{\"action\": \"deploy-git\"}'\n",
    "```"
   ]
  },
  {
   "cell_type": "code",
   "execution_count": 10,
   "id": "4680223b",
   "metadata": {},
   "outputs": [],
   "source": [
    "from bspump.jupyter import *\n",
    "import bspump.http.web.source\n",
    "import bspump.common\n",
    "import time\n",
    "import json\n",
    "import os\n",
    "import asyncio\n",
    "import yaml"
   ]
  },
  {
   "cell_type": "code",
   "execution_count": 2,
   "id": "f5fd3c76-2f57-4957-b0e3-6328e31fab62",
   "metadata": {},
   "outputs": [],
   "source": [
    "new_pipeline(\"BitswanGitopsWebHookPipeline\")"
   ]
  },
  {
   "cell_type": "code",
   "execution_count": 3,
   "id": "979fee55-b7e1-47ab-94f3-904dea5890f5",
   "metadata": {},
   "outputs": [],
   "source": [
    "@register_source\n",
    "def source(app, pipeline):\n",
    "   return bspump.http.web.source.WebHookSource(\n",
    "       app,\n",
    "       pipeline,\n",
    "       config = {\n",
    "           \"port\": int(os.environ.get(\"BS_WEBHOOK_PORT\", 8080)),\n",
    "           \"path\": \"/\",\n",
    "           \"secret_qparam\": os.environ.get(\"BS_WEBHOOK_SECRET\", \"not-secure\")\n",
    "       })"
   ]
  },
  {
   "cell_type": "code",
   "execution_count": 4,
   "id": "ee957c39-5d6e-4bc4-90ec-cd1a3ff6dca4",
   "metadata": {},
   "outputs": [],
   "source": [
    "sample_events([\n",
    "    b\"\"\"{\"action\": \"deploy-git\"}\"\"\"\n",
    "])"
   ]
  },
  {
   "cell_type": "code",
   "execution_count": 5,
   "id": "67e91027-d95c-41ec-9377-991ce5925c86",
   "metadata": {},
   "outputs": [
    {
     "name": "stdout",
     "output_type": "stream",
     "text": [
      "{'action': 'deploy-git'}\n"
     ]
    }
   ],
   "source": [
    "@step\n",
    "def parse_json(event):\n",
    "    return json.loads(event)"
   ]
  },
  {
   "cell_type": "code",
   "execution_count": 6,
   "id": "fba255d4-376e-4905-8ec1-15e32cbf36de",
   "metadata": {},
   "outputs": [
    {
     "name": "stdout",
     "output_type": "stream",
     "text": [
      "/mnt/repo/bitswan\n"
     ]
    }
   ],
   "source": [
    "@step\n",
    "def get_bitswan_dir(event):\n",
    "    return os.environ.get(\"BS_BITSWAN_DIR\", \"/mnt/repo/bitswan\")"
   ]
  },
  {
   "cell_type": "code",
   "execution_count": 11,
   "id": "74a2764f-c183-4f60-9374-04add7c72b60",
   "metadata": {},
   "outputs": [],
   "source": [
    "sample_events([\"/home/timothy/pr/libertyaces/product/bitswanmonorepo/server-configs/libertyaces/hetzner-1/docker-compose/zabbix-demo\"])"
   ]
  },
  {
   "cell_type": "code",
   "execution_count": 12,
   "id": "82dbe90b-9128-490d-8c09-33cf02caf240",
   "metadata": {},
   "outputs": [
    {
     "name": "stdout",
     "output_type": "stream",
     "text": [
      "Pulling in new changes.\n",
      "Done pulling in changes.\n",
      "/home/timothy/pr/libertyaces/product/bitswanmonorepo/server-configs/libertyaces/hetzner-1/docker-compose/zabbix-demo\n"
     ]
    },
    {
     "name": "stderr",
     "output_type": "stream",
     "text": [
      "error: cannot pull with rebase: You have unstaged changes.\n",
      "error: please commit or stash them.\n"
     ]
    }
   ],
   "source": [
    "@async_step\n",
    "async def git_pull(inject, bitswan_dir):\n",
    "    print(\"Pulling in new changes.\")\n",
    "    git_repo_root = os.path.abspath(bitswan_dir)  # Convert to absolute path\n",
    "\n",
    "    while git_repo_root != os.path.dirname(git_repo_root):  # Check until the root of the file system\n",
    "        if os.path.isdir(os.path.join(git_repo_root, '.git')):\n",
    "            break  # Return the path if .git directory is found\n",
    "        git_repo_root = os.path.dirname(git_repo_root)  # Move up one directory level\n",
    "    await asyncio.create_subprocess_exec(\"git\", \"config\", \"--global\", \"--add\", \"safe.directory\", git_repo_root) \n",
    "    await asyncio.create_subprocess_exec(\"git\", \"pull\", cwd=bitswan_dir)\n",
    "    print(\"Done pulling in changes.\")\n",
    "    await inject(bitswan_dir)"
   ]
  },
  {
   "cell_type": "code",
   "execution_count": 9,
   "id": "b50f90d1-3e99-4f3a-8b5f-482dba943e1c",
   "metadata": {},
   "outputs": [],
   "source": [
    "@step\n",
    "def load_bitswan_yaml(bitswan_dir):\n",
    "    dmy = yaml.full_load(open(os.path.join(bitswan_dir, \"bitswan.yaml\")))\n",
    "    return (bitswan_dir, dmy)"
   ]
  },
  {
   "cell_type": "code",
   "execution_count": 10,
   "id": "7aa05873-a827-4f7d-b26c-3f9a63ba366a",
   "metadata": {},
   "outputs": [],
   "source": [
    "@step\n",
    "def generate_docker_compose(event):\n",
    "    (bitswan_dir, bitswan_yaml) = event\n",
    "    dc = {\n",
    "        \"version\": \"3\",\n",
    "        \"services\": {}\n",
    "    }\n",
    "    for deployment_id, conf in bitswan_yaml[\"data-machines\"].items():\n",
    "        entry = {}\n",
    "        entry[\"environment\"] = {\"DEPLOYMENT_ID\": deployment_id}\n",
    "        if \"env-dir\" in bitswan_yaml:\n",
    "           env_file = os.path.join(bitswan_yaml[\"env-dir\"], deployment_id)\n",
    "           if os.path.exists(env_file):\n",
    "               entry[\"env_file\"] = [env_file]\n",
    "        if \"default-networks\" in bitswan_yaml:\n",
    "            entry[\"networks\"] = bitswan_yaml[\"default-networks\"].copy()\n",
    "        dc[\"services\"][deployment_id] = entry\n",
    "        data_machine_dir = os.path.join(bitswan_dir, conf[\"source\"])\n",
    "        app_yaml = yaml.full_load(open(os.path.join(data_machine_dir, \"app.yaml\")))\n",
    "        dockerfile_path = app_yaml[\"dockerfile\"]\n",
    "        entry[\"build\"] = {\n",
    "            \"dockerfile\": os.path.join(data_machine_dir, dockerfile_path),\n",
    "            \"context\": bitswan_dir,\n",
    "            \"args\": {\n",
    "                \"DATA_MACHINE_SOURCE_PATH\": data_machine_dir,\n",
    "            }\n",
    "        }\n",
    "    dc_yaml = yaml.dump(dc)\n",
    "    print(dc_yaml)\n",
    "    return (bitswan_dir, dc_yaml)"
   ]
  },
  {
   "cell_type": "code",
   "execution_count": 11,
   "id": "4676535b-71a8-49aa-a326-6cb67dab2350",
   "metadata": {},
   "outputs": [
    {
     "ename": "ValueError",
     "evalue": "too many values to unpack (expected 2)",
     "output_type": "error",
     "traceback": [
      "\u001b[0;31m---------------------------------------------------------------------------\u001b[0m",
      "\u001b[0;31mValueError\u001b[0m                                Traceback (most recent call last)",
      "Cell \u001b[0;32mIn[11], line 2\u001b[0m\n\u001b[1;32m      1\u001b[0m \u001b[38;5;129;43m@async_step\u001b[39;49m\n\u001b[0;32m----> 2\u001b[0m \u001b[38;5;28;43;01masync\u001b[39;49;00m\u001b[43m \u001b[49m\u001b[38;5;28;43;01mdef\u001b[39;49;00m\u001b[43m \u001b[49m\u001b[38;5;21;43mdocker_compose_up_daemon\u001b[39;49m\u001b[43m(\u001b[49m\u001b[43minject\u001b[49m\u001b[43m,\u001b[49m\u001b[43m \u001b[49m\u001b[43mevent\u001b[49m\u001b[43m)\u001b[49m\u001b[43m:\u001b[49m\n\u001b[1;32m      3\u001b[0m \u001b[43m    \u001b[49m\u001b[43m(\u001b[49m\u001b[43mbitswan_dir\u001b[49m\u001b[43m,\u001b[49m\u001b[43m \u001b[49m\u001b[43mdocker_compose_yaml\u001b[49m\u001b[43m)\u001b[49m\u001b[43m \u001b[49m\u001b[38;5;241;43m=\u001b[39;49m\u001b[43m \u001b[49m\u001b[43mevent\u001b[49m\n\u001b[1;32m      4\u001b[0m \u001b[43m    \u001b[49m\u001b[43mcmd\u001b[49m\u001b[43m \u001b[49m\u001b[38;5;241;43m=\u001b[39;49m\u001b[43m \u001b[49m\u001b[43m[\u001b[49m\u001b[38;5;124;43m\"\u001b[39;49m\u001b[38;5;124;43mdocker-compose\u001b[39;49m\u001b[38;5;124;43m\"\u001b[39;49m\u001b[43m,\u001b[49m\u001b[43m \u001b[49m\u001b[38;5;124;43m\"\u001b[39;49m\u001b[38;5;124;43m-f\u001b[39;49m\u001b[38;5;124;43m\"\u001b[39;49m\u001b[43m,\u001b[49m\u001b[43m \u001b[49m\u001b[38;5;124;43m\"\u001b[39;49m\u001b[38;5;124;43m/dev/stdin\u001b[39;49m\u001b[38;5;124;43m\"\u001b[39;49m\u001b[43m,\u001b[49m\u001b[43m \u001b[49m\u001b[38;5;124;43m\"\u001b[39;49m\u001b[38;5;124;43mup\u001b[39;49m\u001b[38;5;124;43m\"\u001b[39;49m\u001b[43m,\u001b[49m\u001b[43m \u001b[49m\u001b[38;5;124;43m\"\u001b[39;49m\u001b[38;5;124;43m-d\u001b[39;49m\u001b[38;5;124;43m\"\u001b[39;49m\u001b[43m]\u001b[49m\n",
      "File \u001b[0;32m~/pr/libertyaces/product/BitswanPump/bspump/jupyter.py:309\u001b[0m, in \u001b[0;36masync_step\u001b[0;34m(func)\u001b[0m\n\u001b[1;32m    300\u001b[0m     \u001b[38;5;28;01mreturn\u001b[39;00m \u001b[38;5;28;01mawait\u001b[39;00m func(injector, event)\n\u001b[1;32m    302\u001b[0m CustomGenerator \u001b[38;5;241m=\u001b[39m \u001b[38;5;28mtype\u001b[39m(\n\u001b[1;32m    303\u001b[0m     class_name,\n\u001b[1;32m    304\u001b[0m     (bspump\u001b[38;5;241m.\u001b[39mGenerator,),\n\u001b[1;32m    305\u001b[0m     \u001b[38;5;66;03m# Async generate function calls func with injector and event. The injector is taken from the pipeline.\u001b[39;00m\n\u001b[1;32m    306\u001b[0m     {\u001b[38;5;124m'\u001b[39m\u001b[38;5;124mgenerate\u001b[39m\u001b[38;5;124m'\u001b[39m: _generate}\n\u001b[1;32m    307\u001b[0m )\n\u001b[1;32m    308\u001b[0m \u001b[43m\u001b[49m\u001b[38;5;129;43m@register_generator\u001b[39;49m\n\u001b[0;32m--> 309\u001b[0m \u001b[43m\u001b[49m\u001b[38;5;28;43;01mdef\u001b[39;49;00m\u001b[43m \u001b[49m\u001b[38;5;21;43mgenerator\u001b[39;49m\u001b[43m(\u001b[49m\u001b[43mapp\u001b[49m\u001b[43m,\u001b[49m\u001b[43m \u001b[49m\u001b[43mpipeline\u001b[49m\u001b[43m)\u001b[49m\u001b[43m:\u001b[49m\n\u001b[1;32m    310\u001b[0m \u001b[43m    \u001b[49m\u001b[38;5;28;43;01mreturn\u001b[39;49;00m\u001b[43m \u001b[49m\u001b[43mCustomGenerator\u001b[49m\u001b[43m(\u001b[49m\u001b[43mapp\u001b[49m\u001b[43m,\u001b[49m\u001b[43m \u001b[49m\u001b[43mpipeline\u001b[49m\u001b[43m)\u001b[49m\n",
      "File \u001b[0;32m~/pr/libertyaces/product/BitswanPump/bspump/jupyter.py:247\u001b[0m, in \u001b[0;36mregister_generator\u001b[0;34m(func)\u001b[0m\n\u001b[1;32m    244\u001b[0m     task \u001b[38;5;241m=\u001b[39m asyncio\u001b[38;5;241m.\u001b[39mensure_future(_fn())\n\u001b[1;32m    245\u001b[0m     loop\u001b[38;5;241m.\u001b[39mrun_until_complete(task)\n\u001b[0;32m--> 247\u001b[0m \u001b[43mwrapper\u001b[49m\u001b[43m(\u001b[49m\u001b[43m)\u001b[49m\n\u001b[1;32m    248\u001b[0m \u001b[38;5;28;01mreturn\u001b[39;00m _fn\n",
      "File \u001b[0;32m~/pr/libertyaces/product/BitswanPump/bspump/jupyter.py:245\u001b[0m, in \u001b[0;36mregister_generator.<locals>.wrapper\u001b[0;34m(*args, **kwargs)\u001b[0m\n\u001b[1;32m    243\u001b[0m loop \u001b[38;5;241m=\u001b[39m asyncio\u001b[38;5;241m.\u001b[39mget_event_loop()\n\u001b[1;32m    244\u001b[0m task \u001b[38;5;241m=\u001b[39m asyncio\u001b[38;5;241m.\u001b[39mensure_future(_fn())\n\u001b[0;32m--> 245\u001b[0m \u001b[43mloop\u001b[49m\u001b[38;5;241;43m.\u001b[39;49m\u001b[43mrun_until_complete\u001b[49m\u001b[43m(\u001b[49m\u001b[43mtask\u001b[49m\u001b[43m)\u001b[49m\n",
      "File \u001b[0;32m~/pr/libertyaces/product/BitswanPump/venv/lib/python3.10/site-packages/nest_asyncio.py:99\u001b[0m, in \u001b[0;36m_patch_loop.<locals>.run_until_complete\u001b[0;34m(self, future)\u001b[0m\n\u001b[1;32m     96\u001b[0m \u001b[38;5;28;01mif\u001b[39;00m \u001b[38;5;129;01mnot\u001b[39;00m f\u001b[38;5;241m.\u001b[39mdone():\n\u001b[1;32m     97\u001b[0m     \u001b[38;5;28;01mraise\u001b[39;00m \u001b[38;5;167;01mRuntimeError\u001b[39;00m(\n\u001b[1;32m     98\u001b[0m         \u001b[38;5;124m'\u001b[39m\u001b[38;5;124mEvent loop stopped before Future completed.\u001b[39m\u001b[38;5;124m'\u001b[39m)\n\u001b[0;32m---> 99\u001b[0m \u001b[38;5;28;01mreturn\u001b[39;00m \u001b[43mf\u001b[49m\u001b[38;5;241;43m.\u001b[39;49m\u001b[43mresult\u001b[49m\u001b[43m(\u001b[49m\u001b[43m)\u001b[49m\n",
      "File \u001b[0;32m/nix/store/50kabpj0s79040a42b7jj2dxn85wmbfd-python3-3.10.13/lib/python3.10/asyncio/futures.py:201\u001b[0m, in \u001b[0;36mFuture.result\u001b[0;34m(self)\u001b[0m\n\u001b[1;32m    199\u001b[0m \u001b[38;5;28mself\u001b[39m\u001b[38;5;241m.\u001b[39m__log_traceback \u001b[38;5;241m=\u001b[39m \u001b[38;5;28;01mFalse\u001b[39;00m\n\u001b[1;32m    200\u001b[0m \u001b[38;5;28;01mif\u001b[39;00m \u001b[38;5;28mself\u001b[39m\u001b[38;5;241m.\u001b[39m_exception \u001b[38;5;129;01mis\u001b[39;00m \u001b[38;5;129;01mnot\u001b[39;00m \u001b[38;5;28;01mNone\u001b[39;00m:\n\u001b[0;32m--> 201\u001b[0m     \u001b[38;5;28;01mraise\u001b[39;00m \u001b[38;5;28mself\u001b[39m\u001b[38;5;241m.\u001b[39m_exception\u001b[38;5;241m.\u001b[39mwith_traceback(\u001b[38;5;28mself\u001b[39m\u001b[38;5;241m.\u001b[39m_exception_tb)\n\u001b[1;32m    202\u001b[0m \u001b[38;5;28;01mreturn\u001b[39;00m \u001b[38;5;28mself\u001b[39m\u001b[38;5;241m.\u001b[39m_result\n",
      "File \u001b[0;32m/nix/store/50kabpj0s79040a42b7jj2dxn85wmbfd-python3-3.10.13/lib/python3.10/asyncio/tasks.py:232\u001b[0m, in \u001b[0;36mTask.__step\u001b[0;34m(***failed resolving arguments***)\u001b[0m\n\u001b[1;32m    228\u001b[0m \u001b[38;5;28;01mtry\u001b[39;00m:\n\u001b[1;32m    229\u001b[0m     \u001b[38;5;28;01mif\u001b[39;00m exc \u001b[38;5;129;01mis\u001b[39;00m \u001b[38;5;28;01mNone\u001b[39;00m:\n\u001b[1;32m    230\u001b[0m         \u001b[38;5;66;03m# We use the `send` method directly, because coroutines\u001b[39;00m\n\u001b[1;32m    231\u001b[0m         \u001b[38;5;66;03m# don't have `__iter__` and `__next__` methods.\u001b[39;00m\n\u001b[0;32m--> 232\u001b[0m         result \u001b[38;5;241m=\u001b[39m \u001b[43mcoro\u001b[49m\u001b[38;5;241;43m.\u001b[39;49m\u001b[43msend\u001b[49m\u001b[43m(\u001b[49m\u001b[38;5;28;43;01mNone\u001b[39;49;00m\u001b[43m)\u001b[49m\n\u001b[1;32m    233\u001b[0m     \u001b[38;5;28;01melse\u001b[39;00m:\n\u001b[1;32m    234\u001b[0m         result \u001b[38;5;241m=\u001b[39m coro\u001b[38;5;241m.\u001b[39mthrow(exc)\n",
      "File \u001b[0;32m~/pr/libertyaces/product/BitswanPump/bspump/jupyter.py:229\u001b[0m, in \u001b[0;36mregister_generator.<locals>._fn\u001b[0;34m()\u001b[0m\n\u001b[1;32m    227\u001b[0m __bitswan_dev_new_events \u001b[38;5;241m=\u001b[39m []\n\u001b[1;32m    228\u001b[0m \u001b[38;5;28;01mfor\u001b[39;00m event \u001b[38;5;129;01min\u001b[39;00m __bitswan_dev_runtime\u001b[38;5;241m.\u001b[39mevents:\n\u001b[0;32m--> 229\u001b[0m     \u001b[38;5;28;01mawait\u001b[39;00m generator\u001b[38;5;241m.\u001b[39mgenerate(\u001b[38;5;28;01mNone\u001b[39;00m, event, \u001b[38;5;241m0\u001b[39m)\n\u001b[1;32m    230\u001b[0m     __bitswan_dev_new_events\u001b[38;5;241m.\u001b[39mextend(pipeline\u001b[38;5;241m.\u001b[39mitems)\n\u001b[1;32m    231\u001b[0m     pipeline\u001b[38;5;241m.\u001b[39mclear()\n",
      "File \u001b[0;32m~/pr/libertyaces/product/BitswanPump/bspump/jupyter.py:300\u001b[0m, in \u001b[0;36masync_step.<locals>._generate\u001b[0;34m(self, context, event, depth)\u001b[0m\n\u001b[1;32m    298\u001b[0m \u001b[38;5;28;01masync\u001b[39;00m \u001b[38;5;28;01mdef\u001b[39;00m \u001b[38;5;21minjector\u001b[39m(event):\n\u001b[1;32m    299\u001b[0m     \u001b[38;5;28;01mreturn\u001b[39;00m \u001b[38;5;28mself\u001b[39m\u001b[38;5;241m.\u001b[39mPipeline\u001b[38;5;241m.\u001b[39minject(context, event, depth)\n\u001b[0;32m--> 300\u001b[0m \u001b[38;5;28;01mreturn\u001b[39;00m \u001b[38;5;28;01mawait\u001b[39;00m func(injector, event)\n",
      "Cell \u001b[0;32mIn[11], line 3\u001b[0m, in \u001b[0;36mdocker_compose_up_daemon\u001b[0;34m(inject, event)\u001b[0m\n\u001b[1;32m      1\u001b[0m \u001b[38;5;129m@async_step\u001b[39m\n\u001b[1;32m      2\u001b[0m \u001b[38;5;28;01masync\u001b[39;00m \u001b[38;5;28;01mdef\u001b[39;00m \u001b[38;5;21mdocker_compose_up_daemon\u001b[39m(inject, event):\n\u001b[0;32m----> 3\u001b[0m     (bitswan_dir, docker_compose_yaml) \u001b[38;5;241m=\u001b[39m event\n\u001b[1;32m      4\u001b[0m     cmd \u001b[38;5;241m=\u001b[39m [\u001b[38;5;124m\"\u001b[39m\u001b[38;5;124mdocker-compose\u001b[39m\u001b[38;5;124m\"\u001b[39m, \u001b[38;5;124m\"\u001b[39m\u001b[38;5;124m-f\u001b[39m\u001b[38;5;124m\"\u001b[39m, \u001b[38;5;124m\"\u001b[39m\u001b[38;5;124m/dev/stdin\u001b[39m\u001b[38;5;124m\"\u001b[39m, \u001b[38;5;124m\"\u001b[39m\u001b[38;5;124mup\u001b[39m\u001b[38;5;124m\"\u001b[39m, \u001b[38;5;124m\"\u001b[39m\u001b[38;5;124m-d\u001b[39m\u001b[38;5;124m\"\u001b[39m]\n\u001b[1;32m      6\u001b[0m     \u001b[38;5;66;03m# Create a subprocess with stdin pipe\u001b[39;00m\n",
      "\u001b[0;31mValueError\u001b[0m: too many values to unpack (expected 2)"
     ]
    }
   ],
   "source": [
    "@async_step\n",
    "async def docker_compose_up_daemon(inject, event):\n",
    "    (bitswan_dir, docker_compose_yaml) = event\n",
    "    cmd = [\"docker-compose\", \"-f\", \"/dev/stdin\", \"up\", \"-d\"]\n",
    "\n",
    "    # Create a subprocess with stdin pipe\n",
    "    proc = await asyncio.create_subprocess_exec(\n",
    "        *cmd, \n",
    "        stdin=asyncio.subprocess.PIPE, \n",
    "        stdout=asyncio.subprocess.PIPE, \n",
    "        stderr=asyncio.subprocess.PIPE,\n",
    "        cwd=bitswan_dir\n",
    "    )\n",
    "\n",
    "    # Send docker_compose_yaml as input to the process and wait for completion\n",
    "    stdout, stderr = await proc.communicate(input=docker_compose_yaml.encode())\n",
    "\n",
    "    event = {\n",
    "        \"cmd\": cmd,\n",
    "        \"stdout\": stdout.decode(\"utf-8\"),\n",
    "        \"stderr\": stderr.decode(\"utf-8\"),\n",
    "        \"returncode\": proc.returncode,\n",
    "    }\n",
    "    await inject(event)"
   ]
  },
  {
   "cell_type": "code",
   "execution_count": null,
   "id": "8d9c3673-dab0-4b10-92f1-d8b391ecda4f",
   "metadata": {},
   "outputs": [],
   "source": [
    "@step\n",
    "def serialize_yaml(event):\n",
    "    return yaml.dump(event)"
   ]
  },
  {
   "cell_type": "code",
   "execution_count": null,
   "id": "bfd88fa5-f797-4c23-82ac-117538bb05e2",
   "metadata": {},
   "outputs": [],
   "source": [
    "@register_sink\n",
    "def init_sink(app, pipeline):\n",
    "    return bspump.common.PrintSink(app, pipeline)"
   ]
  },
  {
   "cell_type": "code",
   "execution_count": null,
   "id": "55aced63",
   "metadata": {},
   "outputs": [],
   "source": [
    "end_pipeline()"
   ]
  }
 ],
 "metadata": {
  "kernelspec": {
   "display_name": "Python 3 (ipykernel)",
   "language": "python",
   "name": "python3"
  },
  "language_info": {
   "codemirror_mode": {
    "name": "ipython",
    "version": 3
   },
   "file_extension": ".py",
   "mimetype": "text/x-python",
   "name": "python",
   "nbconvert_exporter": "python",
   "pygments_lexer": "ipython3",
   "version": "3.10.13"
  }
 },
 "nbformat": 4,
 "nbformat_minor": 5
}
