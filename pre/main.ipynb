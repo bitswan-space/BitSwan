{
 "cells": [
  {
   "cell_type": "code",
   "execution_count": 1,
   "id": "4680223b",
   "metadata": {},
   "outputs": [],
   "source": [
    "from bspump.jupyter import *\n",
    "import random\n",
    "import bspump.file\n",
    "import time\n",
    "from bspump.trigger import PeriodicTrigger\n",
    "from datetime import datetime"
   ]
  },
  {
   "cell_type": "code",
   "execution_count": 2,
   "id": "f5fd3c76-2f57-4957-b0e3-6328e31fab62",
   "metadata": {},
   "outputs": [],
   "source": [
    "new_pipeline(\"ExamplePipeline\")"
   ]
  },
  {
   "cell_type": "code",
   "execution_count": 3,
   "id": "a3f7d997-f74d-4bd8-ae58-06e97291ffc9",
   "metadata": {},
   "outputs": [],
   "source": [
    "class RandomNumberSource(bspump.abc.source.TriggerSource):\n",
    "  async def cycle(self):\n",
    "    # Roll a die and run if the result is 1\n",
    "    if random.randint(1, 6) == 1:\n",
    "      await self.process(random.randint(1, 100))"
   ]
  },
  {
   "cell_type": "code",
   "execution_count": 4,
   "id": "979fee55-b7e1-47ab-94f3-904dea5890f5",
   "metadata": {},
   "outputs": [],
   "source": [
    "@declare_source\n",
    "def init_rns(app, pipeline):\n",
    "    return RandomNumberSource(app, pipeline).on(PeriodicTrigger(app, interval=0.05))"
   ]
  },
  {
   "cell_type": "code",
   "execution_count": 5,
   "id": "ee957c39-5d6e-4bc4-90ec-cd1a3ff6dca4",
   "metadata": {},
   "outputs": [],
   "source": [
    "test_events([1, 2, 3])"
   ]
  },
  {
   "cell_type": "code",
   "execution_count": 6,
   "id": "67e91027-d95c-41ec-9377-991ce5925c86",
   "metadata": {},
   "outputs": [
    {
     "name": "stdout",
     "output_type": "stream",
     "text": [
      "{'timestamp': '2023-11-20 22:56:35.619881', 'random_number': 1, 'doubled': 2}\n",
      "{'timestamp': '2023-11-20 22:56:35.693050', 'random_number': 2, 'doubled': 4}\n",
      "{'timestamp': '2023-11-20 22:56:35.714197', 'random_number': 3, 'doubled': 6}\n"
     ]
    }
   ],
   "source": [
    "@step\n",
    "def enrich_event(event):\n",
    "        current_time = datetime.now()\n",
    "        timestamp = current_time.strftime('%Y-%m-%d %H:%M:%S.%f')\n",
    "        # sleep a random amount of time between 1 and 100ms\n",
    "        time.sleep(random.randint(1, 100) / 1000)\n",
    "\n",
    "        event = {\n",
    "            \"timestamp\": timestamp,\n",
    "            \"random_number\": event,\n",
    "            \"doubled\": event * 2,\n",
    "        }\n",
    "        return event"
   ]
  },
  {
   "cell_type": "code",
   "execution_count": 7,
   "id": "d39fc723-32b2-45a4-9479-7b98793751b6",
   "metadata": {},
   "outputs": [
    {
     "name": "stdout",
     "output_type": "stream",
     "text": [
      "{'timestamp': '2023-11-20 22:56:35.619881', 'random_number': 1, 'doubled': 2, 'squared': 1}\n",
      "{'timestamp': '2023-11-20 22:56:35.693050', 'random_number': 2, 'doubled': 4, 'squared': 4}\n",
      "{'timestamp': '2023-11-20 22:56:35.714197', 'random_number': 3, 'doubled': 6, 'squared': 9}\n"
     ]
    }
   ],
   "source": [
    "@step\n",
    "def add_squared(event):\n",
    "    event[\"squared\"] = event[\"random_number\"] ** 2\n",
    "    return event"
   ]
  },
  {
   "cell_type": "code",
   "execution_count": 8,
   "id": "d6588afb-ce85-4b8c-bc58-cb2df0e7bef7",
   "metadata": {},
   "outputs": [
    {
     "name": "stdout",
     "output_type": "stream",
     "text": [
      "{'timestamp': '2023-11-20 22:56:35.619881', 'random_number': 1, 'doubled': 2, 'squared': 1, 'halved': 0.5}\n",
      "{'timestamp': '2023-11-20 22:56:35.693050', 'random_number': 2, 'doubled': 4, 'squared': 4, 'halved': 1.0}\n",
      "{'timestamp': '2023-11-20 22:56:35.714197', 'random_number': 3, 'doubled': 6, 'squared': 9, 'halved': 1.5}\n"
     ]
    }
   ],
   "source": [
    "@step\n",
    "def add_halved(event):\n",
    "    event[\"halved\"] = event[\"random_number\"] / 2\n",
    "    return event"
   ]
  },
  {
   "cell_type": "code",
   "execution_count": 9,
   "id": "bfd88fa5-f797-4c23-82ac-117538bb05e2",
   "metadata": {},
   "outputs": [],
   "source": [
    "@declare_sink\n",
    "def init_file_sink(app, pipeline):\n",
    "    return bspump.file.FileCSVSink(app, pipeline)"
   ]
  },
  {
   "cell_type": "code",
   "execution_count": 10,
   "id": "55aced63",
   "metadata": {},
   "outputs": [],
   "source": [
    "end_pipeline()"
   ]
  }
 ],
 "metadata": {
  "kernelspec": {
   "display_name": "Python 3 (ipykernel)",
   "language": "python",
   "name": "python3"
  },
  "language_info": {
   "codemirror_mode": {
    "name": "ipython",
    "version": 3
   },
   "file_extension": ".py",
   "mimetype": "text/x-python",
   "name": "python",
   "nbconvert_exporter": "python",
   "pygments_lexer": "ipython3",
   "version": "3.11.3"
  }
 },
 "nbformat": 4,
 "nbformat_minor": 5
}
