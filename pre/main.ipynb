{
 "cells": [
  {
   "cell_type": "markdown",
   "id": "447926d0-64da-40f5-827e-cd2889d5c03e",
   "metadata": {},
   "source": [
    "Bitswan Gitops Webhook Pipeline\n",
    "-------------------------------\n",
    "\n",
    "This pipeline allows you to easilly deploy Bitswan pipelines to any server. You just need to POST to the webhook in your CI and your pipelines will be running in no time.\n",
    "\n",
    "To install bitswan you need to initialize a git repository on your server/the place you want to run your bitswan installation and run the bitswan-pre docker image with the following ENV vars set:\n",
    "\n",
    "- `BS_WEBHOOK_PORT`\n",
    "- `BS_WEBHOOK_SECRET` - A secret that will be added to your webhook URL. To deploy post `{\"action\": \"deploy-git\"}` to the URL `https://localhost:<BS_WEBHOOK_PORT>/?secret=<BS_WEBHOOK_SECRET>`\n",
    "- `BS_REPO_ROOT` - The repo with your data machines.\n",
    "- `BS_BITSWAN_DIR` - The directory where your `bitswan.yaml` file resides. Should be a subdirectory of `BS_REPO_ROOT`\n",
    "\n",
    "Simply adding the following curl command to your CI/CD pipeline should be enough to automatically deploy your data machines:\n",
    "\n",
    "```\n",
    "curl -X POST \"https://<WEBHOOK_URL>:<BS_WEBHOOK_PORT>/?secret=<BS_WEBHOOK_SECRET>\" -d '{\"action\": \"deploy-git\"}'\n",
    "```"
   ]
  },
  {
   "cell_type": "code",
   "execution_count": 1,
   "id": "4680223b",
   "metadata": {},
   "outputs": [],
   "source": [
    "from bspump.jupyter import *\n",
    "import bspump.http.web.source\n",
    "import bspump.file\n",
    "import time\n",
    "import json\n",
    "import os\n",
    "import asyncio\n",
    "import yaml"
   ]
  },
  {
   "cell_type": "code",
   "execution_count": 3,
   "id": "f5fd3c76-2f57-4957-b0e3-6328e31fab62",
   "metadata": {},
   "outputs": [],
   "source": [
    "new_pipeline(\"BitswanGitopsWebHookPipeline\")"
   ]
  },
  {
   "cell_type": "code",
   "execution_count": 4,
   "id": "979fee55-b7e1-47ab-94f3-904dea5890f5",
   "metadata": {},
   "outputs": [],
   "source": [
    "@register_source\n",
    "def source(app, pipeline):\n",
    "   return bspump.http.web.source.WebHookSource(\n",
    "       app,\n",
    "       pipeline,\n",
    "       config = {\n",
    "           \"port\": os.environ.get(\"BS_WEBHOOK_PORT\", 8080),\n",
    "           \"path\": \"/\",\n",
    "           \"secret_qparam\": os.environ.get(\"BS_WEBHOOK_SECRET\", \"not-secure\")\n",
    "       })"
   ]
  },
  {
   "cell_type": "code",
   "execution_count": 5,
   "id": "ee957c39-5d6e-4bc4-90ec-cd1a3ff6dca4",
   "metadata": {},
   "outputs": [],
   "source": [
    "sample_events([\n",
    "    b\"\"\"{\"action\": \"deploy-git\"}\"\"\"\n",
    "])"
   ]
  },
  {
   "cell_type": "code",
   "execution_count": 6,
   "id": "67e91027-d95c-41ec-9377-991ce5925c86",
   "metadata": {},
   "outputs": [
    {
     "name": "stdout",
     "output_type": "stream",
     "text": [
      "{'action': 'deploy-git'}\n"
     ]
    }
   ],
   "source": [
    "@step\n",
    "def parse_json(event):\n",
    "    return json.loads(event)"
   ]
  },
  {
   "cell_type": "code",
   "execution_count": null,
   "id": "fba255d4-376e-4905-8ec1-15e32cbf36de",
   "metadata": {},
   "outputs": [],
   "source": [
    "@step\n",
    "def get_repo_root(event):\n",
    "    repo_root = os.environ.get(\"BS_REPO_ROOT\", \"/mnt/repo\")\n",
    "    return repo_root"
   ]
  },
  {
   "cell_type": "code",
   "execution_count": 2,
   "id": "74a2764f-c183-4f60-9374-04add7c72b60",
   "metadata": {},
   "outputs": [],
   "source": [
    "sample_events([\n",
    "    \"/home/timothy/pr/libertyaces/product/bitswanmonorepo/server-configs/libertyaces/hetzner-1/docker-compose/zabbix-demo\"\n",
    "])"
   ]
  },
  {
   "cell_type": "code",
   "execution_count": null,
   "id": "82dbe90b-9128-490d-8c09-33cf02caf240",
   "metadata": {},
   "outputs": [],
   "source": [
    "@async_step\n",
    "async def git_pull(inject, repo_root):\n",
    "    await asyncio.create_subprocess_exec(\"git\", \"pull\", cwd=repo_root)\n",
    "    await inject(repo_root)"
   ]
  },
  {
   "cell_type": "code",
   "execution_count": 4,
   "id": "b50f90d1-3e99-4f3a-8b5f-482dba943e1c",
   "metadata": {},
   "outputs": [
    {
     "name": "stdout",
     "output_type": "stream",
     "text": [
      "('/home/timothy/pr/libertyaces/product/bitswanmonorepo/server-configs/libertyaces/hetzner-1/docker-compose/zabbix-demo', {'env-dir': '/etc/data-machines-secrets/', 'default-networks': ['default'], 'data-machines': {'demo-zabbix-demo-loader': {'volumes': ['/mnt/data/zabbix-demo/:/data/'], 'source': 'demo-zabbix-demo-loader'}, 'demo-zabbix-cleaner': {'source': 'zabbix-cleaner'}, 'demo-zabbix-analyzer': {'source': 'zabbix-analyzer'}, 'demo-zabbix-shoveler': {'source': 'zabbix-shoveler'}}})\n"
     ]
    }
   ],
   "source": [
    "@step\n",
    "def load_bitswan_yaml(repo_root):\n",
    "    dmy = yaml.full_load(open(os.path.join(repo_root, \"bitswan.yaml\")))\n",
    "    return (repo_root, dmy)"
   ]
  },
  {
   "cell_type": "code",
   "execution_count": 9,
   "id": "7aa05873-a827-4f7d-b26c-3f9a63ba366a",
   "metadata": {},
   "outputs": [
    {
     "name": "stdout",
     "output_type": "stream",
     "text": [
      "services:\n",
      "  demo-zabbix-analyzer:\n",
      "    ENVIRONMENT:\n",
      "      DEPLOYMENT_ID: demo-zabbix-analyzer\n",
      "    env_file:\n",
      "    - /etc/data-machines-secrets/demo-zabbix-analyzer\n",
      "    networks:\n",
      "    - default\n",
      "  demo-zabbix-cleaner:\n",
      "    ENVIRONMENT:\n",
      "      DEPLOYMENT_ID: demo-zabbix-cleaner\n",
      "    networks:\n",
      "    - default\n",
      "  demo-zabbix-demo-loader:\n",
      "    ENVIRONMENT:\n",
      "      DEPLOYMENT_ID: demo-zabbix-demo-loader\n",
      "    networks:\n",
      "    - default\n",
      "  demo-zabbix-shoveler:\n",
      "    ENVIRONMENT:\n",
      "      DEPLOYMENT_ID: demo-zabbix-shoveler\n",
      "    networks:\n",
      "    - default\n",
      "version: 3\n",
      "\n",
      "('/home/timothy/pr/libertyaces/product/bitswanmonorepo/server-configs/libertyaces/hetzner-1/docker-compose/zabbix-demo', 'services:\\n  demo-zabbix-analyzer:\\n    ENVIRONMENT:\\n      DEPLOYMENT_ID: demo-zabbix-analyzer\\n    env_file:\\n    - /etc/data-machines-secrets/demo-zabbix-analyzer\\n    networks:\\n    - default\\n  demo-zabbix-cleaner:\\n    ENVIRONMENT:\\n      DEPLOYMENT_ID: demo-zabbix-cleaner\\n    networks:\\n    - default\\n  demo-zabbix-demo-loader:\\n    ENVIRONMENT:\\n      DEPLOYMENT_ID: demo-zabbix-demo-loader\\n    networks:\\n    - default\\n  demo-zabbix-shoveler:\\n    ENVIRONMENT:\\n      DEPLOYMENT_ID: demo-zabbix-shoveler\\n    networks:\\n    - default\\nversion: 3\\n')\n"
     ]
    }
   ],
   "source": [
    "@step\n",
    "def generate_docker_compose(event):\n",
    "    (repo_root, bitswan_yaml) = event\n",
    "    dc = {\n",
    "        \"version\": 3,\n",
    "        \"services\": {}\n",
    "    }\n",
    "    for deployment_id, conf in bitswan_yaml[\"data-machines\"].items():\n",
    "        entry = {}\n",
    "        entry[\"ENVIRONMENT\"] = {\"DEPLOYMENT_ID\": deployment_id}\n",
    "        if \"env-dir\" in bitswan_yaml:\n",
    "           env_file = os.path.join(bitswan_yaml[\"env-dir\"], deployment_id)\n",
    "           if os.path.exists(env_file):\n",
    "               entry[\"env_file\"] = [env_file]\n",
    "        if \"default-networks\" in bitswan_yaml:\n",
    "            entry[\"networks\"] = bitswan_yaml[\"default-networks\"].copy()\n",
    "        dc[\"services\"][deployment_id] = entry\n",
    "    dc_yaml = yaml.dump(dc)\n",
    "    print(dc_yaml)\n",
    "    return (repo_root, dc_yaml)"
   ]
  },
  {
   "cell_type": "code",
   "execution_count": 10,
   "id": "b2749820-4b49-49dc-b9b3-0d6a958cc0b7",
   "metadata": {},
   "outputs": [
    {
     "name": "stdout",
     "output_type": "stream",
     "text": [
      "('/home/timothy/pr/libertyaces/product/bitswanmonorepo/server-configs/libertyaces/hetzner-1/docker-compose/zabbix-demo', '/mnt/repo/bitswan', 'services:\\n  demo-zabbix-analyzer:\\n    ENVIRONMENT:\\n      DEPLOYMENT_ID: demo-zabbix-analyzer\\n    env_file:\\n    - /etc/data-machines-secrets/demo-zabbix-analyzer\\n    networks:\\n    - default\\n  demo-zabbix-cleaner:\\n    ENVIRONMENT:\\n      DEPLOYMENT_ID: demo-zabbix-cleaner\\n    networks:\\n    - default\\n  demo-zabbix-demo-loader:\\n    ENVIRONMENT:\\n      DEPLOYMENT_ID: demo-zabbix-demo-loader\\n    networks:\\n    - default\\n  demo-zabbix-shoveler:\\n    ENVIRONMENT:\\n      DEPLOYMENT_ID: demo-zabbix-shoveler\\n    networks:\\n    - default\\nversion: 3\\n')\n"
     ]
    }
   ],
   "source": [
    "@step\n",
    "def get_bitswan_dir(event):\n",
    "    (repo_root, docker_compose_yaml) = event\n",
    "    bitswan_dir = os.environ.get(\"BS_BITSWAN_DIR\", \"/mnt/repo/bitswan\")\n",
    "    return repo_root, bitswan_dir, docker_compose_yaml"
   ]
  },
  {
   "cell_type": "code",
   "execution_count": null,
   "id": "4676535b-71a8-49aa-a326-6cb67dab2350",
   "metadata": {},
   "outputs": [],
   "source": [
    "@async_step\n",
    "async def docker_compose_up_daemon(inject, event):\n",
    "    (repo_root, bitswan_dir, docker_compose_yaml) = event\n",
    "    cmd = [\"docker-compose\", \"-f\", \"-\", \"up\", \"-d\"]\n",
    "\n",
    "    # Create a subprocess with stdin pipe\n",
    "    proc = await asyncio.create_subprocess_exec(\n",
    "        *cmd, \n",
    "        stdin=asyncio.subprocess.PIPE, \n",
    "        stdout=asyncio.subprocess.PIPE, \n",
    "        stderr=asyncio.subprocess.PIPE,\n",
    "        cwd=bitswan_dir\n",
    "    )\n",
    "\n",
    "    # Send docker_compose_yaml as input to the process and wait for completion\n",
    "    stdout, stderr = await proc.communicate(input=docker_compose_yaml.encode())\n",
    "\n",
    "    event = {\n",
    "        \"cmd\": cmd,\n",
    "        \"stdout\": stdout.decode(\"utf-8\"),\n",
    "        \"stderr\": stderr.decode(\"utf-8\"),\n",
    "        \"returncode\": proc.returncode,\n",
    "    }\n",
    "    await inject(event)"
   ]
  },
  {
   "cell_type": "code",
   "execution_count": null,
   "id": "8d9c3673-dab0-4b10-92f1-d8b391ecda4f",
   "metadata": {},
   "outputs": [],
   "source": [
    "@step\n",
    "def serialize_json(event):\n",
    "    return json.dumps(event)"
   ]
  },
  {
   "cell_type": "code",
   "execution_count": 8,
   "id": "bfd88fa5-f797-4c23-82ac-117538bb05e2",
   "metadata": {},
   "outputs": [],
   "source": [
    "@register_sink\n",
    "def init_sink(app, pipeline):\n",
    "    return bspump.file.FileBlockSink(app, pipeline)"
   ]
  },
  {
   "cell_type": "code",
   "execution_count": 9,
   "id": "55aced63",
   "metadata": {},
   "outputs": [],
   "source": [
    "end_pipeline()"
   ]
  }
 ],
 "metadata": {
  "kernelspec": {
   "display_name": "Python 3 (ipykernel)",
   "language": "python",
   "name": "python3"
  },
  "language_info": {
   "codemirror_mode": {
    "name": "ipython",
    "version": 3
   },
   "file_extension": ".py",
   "mimetype": "text/x-python",
   "name": "python",
   "nbconvert_exporter": "python",
   "pygments_lexer": "ipython3",
   "version": "3.10.13"
  }
 },
 "nbformat": 4,
 "nbformat_minor": 5
}
