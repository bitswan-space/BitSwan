{
 "cells": [
  {
   "cell_type": "code",
   "id": "initial_id",
   "metadata": {
    "collapsed": true,
    "ExecuteTime": {
     "end_time": "2025-05-26T12:26:17.124378Z",
     "start_time": "2025-05-26T12:26:17.122159Z"
    }
   },
   "source": [
    "import bspump.http_webchat.server.app as webchat\n",
    "import os\n",
    "from bspump.http_webchat.server.app import WebChatTemplateEnv\n",
    "from bspump.http_webchat.server.app import FormInput, WebChatPromptForm, WebChatResponseSequence, WebChatResponse"
   ],
   "outputs": [],
   "execution_count": 6
  },
  {
   "metadata": {
    "ExecuteTime": {
     "end_time": "2025-05-26T12:26:17.143602Z",
     "start_time": "2025-05-26T12:26:17.130900Z"
    }
   },
   "cell_type": "code",
   "source": [
    "notebook_name = \"fund12.ipynb\"\n",
    "webchat.register_endpoint(\"/fund_id=12\", notebook_name=notebook_name)"
   ],
   "id": "7d0e3031e3b223e2",
   "outputs": [
    {
     "name": "stdout",
     "output_type": "stream",
     "text": [
      "[WebChat] Registered: /fund_id=12 -> /home/monca/Documents/Dev/Bitswan/Bitswan/bspump/http_webchat/example/fund12.ipynb\n"
     ]
    }
   ],
   "execution_count": 7
  },
  {
   "metadata": {
    "ExecuteTime": {
     "end_time": "2025-05-26T12:26:17.180794Z",
     "start_time": "2025-05-26T12:26:17.178413Z"
    }
   },
   "cell_type": "code",
   "source": [
    "base_dir = os.getcwd()\n",
    "\n",
    "template_env = WebChatTemplateEnv(\n",
    "    os.path.abspath(os.path.join(base_dir, \"templates\"))\n",
    ").get_jinja_env()"
   ],
   "id": "3e977c6c61d00e0c",
   "outputs": [],
   "execution_count": 8
  },
  {
   "metadata": {
    "ExecuteTime": {
     "end_time": "2025-05-26T12:26:17.227771Z",
     "start_time": "2025-05-26T12:26:17.224761Z"
    }
   },
   "cell_type": "code",
   "source": [
    "html_output = WebChatResponse(\n",
    "                    input_html=\"Total valuation is\",\n",
    "                    api_endpoint=\"https://run.mocky.io/v3/1e17cf34-ab78-40b9-8512-136e290a43c2\",\n",
    "                ).get_html(template_env)"
   ],
   "id": "c4ee49cf578d91ac",
   "outputs": [],
   "execution_count": 9
  },
  {
   "metadata": {
    "ExecuteTime": {
     "end_time": "2025-05-26T12:26:17.275290Z",
     "start_time": "2025-05-26T12:26:17.271588Z"
    }
   },
   "cell_type": "code",
   "source": "html_output",
   "id": "7d20d072014f0ad2",
   "outputs": [
    {
     "data": {
      "text/plain": [
       "'<div\\n    id=\"webchat_response_with_request\"\\n    class=\"webchat_response fade-in px-8 py-8 flex gap-4 items-center text-primary dark:text-primary-dark border-b border-secondary w-[90%]\"\\n    ><style>\\n      .fade-in {\\n        opacity: 0;\\n        transform: translateY(10px);\\n        animation: fadeSlideIn 0.6s ease forwards;\\n      }\\n\\n      @keyframes fadeSlideIn {\\n        to {\\n          opacity: 1;\\n          transform: translateY(0);\\n        }\\n      }\\n    </style>\\n    <div class=\"response-text\">\\n        Total valuation is\\n    </div>\\n\\n    <div id=\"api_request\"\\n        hx-get=\"/api/proxy?url=https://run.mocky.io/v3/1e17cf34-ab78-40b9-8512-136e290a43c2\"\\n        hx-trigger=\"load\"\\n        hx-swap=\"innerHTML\"\\n        class=\"text-secondary\"\\n    >\\n        <span id=\"loading_spinner\">Loading...</span>\\n    </div>\\n</div>'"
      ]
     },
     "execution_count": 10,
     "metadata": {},
     "output_type": "execute_result"
    }
   ],
   "execution_count": 10
  }
 ],
 "metadata": {
  "kernelspec": {
   "display_name": "Python 3",
   "language": "python",
   "name": "python3"
  },
  "language_info": {
   "codemirror_mode": {
    "name": "ipython",
    "version": 2
   },
   "file_extension": ".py",
   "mimetype": "text/x-python",
   "name": "python",
   "nbconvert_exporter": "python",
   "pygments_lexer": "ipython2",
   "version": "2.7.6"
  }
 },
 "nbformat": 4,
 "nbformat_minor": 5
}
