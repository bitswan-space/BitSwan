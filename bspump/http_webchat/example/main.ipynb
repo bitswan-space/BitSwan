{
 "cells": [
  {
   "metadata": {
    "ExecuteTime": {
     "end_time": "2025-05-23T14:15:16.785037Z",
     "start_time": "2025-05-23T14:15:16.350877Z"
    }
   },
   "cell_type": "code",
   "source": [
    "import bspump.http_webchat.server.app as webchat_app\n",
    "import os\n",
    "from bspump.http_webchat.server.app import WebChatTemplateEnv"
   ],
   "id": "a2de0ad5c1d53942",
   "outputs": [],
   "execution_count": 1
  },
  {
   "metadata": {
    "ExecuteTime": {
     "end_time": "2025-05-23T14:15:16.975196Z",
     "start_time": "2025-05-23T14:15:16.972521Z"
    }
   },
   "cell_type": "code",
   "source": [
    "base_dir = os.getcwd()\n",
    "\n",
    "template_env = WebChatTemplateEnv(\n",
    "    os.path.abspath(os.path.join(base_dir, \"templates\"))\n",
    ").get_jinja_env()"
   ],
   "id": "954d2ff7ac750766",
   "outputs": [],
   "execution_count": 2
  },
  {
   "metadata": {
    "ExecuteTime": {
     "end_time": "2025-05-23T14:15:18.118058Z",
     "start_time": "2025-05-23T14:15:18.114449Z"
    }
   },
   "cell_type": "code",
   "source": "webchat_app.load_registered_endpoints()",
   "id": "b86a4eb94b35a1fa",
   "outputs": [],
   "execution_count": 3
  },
  {
   "metadata": {
    "ExecuteTime": {
     "end_time": "2025-05-23T14:15:18.872640Z",
     "start_time": "2025-05-23T14:15:18.867351Z"
    }
   },
   "cell_type": "code",
   "source": "webchat_app._registered_endpoints_notebooks",
   "id": "bfb0c7a15ded2160",
   "outputs": [
    {
     "data": {
      "text/plain": [
       "{'/api/welcome_window': '/home/monca/Documents/Dev/Bitswan/Bitswan/bspump/http_webchat/example/welcome_window.ipynb',\n",
       " '/api/response_box': '/home/monca/Documents/Dev/Bitswan/Bitswan/bspump/http_webchat/example/fund12.ipynb'}"
      ]
     },
     "execution_count": 4,
     "metadata": {},
     "output_type": "execute_result"
    }
   ],
   "execution_count": 4
  },
  {
   "cell_type": "code",
   "id": "initial_id",
   "metadata": {
    "collapsed": true,
    "ExecuteTime": {
     "end_time": "2025-05-23T14:20:10.311013Z",
     "start_time": "2025-05-23T14:20:10.306836Z"
    }
   },
   "source": [
    "webchat = webchat_app.WebChat(\n",
    "    welcome_message_api=\"/api/welcome_window\",\n",
    "    prompt_response_api=\"/api/response_box\"\n",
    ")\n",
    "\n",
    "webchat.start_webchat(host=\"127.0.0.1\", port=8080)"
   ],
   "outputs": [],
   "execution_count": 8
  },
  {
   "metadata": {
    "ExecuteTime": {
     "end_time": "2025-05-23T14:12:27.390864Z",
     "start_time": "2025-05-23T14:12:27.387427Z"
    }
   },
   "cell_type": "code",
   "source": [
    "# To stop the server, run (await since stop_webchat is async)\n",
    "await webchat.stop_webchat()"
   ],
   "id": "1e27a3e84a7d1a7f",
   "outputs": [
    {
     "name": "stdout",
     "output_type": "stream",
     "text": [
      "Server is not running or already stopped.\n"
     ]
    }
   ],
   "execution_count": 11
  }
 ],
 "metadata": {
  "kernelspec": {
   "display_name": "Python 3",
   "language": "python",
   "name": "python3"
  },
  "language_info": {
   "codemirror_mode": {
    "name": "ipython",
    "version": 2
   },
   "file_extension": ".py",
   "mimetype": "text/x-python",
   "name": "python",
   "nbconvert_exporter": "python",
   "pygments_lexer": "ipython2",
   "version": "2.7.6"
  }
 },
 "nbformat": 4,
 "nbformat_minor": 5
}
