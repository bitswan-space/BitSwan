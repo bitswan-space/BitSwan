{
 "cells": [
  {
   "metadata": {
    "ExecuteTime": {
     "end_time": "2025-05-27T09:00:57.292736Z",
     "start_time": "2025-05-27T09:00:56.549671Z"
    }
   },
   "cell_type": "code",
   "source": [
    "import bspump.http_webchat.server.app as webchat_app\n",
    "import os\n",
    "from bspump.http_webchat.server.app import WebChatTemplateEnv"
   ],
   "id": "a2de0ad5c1d53942",
   "outputs": [],
   "execution_count": 1
  },
  {
   "metadata": {
    "ExecuteTime": {
     "end_time": "2025-05-27T09:00:57.304688Z",
     "start_time": "2025-05-27T09:00:57.300333Z"
    }
   },
   "cell_type": "code",
   "source": [
    "base_dir = os.getcwd()\n",
    "\n",
    "template_env = WebChatTemplateEnv(\n",
    "    os.path.abspath(os.path.join(base_dir, \"templates\"))\n",
    ").get_jinja_env()"
   ],
   "id": "954d2ff7ac750766",
   "outputs": [],
   "execution_count": 2
  },
  {
   "metadata": {
    "ExecuteTime": {
     "end_time": "2025-05-27T09:01:13.862321Z",
     "start_time": "2025-05-27T09:01:13.857163Z"
    }
   },
   "cell_type": "code",
   "source": "webchat_app.load_registered_endpoints()",
   "id": "b86a4eb94b35a1fa",
   "outputs": [],
   "execution_count": 3
  },
  {
   "metadata": {
    "ExecuteTime": {
     "end_time": "2025-05-27T09:01:14.991133Z",
     "start_time": "2025-05-27T09:01:14.982792Z"
    }
   },
   "cell_type": "code",
   "source": "webchat_app._registered_endpoints_notebooks",
   "id": "bfb0c7a15ded2160",
   "outputs": [
    {
     "data": {
      "text/plain": [
       "{'/api/welcome_window': '/home/monca/Documents/Dev/Bitswan/Bitswan/bspump/http_webchat/example/welcome_window.ipynb',\n",
       " '/api/response_box': '/home/monca/Documents/Dev/Bitswan/Bitswan/bspump/http_webchat/example/fund12.ipynb',\n",
       " '/fund_id=12': '/home/monca/Documents/Dev/Bitswan/Bitswan/bspump/http_webchat/example/fund12.ipynb',\n",
       " '/fund_id=1234': '/home/monca/Documents/Dev/Bitswan/Bitswan/bspump/http_webchat/example/fund1234.ipynb',\n",
       " '/fund_id=1': '/home/monca/Documents/Dev/Bitswan/Bitswan/bspump/http_webchat/example/fund1.ipynb',\n",
       " '/fund_id=11': '/home/monca/Documents/Dev/Bitswan/Bitswan/bspump/http_webchat/example/fund11.ipynb'}"
      ]
     },
     "execution_count": 4,
     "metadata": {},
     "output_type": "execute_result"
    }
   ],
   "execution_count": 4
  },
  {
   "metadata": {
    "ExecuteTime": {
     "end_time": "2025-05-27T09:01:16.482564Z",
     "start_time": "2025-05-27T09:01:16.476449Z"
    }
   },
   "cell_type": "code",
   "source": "webchat_app._registered_endpoints",
   "id": "122c7b994dfaa451",
   "outputs": [
    {
     "data": {
      "text/plain": [
       "{}"
      ]
     },
     "execution_count": 5,
     "metadata": {},
     "output_type": "execute_result"
    }
   ],
   "execution_count": 5
  },
  {
   "cell_type": "code",
   "id": "initial_id",
   "metadata": {
    "collapsed": true,
    "ExecuteTime": {
     "end_time": "2025-05-27T09:01:17.791085Z",
     "start_time": "2025-05-27T09:01:17.785152Z"
    }
   },
   "source": [
    "webchat = webchat_app.WebChat(\n",
    "    welcome_message_api=\"/api/welcome_window\",\n",
    "    prompt_response_api=\"/api/response_box\"\n",
    ")\n",
    "\n",
    "webchat.start_webchat(host=\"127.0.0.1\", port=8080)"
   ],
   "outputs": [],
   "execution_count": 6
  },
  {
   "metadata": {
    "ExecuteTime": {
     "end_time": "2025-05-26T12:12:29.167293Z",
     "start_time": "2025-05-26T12:12:29.011497Z"
    }
   },
   "cell_type": "code",
   "source": [
    "# To stop the server, run (await since stop_webchat is async)\n",
    "await webchat.stop_webchat()"
   ],
   "id": "1e27a3e84a7d1a7f",
   "outputs": [
    {
     "ename": "NameError",
     "evalue": "name 'webchat' is not defined",
     "output_type": "error",
     "traceback": [
      "\u001B[31m---------------------------------------------------------------------------\u001B[39m",
      "\u001B[31mNameError\u001B[39m                                 Traceback (most recent call last)",
      "\u001B[36mCell\u001B[39m\u001B[36m \u001B[39m\u001B[32mIn[4]\u001B[39m\u001B[32m, line 2\u001B[39m\n\u001B[32m      1\u001B[39m \u001B[38;5;66;03m# To stop the server, run (await since stop_webchat is async)\u001B[39;00m\n\u001B[32m----> \u001B[39m\u001B[32m2\u001B[39m \u001B[38;5;28;01mawait\u001B[39;00m \u001B[43mwebchat\u001B[49m.stop_webchat()\n",
      "\u001B[31mNameError\u001B[39m: name 'webchat' is not defined"
     ]
    }
   ],
   "execution_count": 4
  }
 ],
 "metadata": {
  "kernelspec": {
   "display_name": "Python 3",
   "language": "python",
   "name": "python3"
  },
  "language_info": {
   "codemirror_mode": {
    "name": "ipython",
    "version": 2
   },
   "file_extension": ".py",
   "mimetype": "text/x-python",
   "name": "python",
   "nbconvert_exporter": "python",
   "pygments_lexer": "ipython2",
   "version": "2.7.6"
  }
 },
 "nbformat": 4,
 "nbformat_minor": 5
}
