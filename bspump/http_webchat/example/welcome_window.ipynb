{
 "cells": [
  {
   "cell_type": "code",
   "id": "initial_id",
   "metadata": {
    "collapsed": true,
    "ExecuteTime": {
     "end_time": "2025-05-23T14:04:13.141063Z",
     "start_time": "2025-05-23T14:04:12.716976Z"
    }
   },
   "source": [
    "import bspump.http_webchat.server.app as webchat\n",
    "import os\n",
    "from bspump.http_webchat.server.app import WebChatTemplateEnv"
   ],
   "outputs": [],
   "execution_count": 1
  },
  {
   "metadata": {
    "ExecuteTime": {
     "end_time": "2025-05-23T14:04:13.592463Z",
     "start_time": "2025-05-23T14:04:13.589349Z"
    }
   },
   "cell_type": "code",
   "source": [
    "notebook_name = \"welcome_window.ipynb\"\n",
    "webchat.register_endpoint(\"/api/welcome_window\", notebook_name)\n"
   ],
   "id": "7d0e3031e3b223e2",
   "outputs": [
    {
     "name": "stdout",
     "output_type": "stream",
     "text": [
      "[WebChat] Skipping duplicate route: /api/welcome_window\n"
     ]
    }
   ],
   "execution_count": 2
  },
  {
   "metadata": {
    "ExecuteTime": {
     "end_time": "2025-05-23T14:04:14.436518Z",
     "start_time": "2025-05-23T14:04:14.432799Z"
    }
   },
   "cell_type": "code",
   "source": [
    "base_dir = os.getcwd()\n",
    "\n",
    "template_env = WebChatTemplateEnv(\n",
    "    os.path.abspath(os.path.join(base_dir, \"templates\"))\n",
    ").get_jinja_env()"
   ],
   "id": "3e977c6c61d00e0c",
   "outputs": [],
   "execution_count": 3
  },
  {
   "metadata": {
    "ExecuteTime": {
     "end_time": "2025-05-23T14:04:16.133492Z",
     "start_time": "2025-05-23T14:04:16.128973Z"
    }
   },
   "cell_type": "code",
   "source": [
    "fund_input = webchat.FormInput(\n",
    "        label=\"Fond\", name=\"fund_id\", input_type=\"text\", required=True\n",
    ")\n",
    "fund_form = webchat.WebChatPromptForm(\n",
    "    form_inputs=[fund_input], submit_api_call=\"/api/response_box\"\n",
    ")\n",
    "welcome_message = webchat.WebChatWelcomeWindow(\n",
    "    welcome_text=\"Hello, welcome to the odkupy calculation assistant. Please select the fond you would like to calculate odkupy for.\",\n",
    "    prompt_form=fund_form,\n",
    "endpoint_route=\"api/welcome_window\",)"
   ],
   "id": "22f08dd6283ebbc0",
   "outputs": [],
   "execution_count": 4
  },
  {
   "metadata": {
    "ExecuteTime": {
     "end_time": "2025-05-23T14:21:56.097216Z",
     "start_time": "2025-05-23T14:21:56.087690Z"
    }
   },
   "cell_type": "code",
   "source": "html_output = welcome_message.get_html(template_env)",
   "id": "c4ee49cf578d91ac",
   "outputs": [],
   "execution_count": 6
  },
  {
   "metadata": {
    "ExecuteTime": {
     "end_time": "2025-05-23T14:21:57.125664Z",
     "start_time": "2025-05-23T14:21:57.121298Z"
    }
   },
   "cell_type": "code",
   "source": "html_output",
   "id": "9faeae2afa2117cf",
   "outputs": [
    {
     "data": {
      "text/plain": [
       "'Hello, welcome to the odkupy calculation assistant. Please select the fond you would like to calculate odkupy for.\\n\\n\\n<div\\n  hx-swap-oob=\"true\"\\n  id=\"prompt-input\"\\n  class=\"shadow-md rounded-xl w-[90%] px-8 py-6 border border-secondary\"\\n>\\n  <form\\n      hx-post=\"/api/response_box\"\\n      hx-target=\"#response-box\"\\n      hx-swap=\"beforeend\"\\n      class=\"flex items-center w-full text-sm text-primary dark:text-primary-dark gap-4 pl-8\"\\n    >\\n      <div class=\"flex-grow flex flex-col gap-4\">\\n      \\n        <div class=\"flex items-center\">\\n          <label for=\"fund_id\" class=\"text-primary dark:text-primary-dark text-sm font-semibold w-[120px]\">Fond</label>\\n          <input\\n            type=\"text\"\\n            id=\"fund_id\"\\n            name=\"fund_id\"\\n            class=\"text-primary border border-secondary  text-sm px-4 py-1 rounded-md font-mono w-full max-w-[150px] mx-2\"\\n            \\n             required \\n          />\\n        </div>\\n      \\n    </div>\\n\\n    <button\\n      id=\"fund_button\"\\n      type=\"submit\"\\n      class=\"bg-primary dark:bg-primary-dark hover:bg-secondary hover:dark:bg-secondary-dark hover:text-primary hover:dark:text-primary-dark text-secondary dark:text-secondary-dark px-3 pb-1 rounded-full transition text-2xl ml-auto\"\\n    >\\n      ↑\\n    </button>\\n</form>\\n</div>\\n'"
      ]
     },
     "execution_count": 7,
     "metadata": {},
     "output_type": "execute_result"
    }
   ],
   "execution_count": 7
  }
 ],
 "metadata": {
  "kernelspec": {
   "display_name": "Python 3",
   "language": "python",
   "name": "python3"
  },
  "language_info": {
   "codemirror_mode": {
    "name": "ipython",
    "version": 2
   },
   "file_extension": ".py",
   "mimetype": "text/x-python",
   "name": "python",
   "nbconvert_exporter": "python",
   "pygments_lexer": "ipython2",
   "version": "2.7.6"
  }
 },
 "nbformat": 4,
 "nbformat_minor": 5
}
