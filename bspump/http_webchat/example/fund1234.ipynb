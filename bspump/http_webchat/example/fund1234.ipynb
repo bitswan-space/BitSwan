{
 "cells": [
  {
   "cell_type": "code",
   "id": "initial_id",
   "metadata": {
    "collapsed": true,
    "ExecuteTime": {
     "end_time": "2025-05-27T07:55:58.143312Z",
     "start_time": "2025-05-27T07:55:57.673074Z"
    }
   },
   "source": [
    "import bspump.http_webchat.server.app as webchat\n",
    "import os\n",
    "from bspump.http_webchat.server.app import WebChatTemplateEnv\n",
    "from bspump.http_webchat.server.app import FormInput, WebChatPromptForm, WebChatResponseSequence, WebChatResponse"
   ],
   "outputs": [],
   "execution_count": 1
  },
  {
   "metadata": {
    "ExecuteTime": {
     "end_time": "2025-05-27T07:55:58.154201Z",
     "start_time": "2025-05-27T07:55:58.151087Z"
    }
   },
   "cell_type": "code",
   "source": [
    "notebook_name = \"fund1234.ipynb\"\n",
    "webchat.register_endpoint(\"/fund_id=1234\", notebook_name=notebook_name)"
   ],
   "id": "7d0e3031e3b223e2",
   "outputs": [
    {
     "name": "stdout",
     "output_type": "stream",
     "text": [
      "[WebChat] Skipping duplicate route: /fund_id=1234\n"
     ]
    }
   ],
   "execution_count": 2
  },
  {
   "metadata": {
    "ExecuteTime": {
     "end_time": "2025-05-27T07:55:58.264962Z",
     "start_time": "2025-05-27T07:55:58.261479Z"
    }
   },
   "cell_type": "code",
   "source": [
    "base_dir = os.getcwd()\n",
    "\n",
    "template_env = WebChatTemplateEnv(\n",
    "    os.path.abspath(os.path.join(base_dir, \"templates\"))\n",
    ").get_jinja_env()"
   ],
   "id": "3e977c6c61d00e0c",
   "outputs": [],
   "execution_count": 3
  },
  {
   "metadata": {
    "ExecuteTime": {
     "end_time": "2025-05-27T07:55:58.317280Z",
     "start_time": "2025-05-27T07:55:58.309451Z"
    }
   },
   "cell_type": "code",
   "source": [
    "\n",
    "response_sequence = WebChatResponseSequence(\n",
    "    [\n",
    "        WebChatResponse(input_html=\"Calculating odkupy for Fund 123\"),\n",
    "    ]\n",
    ")\n",
    "\n",
    "html_output = response_sequence.get_html(template_env)"
   ],
   "id": "c4ee49cf578d91ac",
   "outputs": [],
   "execution_count": 4
  },
  {
   "metadata": {
    "ExecuteTime": {
     "end_time": "2025-05-27T07:55:58.368553Z",
     "start_time": "2025-05-27T07:55:58.363406Z"
    }
   },
   "cell_type": "code",
   "source": "html_output",
   "id": "7d20d072014f0ad2",
   "outputs": [
    {
     "data": {
      "text/plain": [
       "'<div id=\"webchat_sequence_response\" class=\"w-full flex flex-col items-end\"></div>\\n\\n<script>\\n(function() {\\n    const responses = JSON.parse(\"[\\\\\"\\\\u003cdiv id=\\\\\\\\\\\\\"webchat_response\\\\\\\\\\\\\"\\\\\\\\n     class=\\\\\\\\\\\\\"webchat_response fade-in px-8 py-8 flex items-center text-primary dark:text-primary-dark border-b border-secondary w-[90%]\\\\\\\\\\\\\"\\\\u003e\\\\\\\\n    Calculating odkupy for Fund 123\\\\\\\\n\\\\u003c/div\\\\u003e\\\\\\\\n\\\\\\\\n\\\\\"]\");\\n    console.log(\"responses:\", responses);\\n      let current = 0;\\n\\n      function showNext() {\\n        if (current >= responses.length) return;\\n\\n        const responseHTML = responses[current];\\n        const container = document.getElementById(\\'webchat_sequence_response\\');\\n        const tempDiv = document.createElement(\\'div\\');\\n        tempDiv.innerHTML = responseHTML;\\n        const response = tempDiv.querySelector(\\'.webchat_response\\');\\n\\n        if (response) {\\n          container.appendChild(response);\\n        }\\n\\n        if (response.id === \\'webchat-response-with-prompt\\') {\\n          const formWrapper = tempDiv.querySelector(\\'#prompt-input\\');\\n          if (formWrapper) {\\n            const swapTarget = document.querySelector(\\'#prompt-input\\');\\n            if (swapTarget) {\\n              const form = formWrapper.querySelector(\\'form\\');\\n              if (swapTarget) {\\n                swapTarget.innerHTML = \\'\\';\\n                swapTarget.appendChild(form);\\n                waitForFormSubmission(form);\\n                htmx.process(formWrapper);\\n              }\\n            }\\n          }\\n        } else if (response.id === \\'webchat_response_with_request\\') {\\n          htmx.process(response);\\n        } else {\\n          setTimeout(showNext, 1000);\\n        }\\n\\n        current++;\\n      }\\n\\n      function waitForFormSubmission(form) {\\n        form.addEventListener(\\'submit\\', function(event) {\\n          event.preventDefault();\\n          htmx.process(form);\\n          showNext();\\n        });\\n      }\\n      showNext();\\n    })();\\n</script>'"
      ]
     },
     "execution_count": 5,
     "metadata": {},
     "output_type": "execute_result"
    }
   ],
   "execution_count": 5
  }
 ],
 "metadata": {
  "kernelspec": {
   "display_name": "Python 3",
   "language": "python",
   "name": "python3"
  },
  "language_info": {
   "codemirror_mode": {
    "name": "ipython",
    "version": 2
   },
   "file_extension": ".py",
   "mimetype": "text/x-python",
   "name": "python",
   "nbconvert_exporter": "python",
   "pygments_lexer": "ipython2",
   "version": "2.7.6"
  }
 },
 "nbformat": 4,
 "nbformat_minor": 5
}
