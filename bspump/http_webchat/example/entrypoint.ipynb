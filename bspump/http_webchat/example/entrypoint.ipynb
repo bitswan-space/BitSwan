{
 "cells": [
  {
   "cell_type": "code",
   "execution_count": 4,
   "id": "6e5432e7-f84a-4b27-826a-5171e6112ba8",
   "metadata": {
    "ExecuteTime": {
     "end_time": "2025-01-29T13:33:42.482975Z",
     "start_time": "2025-01-29T13:33:42.471887Z"
    }
   },
   "outputs": [],
   "source": "from bspump.http_webchat.server.app import register_endpoint"
  },
  {
   "metadata": {},
   "cell_type": "code",
   "outputs": [],
   "execution_count": null,
   "source": "register_endpoint(route=\"/\")",
   "id": "7172cc17ba02e361"
  },
  {
   "cell_type": "markdown",
   "id": "3c9a3733-b58a-4038-b8bc-296044013008",
   "metadata": {},
   "source": [
    "This message gets displayed to the user"
   ]
  },
  {
   "cell_type": "code",
   "execution_count": 5,
   "id": "a325511f",
   "metadata": {
    "ExecuteTime": {
     "end_time": "2025-01-29T13:33:45.006419Z",
     "start_time": "2025-01-29T13:33:45.003552Z"
    }
   },
   "outputs": [],
   "source": [
    "await tell_user(\"some html\")\n",
    "response = await set_prompt([\n",
    "        TextField(\"textfield\", display=\"Hello\"),\n",
    "        FileField(\"textfile\", display=\"Text\")\n",
    "]) # slovnik s vyplnenym formularom\n",
    "# dva sposoby markdown or tell user function\n",
    "# logika by mala byt linearna\n",
    "\n",
    "form_value = response[\"textfield\"] # hodnota toho co zadal uzivatel"
   ]
  },
  {
   "metadata": {},
   "cell_type": "markdown",
   "source": "This is the value of text field {{ form_value }}",
   "id": "703d0c944b812cfd"
  },
  {
   "cell_type": "code",
   "execution_count": null,
   "id": "c55236ad",
   "metadata": {},
   "outputs": [],
   "source": "await next_step(\"/fund123\")"
  },
  {
   "metadata": {},
   "cell_type": "code",
   "outputs": [],
   "execution_count": null,
   "source": [
    "register_endpoint(route=\"/fund123\") # bud v tomto alebo v inom\n",
    "# session pre kazdeho uzivatela, future pre kazdeho, slovnik future "
   ],
   "id": "12c3fd21f6e9d133"
  }
 ],
 "metadata": {
  "kernelspec": {
   "display_name": "Python 3 (ipykernel)",
   "language": "python",
   "name": "python3"
  },
  "language_info": {
   "codemirror_mode": {
    "name": "ipython",
    "version": 3
   },
   "file_extension": ".py",
   "mimetype": "text/x-python",
   "name": "python",
   "nbconvert_exporter": "python",
   "pygments_lexer": "ipython3",
   "version": "3.10.15"
  }
 },
 "nbformat": 4,
 "nbformat_minor": 5
}
