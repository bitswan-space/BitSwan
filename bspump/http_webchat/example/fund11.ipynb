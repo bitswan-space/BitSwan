{
 "cells": [
  {
   "cell_type": "code",
   "id": "initial_id",
   "metadata": {
    "collapsed": true,
    "ExecuteTime": {
     "end_time": "2025-05-27T09:02:41.927002Z",
     "start_time": "2025-05-27T09:02:41.922645Z"
    }
   },
   "source": [
    "import bspump.http_webchat.server.app as webchat\n",
    "import os\n",
    "from bspump.http_webchat.server.app import WebChatTemplateEnv\n",
    "from bspump.http_webchat.server.app import FormInput, WebChatPromptForm, WebChatResponseSequence, WebChatResponse"
   ],
   "outputs": [],
   "execution_count": 11
  },
  {
   "metadata": {
    "ExecuteTime": {
     "end_time": "2025-05-27T09:02:41.988994Z",
     "start_time": "2025-05-27T09:02:41.984585Z"
    }
   },
   "cell_type": "code",
   "source": [
    "notebook_name = \"fund11.ipynb\"\n",
    "webchat.register_endpoint(\"/fund_id=11\", notebook_name=notebook_name)"
   ],
   "id": "7d0e3031e3b223e2",
   "outputs": [
    {
     "name": "stdout",
     "output_type": "stream",
     "text": [
      "[WebChat] Skipping duplicate route: /fund_id=11\n"
     ]
    }
   ],
   "execution_count": 12
  },
  {
   "metadata": {
    "ExecuteTime": {
     "end_time": "2025-05-27T09:02:42.044558Z",
     "start_time": "2025-05-27T09:02:42.040213Z"
    }
   },
   "cell_type": "code",
   "source": [
    "base_dir = os.getcwd()\n",
    "\n",
    "template_env = WebChatTemplateEnv(\n",
    "    os.path.abspath(os.path.join(base_dir, \"templates\"))\n",
    ").get_jinja_env()"
   ],
   "id": "3e977c6c61d00e0c",
   "outputs": [],
   "execution_count": 13
  },
  {
   "metadata": {
    "ExecuteTime": {
     "end_time": "2025-05-27T09:02:42.108056Z",
     "start_time": "2025-05-27T09:02:42.092014Z"
    }
   },
   "cell_type": "code",
   "source": [
    "fund_input = FormInput(\n",
    "                label=\"Fond\", name=\"fund_id\", input_type=\"text\", required=True\n",
    "            )\n",
    "first_fund_form = WebChatPromptForm(\n",
    "    form_inputs=[fund_input], submit_api_call=\"/api/response_box\"\n",
    ")\n",
    "\n",
    "fund_inputs = [\n",
    "    FormInput(\n",
    "        label=\"Validation Date\",\n",
    "        name=\"validation_date\",\n",
    "        input_type=\"date\",\n",
    "        required=True,\n",
    "    ),\n",
    "    FormInput(label=\"Closing Date\", name=\"closing_date\", input_type=\"date\"),\n",
    "    FormInput(\n",
    "        label=\"Return Rate (%)\", name=\"return_rate\", input_type=\"number\", step=0.01\n",
    "    ),\n",
    "    FormInput(\n",
    "        label=\"Closing Value\", name=\"closing_value\", input_type=\"number\", step=0.01\n",
    "    ),\n",
    "]\n",
    "second_fund_form = WebChatPromptForm(\n",
    "    form_inputs=fund_inputs, submit_api_call=\"/api/mock\"\n",
    ")\n",
    "\n",
    "html_output = WebChatResponseSequence(\n",
    "    [\n",
    "        WebChatResponse(input_html=\"Calculating odkupy for Fund 123\"),\n",
    "        WebChatResponse(\n",
    "            input_html=\"I need more information\",\n",
    "            prompt_form=second_fund_form,\n",
    "        ),\n",
    "        WebChatResponse(\n",
    "            input_html=\"Please pick another fund for calculation.\",\n",
    "            prompt_form=first_fund_form,\n",
    "        ),\n",
    "    ]\n",
    ").get_html(template_env)"
   ],
   "id": "c4ee49cf578d91ac",
   "outputs": [],
   "execution_count": 14
  },
  {
   "metadata": {
    "ExecuteTime": {
     "end_time": "2025-05-27T09:02:42.152875Z",
     "start_time": "2025-05-27T09:02:42.147229Z"
    }
   },
   "cell_type": "code",
   "source": "html_output",
   "id": "7d20d072014f0ad2",
   "outputs": [
    {
     "data": {
      "text/plain": [
       "'<div id=\"webchat-response-sequence\" class=\"w-full flex flex-col items-end\"></div>\\n\\n<script>\\n(function() {\\n    const responses = JSON.parse(\"[\\\\\"\\\\u003cdiv id=\\\\\\\\\\\\\"webchat_response\\\\\\\\\\\\\"\\\\\\\\n     class=\\\\\\\\\\\\\"webchat_response fade-in px-8 py-8 flex items-center text-primary dark:text-primary-dark border-b border-secondary w-[90%]\\\\\\\\\\\\\"\\\\u003e\\\\\\\\n    Calculating odkupy for Fund 123\\\\\\\\n\\\\u003c/div\\\\u003e\\\\\\\\n\\\\\\\\n\\\\\", \\\\\"\\\\u003cdiv id=\\\\\\\\\\\\\"webchat-response-with-prompt\\\\\\\\\\\\\"\\\\\\\\n     class=\\\\\\\\\\\\\"webchat_response fade-in px-8 py-8 flex items-center text-primary dark:text-primary-dark border-b border-secondary w-[90%]\\\\\\\\\\\\\"\\\\u003e\\\\\\\\n    I need more information\\\\\\\\n\\\\u003c/div\\\\u003e\\\\\\\\n\\\\\\\\n\\\\\\\\n\\\\u003cdiv\\\\\\\\n  hx-swap-oob=\\\\\\\\\\\\\"true\\\\\\\\\\\\\"\\\\\\\\n  id=\\\\\\\\\\\\\"prompt-input\\\\\\\\\\\\\"\\\\\\\\n  class=\\\\\\\\\\\\\"shadow-md rounded-xl w-[90%] px-8 py-6 border border-secondary\\\\\\\\\\\\\"\\\\\\\\n\\\\u003e\\\\\\\\n  \\\\u003cform id=\\\\\\\\\\\\\"prompt-form\\\\\\\\\\\\\"\\\\\\\\n      hx-post=\\\\\\\\\\\\\"/api/mock\\\\\\\\\\\\\"\\\\\\\\n      hx-target=\\\\\\\\\\\\\"#response-box\\\\\\\\\\\\\"\\\\\\\\n      hx-swap=\\\\\\\\\\\\\"beforeend\\\\\\\\\\\\\"\\\\\\\\n      class=\\\\\\\\\\\\\"flex items-center w-full text-sm text-primary dark:text-primary-dark gap-4 pl-8\\\\\\\\\\\\\"\\\\\\\\n\\\\u003e\\\\\\\\n  \\\\u003cdiv class=\\\\\\\\\\\\\"flex-grow flex flex-col gap-4\\\\\\\\\\\\\"\\\\u003e\\\\\\\\n    \\\\\\\\n      \\\\u003cdiv class=\\\\\\\\\\\\\"flex items-center\\\\\\\\\\\\\"\\\\u003e\\\\\\\\n        \\\\u003clabel for=\\\\\\\\\\\\\"validation_date\\\\\\\\\\\\\" class=\\\\\\\\\\\\\"text-primary dark:text-primary-dark text-sm font-semibold w-[120px]\\\\\\\\\\\\\"\\\\u003eValidation Date\\\\u003c/label\\\\u003e\\\\\\\\n        \\\\u003cinput\\\\\\\\n          type=\\\\\\\\\\\\\"date\\\\\\\\\\\\\"\\\\\\\\n          id=\\\\\\\\\\\\\"validation_date\\\\\\\\\\\\\"\\\\\\\\n          name=\\\\\\\\\\\\\"validation_date\\\\\\\\\\\\\"\\\\\\\\n          class=\\\\\\\\\\\\\"text-primary border border-secondary text-sm px-4 py-1 rounded-md font-mono w-full max-w-[150px] mx-2\\\\\\\\\\\\\"\\\\\\\\n          \\\\\\\\n           required \\\\\\\\n        /\\\\u003e\\\\\\\\n      \\\\u003c/div\\\\u003e\\\\\\\\n    \\\\\\\\n      \\\\u003cdiv class=\\\\\\\\\\\\\"flex items-center\\\\\\\\\\\\\"\\\\u003e\\\\\\\\n        \\\\u003clabel for=\\\\\\\\\\\\\"closing_date\\\\\\\\\\\\\" class=\\\\\\\\\\\\\"text-primary dark:text-primary-dark text-sm font-semibold w-[120px]\\\\\\\\\\\\\"\\\\u003eClosing Date\\\\u003c/label\\\\u003e\\\\\\\\n        \\\\u003cinput\\\\\\\\n          type=\\\\\\\\\\\\\"date\\\\\\\\\\\\\"\\\\\\\\n          id=\\\\\\\\\\\\\"closing_date\\\\\\\\\\\\\"\\\\\\\\n          name=\\\\\\\\\\\\\"closing_date\\\\\\\\\\\\\"\\\\\\\\n          class=\\\\\\\\\\\\\"text-primary border border-secondary text-sm px-4 py-1 rounded-md font-mono w-full max-w-[150px] mx-2\\\\\\\\\\\\\"\\\\\\\\n          \\\\\\\\n          \\\\\\\\n        /\\\\u003e\\\\\\\\n      \\\\u003c/div\\\\u003e\\\\\\\\n    \\\\\\\\n      \\\\u003cdiv class=\\\\\\\\\\\\\"flex items-center\\\\\\\\\\\\\"\\\\u003e\\\\\\\\n        \\\\u003clabel for=\\\\\\\\\\\\\"return_rate\\\\\\\\\\\\\" class=\\\\\\\\\\\\\"text-primary dark:text-primary-dark text-sm font-semibold w-[120px]\\\\\\\\\\\\\"\\\\u003eReturn Rate (%)\\\\u003c/label\\\\u003e\\\\\\\\n        \\\\u003cinput\\\\\\\\n          type=\\\\\\\\\\\\\"number\\\\\\\\\\\\\"\\\\\\\\n          id=\\\\\\\\\\\\\"return_rate\\\\\\\\\\\\\"\\\\\\\\n          name=\\\\\\\\\\\\\"return_rate\\\\\\\\\\\\\"\\\\\\\\n          class=\\\\\\\\\\\\\"text-primary border border-secondary text-sm px-4 py-1 rounded-md font-mono w-full max-w-[150px] mx-2\\\\\\\\\\\\\"\\\\\\\\n           step=\\\\\\\\\\\\\"0.01\\\\\\\\\\\\\" \\\\\\\\n          \\\\\\\\n        /\\\\u003e\\\\\\\\n      \\\\u003c/div\\\\u003e\\\\\\\\n    \\\\\\\\n      \\\\u003cdiv class=\\\\\\\\\\\\\"flex items-center\\\\\\\\\\\\\"\\\\u003e\\\\\\\\n        \\\\u003clabel for=\\\\\\\\\\\\\"closing_value\\\\\\\\\\\\\" class=\\\\\\\\\\\\\"text-primary dark:text-primary-dark text-sm font-semibold w-[120px]\\\\\\\\\\\\\"\\\\u003eClosing Value\\\\u003c/label\\\\u003e\\\\\\\\n        \\\\u003cinput\\\\\\\\n          type=\\\\\\\\\\\\\"number\\\\\\\\\\\\\"\\\\\\\\n          id=\\\\\\\\\\\\\"closing_value\\\\\\\\\\\\\"\\\\\\\\n          name=\\\\\\\\\\\\\"closing_value\\\\\\\\\\\\\"\\\\\\\\n          class=\\\\\\\\\\\\\"text-primary border border-secondary text-sm px-4 py-1 rounded-md font-mono w-full max-w-[150px] mx-2\\\\\\\\\\\\\"\\\\\\\\n           step=\\\\\\\\\\\\\"0.01\\\\\\\\\\\\\" \\\\\\\\n          \\\\\\\\n        /\\\\u003e\\\\\\\\n      \\\\u003c/div\\\\u003e\\\\\\\\n    \\\\\\\\n  \\\\u003c/div\\\\u003e\\\\\\\\n\\\\\\\\n  \\\\u003cbutton\\\\\\\\n    type=\\\\\\\\\\\\\"submit\\\\\\\\\\\\\"\\\\\\\\n    class=\\\\\\\\\\\\\"bg-primary dark:bg-primary-dark hover:bg-secondary hover:dark:bg-secondary-dark hover:text-primary hover:dark:text-primary-dark text-secondary dark:text-secondary-dark px-3 pb-1 rounded-full transition text-2xl ml-auto\\\\\\\\\\\\\"\\\\\\\\n  \\\\u003e\\\\\\\\n    \\\\\\\\u2191\\\\\\\\n  \\\\u003c/button\\\\u003e\\\\\\\\n\\\\u003c/form\\\\u003e\\\\\\\\n\\\\\\\\n\\\\u003cscript\\\\u003e\\\\\\\\n    document.addEventListener(\\\\\\\\\\\\\"htmx:configRequest\\\\\\\\\\\\\", function(event) {\\\\\\\\n  if (!event.target || !event.target.closest) return;\\\\\\\\n\\\\\\\\n  const form = document.getElementById(\\\\\\\\\\\\\"prompt-form\\\\\\\\\\\\\");\\\\\\\\n  if (!form) return;\\\\\\\\n\\\\\\\\n  if (!event.target.closest(\\\\\\\\\\\\\"#prompt-form\\\\\\\\\\\\\")) return;\\\\\\\\n\\\\\\\\n  console.log(\\\\\\\\\\\\\"htmx:configRequest fired by form:\\\\\\\\\\\\\", event.target);\\\\\\\\n\\\\\\\\n  const inputs = form.querySelectorAll(\\\\\\\\\\\\\"input[name]\\\\\\\\\\\\\");\\\\\\\\n  const pathSegments = Array.from(inputs)\\\\\\\\n    .map(input =\\\\u003e `${encodeURIComponent(input.name)}=${encodeURIComponent(input.value)}`);\\\\\\\\n\\\\\\\\n  event.detail.path = \\\\\\\\\\\\\"/\\\\\\\\\\\\\" + pathSegments.join(\\\\\\\\\\\\\"/\\\\\\\\\\\\\");\\\\\\\\n});\\\\\\\\n\\\\u003c/script\\\\u003e\\\\\\\\n\\\\u003c/div\\\\u003e\\\\\\\\n\\\\\", \\\\\"\\\\u003cdiv id=\\\\\\\\\\\\\"webchat-response-with-prompt\\\\\\\\\\\\\"\\\\\\\\n     class=\\\\\\\\\\\\\"webchat_response fade-in px-8 py-8 flex items-center text-primary dark:text-primary-dark border-b border-secondary w-[90%]\\\\\\\\\\\\\"\\\\u003e\\\\\\\\n    Please pick another fund for calculation.\\\\\\\\n\\\\u003c/div\\\\u003e\\\\\\\\n\\\\\\\\n\\\\\\\\n\\\\u003cdiv\\\\\\\\n  hx-swap-oob=\\\\\\\\\\\\\"true\\\\\\\\\\\\\"\\\\\\\\n  id=\\\\\\\\\\\\\"prompt-input\\\\\\\\\\\\\"\\\\\\\\n  class=\\\\\\\\\\\\\"shadow-md rounded-xl w-[90%] px-8 py-6 border border-secondary\\\\\\\\\\\\\"\\\\\\\\n\\\\u003e\\\\\\\\n  \\\\u003cform id=\\\\\\\\\\\\\"prompt-form\\\\\\\\\\\\\"\\\\\\\\n      hx-post=\\\\\\\\\\\\\"/api/response_box\\\\\\\\\\\\\"\\\\\\\\n      hx-target=\\\\\\\\\\\\\"#response-box\\\\\\\\\\\\\"\\\\\\\\n      hx-swap=\\\\\\\\\\\\\"beforeend\\\\\\\\\\\\\"\\\\\\\\n      class=\\\\\\\\\\\\\"flex items-center w-full text-sm text-primary dark:text-primary-dark gap-4 pl-8\\\\\\\\\\\\\"\\\\\\\\n\\\\u003e\\\\\\\\n  \\\\u003cdiv class=\\\\\\\\\\\\\"flex-grow flex flex-col gap-4\\\\\\\\\\\\\"\\\\u003e\\\\\\\\n    \\\\\\\\n      \\\\u003cdiv class=\\\\\\\\\\\\\"flex items-center\\\\\\\\\\\\\"\\\\u003e\\\\\\\\n        \\\\u003clabel for=\\\\\\\\\\\\\"fund_id\\\\\\\\\\\\\" class=\\\\\\\\\\\\\"text-primary dark:text-primary-dark text-sm font-semibold w-[120px]\\\\\\\\\\\\\"\\\\u003eFond\\\\u003c/label\\\\u003e\\\\\\\\n        \\\\u003cinput\\\\\\\\n          type=\\\\\\\\\\\\\"text\\\\\\\\\\\\\"\\\\\\\\n          id=\\\\\\\\\\\\\"fund_id\\\\\\\\\\\\\"\\\\\\\\n          name=\\\\\\\\\\\\\"fund_id\\\\\\\\\\\\\"\\\\\\\\n          class=\\\\\\\\\\\\\"text-primary border border-secondary text-sm px-4 py-1 rounded-md font-mono w-full max-w-[150px] mx-2\\\\\\\\\\\\\"\\\\\\\\n          \\\\\\\\n           required \\\\\\\\n        /\\\\u003e\\\\\\\\n      \\\\u003c/div\\\\u003e\\\\\\\\n    \\\\\\\\n  \\\\u003c/div\\\\u003e\\\\\\\\n\\\\\\\\n  \\\\u003cbutton\\\\\\\\n    type=\\\\\\\\\\\\\"submit\\\\\\\\\\\\\"\\\\\\\\n    class=\\\\\\\\\\\\\"bg-primary dark:bg-primary-dark hover:bg-secondary hover:dark:bg-secondary-dark hover:text-primary hover:dark:text-primary-dark text-secondary dark:text-secondary-dark px-3 pb-1 rounded-full transition text-2xl ml-auto\\\\\\\\\\\\\"\\\\\\\\n  \\\\u003e\\\\\\\\n    \\\\\\\\u2191\\\\\\\\n  \\\\u003c/button\\\\u003e\\\\\\\\n\\\\u003c/form\\\\u003e\\\\\\\\n\\\\\\\\n\\\\u003cscript\\\\u003e\\\\\\\\n    document.addEventListener(\\\\\\\\\\\\\"htmx:configRequest\\\\\\\\\\\\\", function(event) {\\\\\\\\n  if (!event.target || !event.target.closest) return;\\\\\\\\n\\\\\\\\n  const form = document.getElementById(\\\\\\\\\\\\\"prompt-form\\\\\\\\\\\\\");\\\\\\\\n  if (!form) return;\\\\\\\\n\\\\\\\\n  if (!event.target.closest(\\\\\\\\\\\\\"#prompt-form\\\\\\\\\\\\\")) return;\\\\\\\\n\\\\\\\\n  console.log(\\\\\\\\\\\\\"htmx:configRequest fired by form:\\\\\\\\\\\\\", event.target);\\\\\\\\n\\\\\\\\n  const inputs = form.querySelectorAll(\\\\\\\\\\\\\"input[name]\\\\\\\\\\\\\");\\\\\\\\n  const pathSegments = Array.from(inputs)\\\\\\\\n    .map(input =\\\\u003e `${encodeURIComponent(input.name)}=${encodeURIComponent(input.value)}`);\\\\\\\\n\\\\\\\\n  event.detail.path = \\\\\\\\\\\\\"/\\\\\\\\\\\\\" + pathSegments.join(\\\\\\\\\\\\\"/\\\\\\\\\\\\\");\\\\\\\\n});\\\\\\\\n\\\\u003c/script\\\\u003e\\\\\\\\n\\\\u003c/div\\\\u003e\\\\\\\\n\\\\\"]\");\\n      let current = 0;\\n\\n      function showNext() {\\n        if (current >= responses.length) return;\\n\\n        const responseHTML = responses[current];\\n        const container = document.getElementById(\\'webchat-response-sequence\\');\\n        const tempDiv = document.createElement(\\'div\\');\\n        tempDiv.innerHTML = responseHTML;\\n        const response = tempDiv.querySelector(\\'.webchat_response\\');\\n\\n        if (response) {\\n          container.appendChild(response);\\n        }\\n\\n        if (response.id === \\'webchat-response-with-prompt\\') {\\n          const formWrapper = tempDiv.querySelector(\\'#prompt-input\\');\\n          if (formWrapper) {\\n            const swapTarget = document.querySelector(\\'#prompt-input\\');\\n            if (swapTarget) {\\n              const form = formWrapper.querySelector(\\'form\\');\\n              if (swapTarget) {\\n                swapTarget.innerHTML = \\'\\';\\n                swapTarget.appendChild(form);\\n                waitForFormSubmission(form);\\n                htmx.process(formWrapper);\\n              }\\n            }\\n          }\\n        } else if (response.id === \\'webchat_response_with_request\\') {\\n          htmx.process(response);\\n        } else {\\n          setTimeout(showNext, 1000);\\n        }\\n\\n        current++;\\n      }\\n\\n      function waitForFormSubmission(form) {\\n        form.addEventListener(\\'submit\\', function(event) {\\n          event.preventDefault();\\n          htmx.process(form);\\n          showNext();\\n        });\\n      }\\n      showNext();\\n    })();\\n</script>'"
      ]
     },
     "execution_count": 15,
     "metadata": {},
     "output_type": "execute_result"
    }
   ],
   "execution_count": 15
  }
 ],
 "metadata": {
  "kernelspec": {
   "display_name": "Python 3",
   "language": "python",
   "name": "python3"
  },
  "language_info": {
   "codemirror_mode": {
    "name": "ipython",
    "version": 2
   },
   "file_extension": ".py",
   "mimetype": "text/x-python",
   "name": "python",
   "nbconvert_exporter": "python",
   "pygments_lexer": "ipython2",
   "version": "2.7.6"
  }
 },
 "nbformat": 4,
 "nbformat_minor": 5
}
