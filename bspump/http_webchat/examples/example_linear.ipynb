{
 "cells": [
  {
   "cell_type": "code",
   "execution_count": null,
   "id": "initial_id",
   "metadata": {
    "collapsed": true
   },
   "outputs": [],
   "source": [
    "import bspump.http_webchat.server.server as webchat\n",
    "from bspump.http_webchat.server.server import create_webchat_flow\n",
    "from bspump.http_webchat.server.server import FormInput, WebChatPromptForm, WebChatResponse"
   ]
  },
  {
   "metadata": {},
   "cell_type": "code",
   "outputs": [],
   "execution_count": null,
   "source": [
    "# create_webchat_flow\n",
    "create_webchat_flow(\"/\")"
   ],
   "id": "2be0a7b741a44086"
  },
  {
   "metadata": {},
   "cell_type": "code",
   "outputs": [],
   "execution_count": null,
   "source": [
    "# await tell_user\n",
    "WebChatResponse(input_html=\"Please pick fund for calculation.\")"
   ],
   "id": "903b27ca573a8bcf"
  },
  {
   "metadata": {},
   "cell_type": "code",
   "outputs": [],
   "execution_count": null,
   "source": [
    "# simplified to set_prompt function\n",
    "# await set_prompt\n",
    "fund_input = webchat.FormInput(\n",
    "        label=\"Fond\", name=\"fund_id\", input_type=\"text\", required=True\n",
    ")\n",
    "fund_form = webchat.WebChatPromptForm(\n",
    "    form_inputs=[fund_input], submit_api_call=\"/api/response_box\"\n",
    ")\n",
    "form_response = await set_prompt(fund_form) # slovnik s vyplnenym formularom, v tomto pripade { \"fund_id\": 11 }\n",
    "fond_value = form_response[\"fund_id\"]"
   ],
   "id": "b8b90ffa01e0fe75"
  },
  {
   "metadata": {},
   "cell_type": "markdown",
   "source": "The fond number entered: {{ fond_value }}. (This will be displayed as response to the user too?)",
   "id": "cee0a81117e7e200"
  },
  {
   "metadata": {},
   "cell_type": "code",
   "outputs": [],
   "execution_count": null,
   "source": "await redirect(f\"/fund{fond_value}\")",
   "id": "7d7dcfc493f0f36a"
  },
  {
   "metadata": {},
   "cell_type": "code",
   "outputs": [],
   "execution_count": null,
   "source": "create_webchat_flow(\"/welcome_window\")",
   "id": "2742fe9680d4e993"
  },
  {
   "metadata": {},
   "cell_type": "code",
   "outputs": [],
   "execution_count": null,
   "source": [
    "# await tell_user_welcome - is this abstraction needed? In forms there is not so much abstraction\n",
    "welcome_message = webchat.WebChatWelcomeWindow(\n",
    "    welcome_text=\"Hello, welcome to the odkupy calculation assistant. Please select the fond you would like to calculate odkupy for.\",\n",
    "    prompt_form=fund_form,\n",
    "    endpoint_route=\"api/welcome_window\")"
   ],
   "id": "7f883e0e2beb57f6"
  },
  {
   "metadata": {},
   "cell_type": "code",
   "outputs": [],
   "execution_count": null,
   "source": "create_webchat_flow(\"/fund11\")",
   "id": "bfd75c11d95e06fa"
  },
  {
   "metadata": {},
   "cell_type": "markdown",
   "source": "Calculating odkupy for Fund 11 (markdown will be treated as WebChatResponse)",
   "id": "afa9eabf5bb933a6"
  },
  {
   "metadata": {},
   "cell_type": "code",
   "outputs": [],
   "execution_count": null,
   "source": [
    "# await tell_user\n",
    "WebChatResponse(input_html=\"I need more information\")"
   ],
   "id": "12fea95a496c38f3"
  },
  {
   "metadata": {},
   "cell_type": "code",
   "outputs": [],
   "execution_count": null,
   "source": [
    "# await set_prompt\n",
    "fund_inputs = [\n",
    "    FormInput(\n",
    "        label=\"Validation Date\",\n",
    "        name=\"validation_date\",\n",
    "        input_type=\"date\",\n",
    "        required=True,\n",
    "    ),\n",
    "    FormInput(label=\"Closing Date\", name=\"closing_date\", input_type=\"date\"),\n",
    "    FormInput(\n",
    "        label=\"Return Rate (%)\", name=\"return_rate\", input_type=\"number\", step=0.01\n",
    "    ),\n",
    "    FormInput(\n",
    "        label=\"Closing Value\", name=\"closing_value\", input_type=\"number\", step=0.01\n",
    "    ),\n",
    "]\n",
    "more_info_form = WebChatPromptForm(\n",
    "    form_inputs=fund_inputs, submit_api_call=\"/api/mock\"\n",
    ")\n",
    "\n",
    "form_response = await set_prompt(more_info_form) # slovnik s vyplnenym formularom"
   ],
   "id": "bb59b5952f1126df"
  },
  {
   "metadata": {},
   "cell_type": "code",
   "outputs": [],
   "execution_count": null,
   "source": "await redirect(\"/additional_info\")",
   "id": "84264e0999ae870d"
  },
  {
   "metadata": {},
   "cell_type": "code",
   "outputs": [],
   "execution_count": null,
   "source": "create_webchat_flow(\"/additional_info\")",
   "id": "1ad93ec7aa47342c"
  },
  {
   "metadata": {},
   "cell_type": "code",
   "outputs": [],
   "execution_count": null,
   "source": [
    "validation_date = form_response[\"validation_date\"]\n",
    "closing_date = form_response[\"closing_date\"]\n",
    "return_rate = form_response[\"return_rate\"]\n",
    "# some calculation\n",
    "result = validation_date + closing_date + return_rate"
   ],
   "id": "e83ac8b2f2972cd9"
  },
  {
   "metadata": {},
   "cell_type": "markdown",
   "source": "The value is {{ result }}.",
   "id": "4caf340a262d1cc"
  },
  {
   "metadata": {},
   "cell_type": "code",
   "outputs": [],
   "execution_count": null,
   "source": [
    "if result == 15:\n",
    "    await redirect(\"/fund11\")\n",
    "else:\n",
    "    await redirect(\"/fund12\")"
   ],
   "id": "846ad7acc98018ce"
  },
  {
   "metadata": {},
   "cell_type": "code",
   "outputs": [],
   "execution_count": null,
   "source": "await next_step(\"/\")",
   "id": "d0ec38722fdc3f0c"
  },
  {
   "metadata": {},
   "cell_type": "code",
   "outputs": [],
   "execution_count": null,
   "source": [
    "webchat_app = webchat.WebChat(\n",
    "    welcome_message_api=\"/api/welcome_window\",\n",
    "    prompt_response_api=\"/api/response_box\"\n",
    ")\n",
    "\n",
    "webchat_app.start_webchat(host=\"127.0.0.1\", port=8080)"
   ],
   "id": "1a1460a51be7dac5"
  }
 ],
 "metadata": {
  "kernelspec": {
   "display_name": "Python 3",
   "language": "python",
   "name": "python3"
  },
  "language_info": {
   "codemirror_mode": {
    "name": "ipython",
    "version": 2
   },
   "file_extension": ".py",
   "mimetype": "text/x-python",
   "name": "python",
   "nbconvert_exporter": "python",
   "pygments_lexer": "ipython2",
   "version": "2.7.6"
  }
 },
 "nbformat": 4,
 "nbformat_minor": 5
}
