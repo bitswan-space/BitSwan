{
 "cells": [
  {
   "cell_type": "code",
   "execution_count": 4,
   "id": "6e5432e7-f84a-4b27-826a-5171e6112ba8",
   "metadata": {
    "ExecuteTime": {
     "end_time": "2025-01-29T13:33:42.482975Z",
     "start_time": "2025-01-29T13:33:42.471887Z"
    }
   },
   "outputs": [],
   "source": [
    "chat_flow(route=\"/fund123\")"
   ]
  },
  {
   "cell_type": "markdown",
   "id": "3c9a3733-b58a-4038-b8bc-296044013008",
   "metadata": {},
   "source": [
    "This message gets displayed to the user"
   ]
  },
  {
   "cell_type": "code",
   "execution_count": 5,
   "id": "a325511f",
   "metadata": {
    "ExecuteTime": {
     "end_time": "2025-01-29T13:33:45.006419Z",
     "start_time": "2025-01-29T13:33:45.003552Z"
    }
   },
   "outputs": [],
   "source": [
    "response = await set_prompt([\n",
    "        DateField(\"datefield\", display=\"Rozhodné období\"),\n",
    "])"
   ]
  },
  {
   "cell_type": "code",
   "execution_count": null,
   "id": "c2120552",
   "metadata": {},
   "outputs": [],
   "source": [
    "n=3 # some business logic\n",
    "await tell_user(f\"We calculated the ammount as {n}\" )"
   ]
  },
  {
   "cell_type": "code",
   "execution_count": null,
   "id": "c55236ad",
   "metadata": {},
   "outputs": [],
   "source": [
    "await redirect(\"/\")"
   ]
  }
 ],
 "metadata": {
  "kernelspec": {
   "display_name": "Python 3 (ipykernel)",
   "language": "python",
   "name": "python3"
  },
  "language_info": {
   "codemirror_mode": {
    "name": "ipython",
    "version": 3
   },
   "file_extension": ".py",
   "mimetype": "text/x-python",
   "name": "python",
   "nbconvert_exporter": "python",
   "pygments_lexer": "ipython3",
   "version": "3.10.15"
  }
 },
 "nbformat": 4,
 "nbformat_minor": 5
}
