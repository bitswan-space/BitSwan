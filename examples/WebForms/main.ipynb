{
 "cells": [
  {
   "cell_type": "markdown",
   "id": "edc1b921",
   "metadata": {},
   "source": [
    "# WebForms Notebook\n",
    "### Pipeline: Asynchronous Web Form Handling and JSON Response\n",
    "\n",
    "This notebook demonstrates a simple web form served by ```bspump```. Users submit data through different field types: text fields, a number input, hidden input, a dropdown choice, and a checkbox. \n",
    "Upon submission, the pipeline processes the inputs asynchronously and responds with JSON-formatted data.\n"
   ]
  },
  {
   "cell_type": "markdown",
   "id": "72aa8b1c",
   "metadata": {},
   "source": [
    "----------------\n",
    "\n",
    "### ```bspump``` + asyncio module import:"
   ]
  },
  {
   "cell_type": "code",
   "execution_count": null,
   "id": "00d9f193-f748-4f3f-8b44-6541abc461b9",
   "metadata": {},
   "outputs": [
    {
     "ename": "ModuleNotFoundError",
     "evalue": "No module named 'bspump'",
     "output_type": "error",
     "traceback": [
      "\u001b[1;31m---------------------------------------------------------------------------\u001b[0m",
      "\u001b[1;31mModuleNotFoundError\u001b[0m                       Traceback (most recent call last)",
      "Cell \u001b[1;32mIn[2], line 1\u001b[0m\n\u001b[1;32m----> 1\u001b[0m \u001b[38;5;28;01mfrom\u001b[39;00m\u001b[38;5;250m \u001b[39m\u001b[38;5;21;01mbspump\u001b[39;00m\u001b[38;5;21;01m.\u001b[39;00m\u001b[38;5;21;01mhttp\u001b[39;00m\u001b[38;5;21;01m.\u001b[39;00m\u001b[38;5;21;01mweb\u001b[39;00m\u001b[38;5;21;01m.\u001b[39;00m\u001b[38;5;21;01mserver\u001b[39;00m\u001b[38;5;250m \u001b[39m\u001b[38;5;28;01mimport\u001b[39;00m \u001b[38;5;241m*\u001b[39m\n\u001b[0;32m      2\u001b[0m \u001b[38;5;28;01mfrom\u001b[39;00m\u001b[38;5;250m \u001b[39m\u001b[38;5;21;01mbspump\u001b[39;00m\u001b[38;5;21;01m.\u001b[39;00m\u001b[38;5;21;01mjupyter\u001b[39;00m\u001b[38;5;250m \u001b[39m\u001b[38;5;28;01mimport\u001b[39;00m \u001b[38;5;241m*\u001b[39m\n\u001b[0;32m      3\u001b[0m \u001b[38;5;28;01mimport\u001b[39;00m\u001b[38;5;250m \u001b[39m\u001b[38;5;21;01masyncio\u001b[39;00m\n",
      "\u001b[1;31mModuleNotFoundError\u001b[0m: No module named 'bspump'"
     ]
    },
    {
     "ename": "",
     "evalue": "",
     "output_type": "error",
     "traceback": [
      "\u001b[1;31mThe Kernel crashed while executing code in the current cell or a previous cell. \n",
      "\u001b[1;31mPlease review the code in the cell(s) to identify a possible cause of the failure. \n",
      "\u001b[1;31mClick <a href='https://aka.ms/vscodeJupyterKernelCrash'>here</a> for more info. \n",
      "\u001b[1;31mView Jupyter <a href='command:jupyter.viewOutput'>log</a> for further details."
     ]
    }
   ],
   "source": [
    "from bspump.http.web.server import *\n",
    "from bspump.jupyter import *\n",
    "import asyncio"
   ]
  },
  {
   "cell_type": "markdown",
   "id": "55a13cdd",
   "metadata": {},
   "source": [
    "----------------\n",
    "### In Jupyter, you can test the pipeline logic without submitting the form using a sample event:"
   ]
  },
  {
   "cell_type": "code",
   "execution_count": null,
   "id": "7f649b79",
   "metadata": {},
   "outputs": [],
   "source": [
    "event = {\n",
    "    \"form\": {\n",
    "        \"subject\":      \"Test Subject\",\n",
    "        \"description\":  \"This is a readonly description\",\n",
    "        \"number\":       42,\n",
    "        \"hiddenValue\":  \"hidden_value\",\n",
    "        \"lol\":          \"b\",\n",
    "        \"checkbox\":     True,\n",
    "        \"date\":         \"2025-06-26\",            \n",
    "        \"timestamp\":    \"2025-06-26T14:30:00\"   \n",
    "    }\n",
    "}\n"
   ]
  },
  {
   "cell_type": "markdown",
   "id": "fd9590e5",
   "metadata": {},
   "source": [
    "----------------\n",
    "### Pipeline Definition (```auto_pipeline()```):\n",
    "\n",
    "Defines the form fields and sets up the HTTP source and JSON sink. The form fields include various inputs, such as text, numbers, hidden fields, dropdown choices, and checkboxes.\n"
   ]
  },
  {
   "cell_type": "code",
   "execution_count": null,
   "id": "dcd22aaf",
   "metadata": {},
   "outputs": [],
   "source": [
    "auto_pipeline(\n",
    "    source=lambda app, pipeline: WebFormSource(app, pipeline, route=\"/\", fields=[\n",
    "        DateField(\"date\", display=\"Date\"),\n",
    "        DateTimeField(\"timestamp\", display=\"Date & Time\"),  \n",
    "        TextField(\"subject\", display=\"foor\"),\n",
    "        TextField(\"description\", readonly=True, default=\"laa\"),\n",
    "        IntField(\"number\"),\n",
    "        TextField(\"hiddenValue\", hidden=True),\n",
    "        ChoiceField(\"lol\", choices=[\"a\",\"b\",\"c\"]),\n",
    "        CheckboxField(\"checkbox\"),\n",
    "    ]),\n",
    "    sink  =lambda app, pipeline: WebSink(app,pipeline),\n",
    "    name  =\"WebServerPipeline\"\n",
    ")"
   ]
  },
  {
   "cell_type": "markdown",
   "id": "51b96437",
   "metadata": {},
   "source": [
    "----------------\n",
    "\n",
    "### Processing Step: Pipeline logic with asynchronous functionality \n",
    "\n",
    "The submitted form data is packaged into the (```event```). This step simulates asynchronous processing (with a 1-second delay), collects specific fields, and returns a structured JSON response. If an error occurs (such as missing fields), it returns an error message.\n"
   ]
  },
  {
   "cell_type": "code",
   "execution_count": null,
   "id": "ba89b073-27c5-45d2-90cd-93cea1b0ce4d",
   "metadata": {},
   "outputs": [],
   "source": [
    "print(event[\"form\"])\n",
    "# (Optional) Simulate asynchronous work, for example calling an external service\n",
    "await asyncio.sleep(1)\n",
    "try:\n",
    "    event[\"response\"] = json.dumps({\n",
    "    \"msg\":       event[\"form\"][\"subject\"],\n",
    "    \"checkbox\":  event[\"form\"][\"checkbox\"],\n",
    "    \"number\":    event[\"form\"][\"number\"],\n",
    "    \"lol\":       event[\"form\"][\"lol\"],\n",
    "    \"date\":      event[\"form\"][\"date\"],\n",
    "    \"timestamp\": event[\"form\"][\"timestamp\"],\n",
    "    })\n",
    "    event[\"content_type\"] = \"text/plain\"\n",
    "except e:\n",
    "    event[\"response\"] = {\"error\", str(e)}\n"
   ]
  },
  {
   "cell_type": "markdown",
   "id": "ffea454d",
   "metadata": {},
   "source": [
    "----------------\n",
    "### Testing\n",
    "You are able to run the notebook yourself by typing:\n",
    "```bitswan notebook WebForms/main.ipynb```\n",
    "into the console in the examples directory, then you can test it on ```http://localhost:8080/```"
   ]
  }
 ],
 "metadata": {
  "kernelspec": {
   "display_name": "Python 3",
   "language": "python",
   "name": "python3"
  },
  "language_info": {
   "codemirror_mode": {
    "name": "ipython",
    "version": 3
   },
   "file_extension": ".py",
   "mimetype": "text/x-python",
   "name": "python",
   "nbconvert_exporter": "python",
   "pygments_lexer": "ipython3",
   "version": "3.9.13"
  }
 },
 "nbformat": 4,
 "nbformat_minor": 5
}
