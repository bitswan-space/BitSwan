{
 "cells": [
  {
   "cell_type": "code",
   "execution_count": null,
   "id": "4680223b",
   "metadata": {},
   "outputs": [],
   "source": [
    "from bspump.jupyter import *\n",
    "import bspump.http.web.source\n",
    "import bspump.file\n",
    "import time\n",
    "import json\n",
    "import base64\n",
    "from jinja2 import Environment, FileSystemLoader\n",
    "from selenium import webdriver\n",
    "from selenium.webdriver.chrome.options import Options"
   ]
  },
  {
   "cell_type": "code",
   "execution_count": null,
   "id": "f5fd3c76-2f57-4957-b0e3-6328e31fab62",
   "metadata": {},
   "outputs": [],
   "source": [
    "new_pipeline(\"WhatsappMapsPipeline\")"
   ]
  },
  {
   "cell_type": "code",
   "execution_count": null,
   "id": "979fee55-b7e1-47ab-94f3-904dea5890f5",
   "metadata": {},
   "outputs": [],
   "source": [
    "@register_source\n",
    "def source(app, pipeline):\n",
    "   return bspump.http.web.source.WebHookSource(\n",
    "       app,\n",
    "       pipeline\n",
    "   )"
   ]
  },
  {
   "cell_type": "code",
   "execution_count": null,
   "id": "ee957c39-5d6e-4bc4-90ec-cd1a3ff6dca4",
   "metadata": {},
   "outputs": [],
   "source": [
    "sample_events([json.dumps(d) for d in [[\n",
    "  {\"time\":\"8:00 AM\", \"lat\": 51.505, \"lon\": -0.09, \"name\": \"Main St & First Ave\"},\n",
    "  {\"time\":\"9:00 AM\", \"lat\": 51.515, \"lon\": -0.10, \"name\": \"Second St & Third Ave\"},\n",
    "  {\"time\":\"10:00 AM\", \"lat\": 51.525, \"lon\": -0.11, \"name\": \"Fourth St & Fifth Ave\"}\n",
    "]]])"
   ]
  },
  {
   "cell_type": "code",
   "execution_count": null,
   "id": "67e91027-d95c-41ec-9377-991ce5925c86",
   "metadata": {},
   "outputs": [],
   "source": [
    "@step\n",
    "def parse_json(event):\n",
    "    return json.loads(event)"
   ]
  },
  {
   "cell_type": "code",
   "execution_count": null,
   "id": "82dbe90b-9128-490d-8c09-33cf02caf240",
   "metadata": {},
   "outputs": [],
   "source": [
    "@step\n",
    "def render_tempalte(event):\n",
    "    env = Environment(loader=FileSystemLoader('.'))\n",
    "    template_path = \"/opt/pipelines/examples/Jupyter/timetable.html\"\n",
    "    if not os.path.isfile(template_path):\n",
    "        template_path = \"./timetable.html\"\n",
    "    template = env.get_template('timetable.html')\n",
    "    return template.render(items=event)"
   ]
  },
  {
   "cell_type": "code",
   "execution_count": null,
   "id": "c722c056-1134-4e99-bc31-77d452edba2e",
   "metadata": {},
   "outputs": [],
   "source": [
    "def setup_chrome_mobile_emulation():\n",
    "    chrome_options = Options()\n",
    "    chrome_options.add_argument(\"--headless\")  # Run in headless mode\n",
    "    chrome_options.add_argument(\"--no-sandbox\")  # Bypass OS security model\n",
    "    chrome_options.add_argument(\"--disable-gpu\")  # Applicable to windows os only\n",
    "    chrome_options.add_argument(\"--disable-dev-shm-usage\")  # Overcome limited resource problems\n",
    "    return webdriver.Chrome(options=chrome_options)\n",
    "\n",
    "@step\n",
    "def render_html_content(html_content):\n",
    "    driver = setup_chrome_mobile_emulation()\n",
    "    # Encode HTML content to base64\n",
    "    encoded_content = base64.b64encode(html_content.encode('utf-8')).decode('utf-8')\n",
    "    # Load the content using a data URL\n",
    "    driver.get(f\"data:text/html;base64,{encoded_content}\")\n",
    "    content_height = driver.execute_script(\"return document.body.scrollHeight\")\n",
    "    driver.set_window_size(360, content_height+70)  # Adjust window to content height\n",
    "    time.sleep(0.2)\n",
    "    screenshot = driver.get_screenshot_as_png()  # Get screenshot as a binary blob\n",
    "    driver.quit()\n",
    "    if is_running_in_jupyter():\n",
    "        from IPython.display import Image, display\n",
    "        display(Image(screenshot))\n",
    "    return screenshot"
   ]
  },
  {
   "cell_type": "code",
   "execution_count": null,
   "id": "bfd88fa5-f797-4c23-82ac-117538bb05e2",
   "metadata": {},
   "outputs": [],
   "source": [
    "@register_sink\n",
    "def init_sink(app, pipeline):\n",
    "    return bspump.file.FileCSVSink(app, pipeline)"
   ]
  },
  {
   "cell_type": "code",
   "execution_count": null,
   "id": "55aced63",
   "metadata": {},
   "outputs": [],
   "source": [
    "end_pipeline()"
   ]
  }
 ],
 "metadata": {
  "kernelspec": {
   "display_name": "Python 3 (ipykernel)",
   "language": "python",
   "name": "python3"
  },
  "language_info": {
   "codemirror_mode": {
    "name": "ipython",
    "version": 3
   },
   "file_extension": ".py",
   "mimetype": "text/x-python",
   "name": "python",
   "nbconvert_exporter": "python",
   "pygments_lexer": "ipython3",
   "version": "3.10.13"
  }
 },
 "nbformat": 4,
 "nbformat_minor": 5
}
