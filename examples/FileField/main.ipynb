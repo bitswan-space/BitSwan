{
 "cells": [
  {
   "cell_type": "markdown",
   "id": "68be381c-09b4-48bb-ab74-8f70b209172e",
   "metadata": {},
   "source": [
    "# File Field Example\n",
    "----------------\n",
    "This File Field example application allows you to create simple file uploader\n"
   ]
  },
  {
   "cell_type": "code",
   "execution_count": 2,
   "id": "1fd34891-3aac-4f76-9697-f8495a239091",
   "metadata": {
    "ExecuteTime": {
     "end_time": "2025-01-29T13:33:39.688711Z",
     "start_time": "2025-01-29T13:33:39.376349Z"
    }
   },
   "outputs": [],
   "source": [
    "from bspump.jupyter import *\n",
    "from bspump.http.web.server import *"
   ]
  },
  {
   "cell_type": "markdown",
   "id": "0a3f14e9",
   "metadata": {},
   "source": [
    "We start with an example event so that we have something to play with.\n"
   ]
  },
  {
   "cell_type": "code",
   "execution_count": 3,
   "id": "8b349d95",
   "metadata": {
    "ExecuteTime": {
     "end_time": "2025-01-29T13:33:40.786786Z",
     "start_time": "2025-01-29T13:33:40.780532Z"
    }
   },
   "outputs": [],
   "source": [
    "event = {\n",
    "    \"form\": {\"textfile\": \"text\"}\n",
    "}"
   ]
  },
  {
   "cell_type": "markdown",
   "id": "5277719b",
   "metadata": {},
   "source": [
    "Then we define a simple web form to get the File we want to upload"
   ]
  },
  {
   "cell_type": "code",
   "execution_count": 4,
   "id": "6e5432e7-f84a-4b27-826a-5171e6112ba8",
   "metadata": {
    "ExecuteTime": {
     "end_time": "2025-01-29T13:33:42.482975Z",
     "start_time": "2025-01-29T13:33:42.471887Z"
    }
   },
   "outputs": [],
   "source": [
    "auto_pipeline(\n",
    "    source=lambda app, pipeline: WebFormSource(app, pipeline, route=\"/\", fields=[\n",
    "        TextField(\"textfield\", display=\"Hello\"),\n",
    "        FileField(\"textfile\", display=\"Text\")\n",
    "    ]),\n",
    "    sink=lambda app, pipeline: WebSink(app, pipeline)\n",
    ")"
   ]
  },
  {
   "cell_type": "markdown",
   "id": "3c9a3733-b58a-4038-b8bc-296044013008",
   "metadata": {},
   "source": [
    "----------------\n",
    "### Pipeline section\n",
    "\n",
    "Everything after this is rerun every time an event comes in. At run time, the `event` variable is automatically set with the value of the event that comes from the source.\n",
    "\n",
    "We can do whatever transformations we please, and then, by setting `event` at the end of the notebook, the value of `event` will automatically be sent to the sink."
   ]
  },
  {
   "cell_type": "code",
   "execution_count": 5,
   "id": "a325511f",
   "metadata": {
    "ExecuteTime": {
     "end_time": "2025-01-29T13:33:45.006419Z",
     "start_time": "2025-01-29T13:33:45.003552Z"
    }
   },
   "outputs": [],
   "source": [
    "# open file\n",
    "byte_object = event[\"form\"][\"textfile\"].read()\n",
    "# decode it\n",
    "text = byte_object.decode('utf-8')\n",
    "\n",
    "# respond with concatenated text\n",
    "event[\"response\"] = event[\"form\"][\"textfield\"] + text\n",
    "event[\"content_type\"] = \"text/plain\""
   ]
  },
  {
   "cell_type": "markdown",
   "id": "47d14e0f",
   "metadata": {},
   "source": [
    "----------------\n",
    "### Testing\n",
    "You are able to run the notebook yourself by typing:\n",
    "```bitswan notebook FileField/main.ipynb```\n",
    "into the console in the examples directory, then you can test it on ```http://localhost:8080/```"
   ]
  }
 ],
 "metadata": {
  "kernelspec": {
   "display_name": "Python 3 (ipykernel)",
   "language": "python",
   "name": "python3"
  },
  "language_info": {
   "codemirror_mode": {
    "name": "ipython",
    "version": 3
   },
   "file_extension": ".py",
   "mimetype": "text/x-python",
   "name": "python",
   "nbconvert_exporter": "python",
   "pygments_lexer": "ipython3",
   "version": "3.10.15"
  }
 },
 "nbformat": 4,
 "nbformat_minor": 5
}
