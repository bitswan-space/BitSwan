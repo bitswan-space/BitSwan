{
 "cells": [
  {
   "cell_type": "code",
   "execution_count": 1,
   "id": "4680223b",
   "metadata": {},
   "outputs": [],
   "source": [
    "from bspump.jupyter import *\n",
    "import bspump.kafka\n",
    "import json"
   ]
  },
  {
   "cell_type": "code",
   "execution_count": 2,
   "id": "ee90d481-7bce-4c07-817f-f95980fdf922",
   "metadata": {},
   "outputs": [],
   "source": [
    "@register_connection\n",
    "def connection(app):\n",
    "    return bspump.kafka.KafkaConnection(app, \"KafkaConnection\")"
   ]
  },
  {
   "cell_type": "code",
   "execution_count": null,
   "id": "9c15175c",
   "metadata": {},
   "outputs": [],
   "source": [
    "sample_events([b\"\"\"{\"foo\":\"bap\"}\"\"\", b\"\"\"{\"foo\":\"baz\"}\"\"\"])"
   ]
  },
  {
   "cell_type": "code",
   "execution_count": null,
   "id": "a3b06fa6",
   "metadata": {},
   "outputs": [],
   "source": [
    "auto_pipeline(\n",
    "    source=lambda app, pipeline: bspump.kafka.KafkaSource(app, pipeline, connection=\"KafkaConnection\"),\n",
    "    sink=lambda app, pipeline: bspump.kafka.KafkaSink(app, pipeline, connection=\"KafkaConnection\"),\n",
    "    name=\"Kafka2KafkaPipeline\",\n",
    ")"
   ]
  },
  {
   "cell_type": "code",
   "execution_count": 6,
   "id": "67e91027-d95c-41ec-9377-991ce5925c86",
   "metadata": {},
   "outputs": [
    {
     "name": "stdout",
     "output_type": "stream",
     "text": [
      "{'foo': 'bap'}\n",
      "{'foo': 'baz'}\n"
     ]
    }
   ],
   "source": [
    "event = json.loads(event.decode(\"utf8\"))\n",
    "event"
   ]
  },
  {
   "cell_type": "code",
   "execution_count": 7,
   "id": "82dbe90b-9128-490d-8c09-33cf02caf240",
   "metadata": {},
   "outputs": [
    {
     "name": "stdout",
     "output_type": "stream",
     "text": [
      "{'foo': 'BAP'}\n",
      "{'foo': 'BAZ'}\n"
     ]
    }
   ],
   "source": [
    "event[\"foo\"] = event[\"foo\"].upper()\n",
    "event"
   ]
  },
  {
   "cell_type": "code",
   "execution_count": 8,
   "id": "b3bf4469-4724-4229-ae59-6d1f02bb9bd0",
   "metadata": {},
   "outputs": [
    {
     "name": "stdout",
     "output_type": "stream",
     "text": [
      "{'foo': 'PAB'}\n",
      "{'foo': 'ZAB'}\n"
     ]
    }
   ],
   "source": [
    "event[\"foo\"] = \"\".join(reversed(list(event[\"foo\"])))\n",
    "event"
   ]
  },
  {
   "cell_type": "code",
   "execution_count": 9,
   "id": "d6588afb-ce85-4b8c-bc58-cb2df0e7bef7",
   "metadata": {},
   "outputs": [
    {
     "name": "stdout",
     "output_type": "stream",
     "text": [
      "b'{\"foo\": \"PAB\"}'\n",
      "b'{\"foo\": \"ZAB\"}'\n"
     ]
    }
   ],
   "source": [
    "event = json.dumps(event).encode()"
   ]
  }
 ],
 "metadata": {
  "kernelspec": {
   "display_name": "Python 3 (ipykernel)",
   "language": "python",
   "name": "python3"
  },
  "language_info": {
   "codemirror_mode": {
    "name": "ipython",
    "version": 3
   },
   "file_extension": ".py",
   "mimetype": "text/x-python",
   "name": "python",
   "nbconvert_exporter": "python",
   "pygments_lexer": "ipython3",
   "version": "3.11.9"
  }
 },
 "nbformat": 4,
 "nbformat_minor": 5
}
