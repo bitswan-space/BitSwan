{
 "cells": [
  {
   "cell_type": "code",
   "execution_count": null,
   "id": "00d9f193-f748-4f3f-8b44-6541abc461b9",
   "metadata": {},
   "outputs": [],
   "source": [
    "from bspump.http.web.server import *\n",
    "from bspump.jupyter import *"
   ]
  },
  {
   "cell_type": "code",
   "execution_count": null,
   "id": "83bfb3aa",
   "metadata": {},
   "outputs": [],
   "source": [
    "auto_pipeline(\n",
    "    source=lambda app, pipeline: ProtectedWebRouteSource(app, pipeline, method=\"GET\", route=\"/\"),\n",
    "    sink=lambda app, pipeline: JSONWebSink(app, pipeline),\n",
    "    name=\"ProtectedWebRouteSourcePipeline\",\n",
    ")"
   ]
  },
  {
   "cell_type": "code",
   "execution_count": null,
   "id": "ba89b073-27c5-45d2-90cd-93cea1b0ce4d",
   "metadata": {},
   "outputs": [],
   "source": [
    "event[\"response\"] = {\"msg\": \"Hello world!\"}\n",
    "event"
   ]
  }
 ],
 "metadata": {
  "kernelspec": {
   "display_name": "Python 3 (ipykernel)",
   "language": "python",
   "name": "python3"
  },
  "language_info": {
   "codemirror_mode": {
    "name": "ipython",
    "version": 3
   },
   "file_extension": ".py",
   "mimetype": "text/x-python",
   "name": "python",
   "nbconvert_exporter": "python",
   "pygments_lexer": "ipython3",
   "version": "3.10.15"
  }
 },
 "nbformat": 4,
 "nbformat_minor": 5
}
