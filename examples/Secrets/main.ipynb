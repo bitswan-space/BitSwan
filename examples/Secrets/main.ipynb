{
 "cells": [
  {
   "cell_type": "code",
   "execution_count": 1,
   "id": "60685770-0823-40e0-a373-414720984bf2",
   "metadata": {},
   "outputs": [],
   "source": [
    "from bspump.jupyter import *\n",
    "import os"
   ]
  },
  {
   "cell_type": "markdown",
   "id": "914e75fc-3f2e-41ef-aca4-4fce821ad08b",
   "metadata": {},
   "source": [
    "If you look in pipelines.conf you will notice that the foo and bar groups are loaded, and thus the FOO and BAR env vars are set."
   ]
  },
  {
   "cell_type": "code",
   "execution_count": 2,
   "id": "a9293fc4-408b-4f31-a09a-ecb6569b2c5b",
   "metadata": {},
   "outputs": [
    {
     "name": "stdout",
     "output_type": "stream",
     "text": [
      "foo\n",
      "bar\n"
     ]
    }
   ],
   "source": [
    "print(os.environ[\"FOO\"])\n",
    "print(os.environ[\"BAR\"])"
   ]
  },
  {
   "cell_type": "markdown",
   "id": "90c45daf-f95f-4700-88e6-00f0b7fa67db",
   "metadata": {},
   "source": [
    "However the baz group is not loaded and thus BAZ is not set."
   ]
  },
  {
   "cell_type": "code",
   "execution_count": 3,
   "id": "9f8cd3dd-2565-4853-b079-287603cd9412",
   "metadata": {},
   "outputs": [
    {
     "ename": "KeyError",
     "evalue": "'BAZ'",
     "output_type": "error",
     "traceback": [
      "\u001b[0;31m---------------------------------------------------------------------------\u001b[0m",
      "\u001b[0;31mKeyError\u001b[0m                                  Traceback (most recent call last)",
      "Cell \u001b[0;32mIn[3], line 1\u001b[0m\n\u001b[0;32m----> 1\u001b[0m \u001b[38;5;28mprint\u001b[39m(\u001b[43mos\u001b[49m\u001b[38;5;241;43m.\u001b[39;49m\u001b[43menviron\u001b[49m\u001b[43m[\u001b[49m\u001b[38;5;124;43m\"\u001b[39;49m\u001b[38;5;124;43mBAZ\u001b[39;49m\u001b[38;5;124;43m\"\u001b[39;49m\u001b[43m]\u001b[49m)\n",
      "File \u001b[0;32m/nix/store/9k4c0sawwdw6q920y1ndj4jrd0ay3gsa-python3-3.10.15/lib/python3.10/os.py:680\u001b[0m, in \u001b[0;36m_Environ.__getitem__\u001b[0;34m(self, key)\u001b[0m\n\u001b[1;32m    677\u001b[0m     value \u001b[38;5;241m=\u001b[39m \u001b[38;5;28mself\u001b[39m\u001b[38;5;241m.\u001b[39m_data[\u001b[38;5;28mself\u001b[39m\u001b[38;5;241m.\u001b[39mencodekey(key)]\n\u001b[1;32m    678\u001b[0m \u001b[38;5;28;01mexcept\u001b[39;00m \u001b[38;5;167;01mKeyError\u001b[39;00m:\n\u001b[1;32m    679\u001b[0m     \u001b[38;5;66;03m# raise KeyError with the original key value\u001b[39;00m\n\u001b[0;32m--> 680\u001b[0m     \u001b[38;5;28;01mraise\u001b[39;00m \u001b[38;5;167;01mKeyError\u001b[39;00m(key) \u001b[38;5;28;01mfrom\u001b[39;00m \u001b[38;5;28;01mNone\u001b[39;00m\n\u001b[1;32m    681\u001b[0m \u001b[38;5;28;01mreturn\u001b[39;00m \u001b[38;5;28mself\u001b[39m\u001b[38;5;241m.\u001b[39mdecodevalue(value)\n",
      "\u001b[0;31mKeyError\u001b[0m: 'BAZ'"
     ]
    }
   ],
   "source": [
    "print(os.environ[\"BAZ\"])"
   ]
  }
 ],
 "metadata": {
  "kernelspec": {
   "display_name": "Python 3 (ipykernel)",
   "language": "python",
   "name": "python3"
  },
  "language_info": {
   "codemirror_mode": {
    "name": "ipython",
    "version": 3
   },
   "file_extension": ".py",
   "mimetype": "text/x-python",
   "name": "python",
   "nbconvert_exporter": "python",
   "pygments_lexer": "ipython3",
   "version": "3.10.15"
  }
 },
 "nbformat": 4,
 "nbformat_minor": 5
}
