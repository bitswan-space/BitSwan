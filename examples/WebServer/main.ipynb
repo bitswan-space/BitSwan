{
 "cells": [
  {
   "cell_type": "markdown",
   "id": "1abd5399",
   "metadata": {},
   "source": [
    "# Webserver Example\n",
    "\n",
    "This notebook demonstrates how to serve a basic HTTP endpoint with ```bspump```, process form or query data, and respond with results.\n",
    "\n",
    "This pattern is ideal for quick prototyping of HTTP APIs or internal tools that need to process web requests and return dynamic content.\n",
    "\n",
    "### Webserver Pipeline Overview\n",
    "\n",
    "- **Source:** Listens for HTTP GET/POST requests at a specified route.\n",
    "- **Sink:** Sends data back to the requester in the specified format (e.g., JSON or text).\n",
    "\n"
   ]
  },
  {
   "cell_type": "markdown",
   "id": "db89c477",
   "metadata": {},
   "source": [
    "----------------\n",
    "\n",
    "### Imports and Pipeline Setup"
   ]
  },
  {
   "cell_type": "code",
   "execution_count": null,
   "id": "00d9f193-f748-4f3f-8b44-6541abc461b9",
   "metadata": {},
   "outputs": [],
   "source": [
    "from bspump.http.web.server import *\n",
    "from bspump.jupyter import *"
   ]
  },
  {
   "cell_type": "markdown",
   "id": "45349894",
   "metadata": {},
   "source": [
    "These provide HTTP form handling and the ability to send responses.\n"
   ]
  },
  {
   "cell_type": "markdown",
   "id": "39e26bde",
   "metadata": {},
   "source": [
    "----------------\n",
    "### Example Pipeline"
   ]
  },
  {
   "cell_type": "code",
   "execution_count": null,
   "id": "fc112148",
   "metadata": {},
   "outputs": [],
   "source": [
    "auto_pipeline(\n",
    "    source=lambda app, pipeline: WebRouteSource(app, pipeline, method=\"GET\", route=\"/\"),\n",
    "    sink=lambda app, pipeline: JSONWebSink(app, pipeline),\n",
    "    name=\"WebServerPipeline\",\n",
    ")"
   ]
  },
  {
   "cell_type": "markdown",
   "id": "842a8166",
   "metadata": {},
   "source": [
    "```WebFormSource```: Exposes a web form at /. Users can submit a message.\n",
    "\n",
    "```WebSink```: Responds with the result (e.g., echoes or transforms the message)."
   ]
  },
  {
   "cell_type": "code",
   "execution_count": null,
   "id": "ba89b073-27c5-45d2-90cd-93cea1b0ce4d",
   "metadata": {},
   "outputs": [],
   "source": [
    "event[\"response\"] = {\"msg\": \"Hello world!\"}\n",
    "event[\"status\"] = 403\n",
    "event"
   ]
  }
 ],
 "metadata": {
  "kernelspec": {
   "display_name": "Python 3 (ipykernel)",
   "language": "python",
   "name": "python3"
  },
  "language_info": {
   "codemirror_mode": {
    "name": "ipython",
    "version": 3
   },
   "file_extension": ".py",
   "mimetype": "text/x-python",
   "name": "python",
   "nbconvert_exporter": "python",
   "pygments_lexer": "ipython3",
   "version": "3.10.13"
  }
 },
 "nbformat": 4,
 "nbformat_minor": 5
}
