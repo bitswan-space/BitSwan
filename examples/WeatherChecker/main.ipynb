{
  "cells": [
    {
      "cell_type": "raw",
      "metadata": {
        "vscode": {
          "languageId": "raw"
        }
      },
      "source": [
        "# Weather Checker Automation\n",
        "----------------\n",
        "This automation allows you to create a simple webpage with an input form that allows to select a date and when submitted, you see the weather information for Brno on that date with a nice visualization.\n"
      ]
    },
    {
      "cell_type": "raw",
      "metadata": {
        "vscode": {
          "languageId": "raw"
        }
      },
      "source": [
        "## Needed imports\n"
      ]
    },
    {
      "cell_type": "code",
      "execution_count": null,
      "metadata": {},
      "outputs": [],
      "source": [
        "from bspump.jupyter import *\n",
        "from bspump.http.web.server import *\n",
        "import requests\n",
        "import pandas as pd\n",
        "from datetime import datetime, timedelta\n",
        "import matplotlib.pyplot as plt\n",
        "import matplotlib\n",
        "import time\n",
        "import io\n",
        "from datetime import date\n",
        "import base64\n",
        "import json\n"
      ]
    },
    {
      "cell_type": "raw",
      "metadata": {
        "vscode": {
          "languageId": "raw"
        }
      },
      "source": [
        "Now we can declare a mock event, allowing us to execute all cells during development without needing to deploy the code to see the results.\n"
      ]
    },
    {
      "cell_type": "code",
      "execution_count": null,
      "metadata": {},
      "outputs": [],
      "source": [
        "event = {\n",
        "    \"form\": {\n",
        "        \"Year\": 2024,\n",
        "        \"Month\": 12,\n",
        "        \"Day\": 15\n",
        "    }\n",
        "}\n"
      ]
    },
    {
      "cell_type": "raw",
      "metadata": {
        "vscode": {
          "languageId": "raw"
        }
      },
      "source": [
        "Defining an autopipline, the core of the automation. We define its source and sink.\n"
      ]
    },
    {
      "cell_type": "code",
      "execution_count": null,
      "metadata": {},
      "outputs": [],
      "source": [
        "today = datetime.now()\n",
        "\n",
        "auto_pipeline(\n",
        "    source=lambda app, pipeline: WebFormSource(app, pipeline, route=\"/\",\n",
        "    form_intro=\"\"\"<h1>🌡️ Weather Checker for Brno</h1>\n",
        "    <p>Select a date to see the weather information for Brno on that day:</p>\"\"\",\n",
        "    fields=[\n",
        "        IntField(\"Day\", default=today.day, min_value=1, max_value=31),\n",
        "        IntField(\"Month\", default=today.month, min_value=1, max_value=12),\n",
        "        IntField(\"Year\", default=today.year, min_value=2020, max_value=2030),\n",
        "    ]),\n",
        "    sink=lambda app, pipeline: WebSink(app, pipeline)\n",
        ")\n"
      ]
    },
    {
      "cell_type": "raw",
      "metadata": {
        "vscode": {
          "languageId": "raw"
        }
      },
      "source": [
        "## Pipeline section\n",
        "----------------\n",
        "\n",
        "Everything after this is rerun every time an event comes in. At run time, the `event` variable is automatically set with the value of the event that comes from the source.\n",
        "\n",
        "We can do whatever transformations we please, and then, by setting `event` at the end of the notebook, the value of `event` will automatically be sent to the sink.\n"
      ]
    },
    {
      "cell_type": "raw",
      "metadata": {
        "vscode": {
          "languageId": "raw"
        }
      },
      "source": [
        "### Helper Functions\n",
        "Here are helper functions for the output layout.\n"
      ]
    },
    {
      "cell_type": "code",
      "execution_count": null,
      "metadata": {},
      "outputs": [],
      "source": [
        "def output_layout(parsed_date, weather_data, img_data) -> str:\n",
        "    temp = weather_data.get('temperature', 'N/A')\n",
        "    feels_like = weather_data.get('feels_like', 'N/A')\n",
        "    humidity = weather_data.get('humidity', 'N/A')\n",
        "    description = weather_data.get('description', 'N/A')\n",
        "    wind_speed = weather_data.get('wind_speed', 'N/A')\n",
        "    pressure = weather_data.get('pressure', 'N/A')\n",
        "    \n",
        "    html = f\"\"\"\n",
        "    <!DOCTYPE html>\n",
        "    <html>\n",
        "    <head>\n",
        "        <title>Weather in Brno</title>\n",
        "        <style>\n",
        "            body {{\n",
        "                font-family: 'Segoe UI', Tahoma, Geneva, Verdana, sans-serif;\n",
        "                text-align: center;\n",
        "                background: linear-gradient(135deg, #74b9ff, #0984e3);\n",
        "                padding: 40px;\n",
        "                margin: 0;\n",
        "                min-height: 100vh;\n",
        "            }}\n",
        "            .container {{\n",
        "                background: rgba(255, 255, 255, 0.95);\n",
        "                border-radius: 20px;\n",
        "                padding: 30px;\n",
        "                box-shadow: 0 15px 35px rgba(0,0,0,0.1);\n",
        "                max-width: 800px;\n",
        "                margin: 0 auto;\n",
        "            }}\n",
        "            h1 {{\n",
        "                color: #2d3436;\n",
        "                margin-bottom: 30px;\n",
        "                font-size: 2.5em;\n",
        "            }}\n",
        "            .weather-info {{\n",
        "                display: grid;\n",
        "                grid-template-columns: repeat(auto-fit, minmax(200px, 1fr));\n",
        "                gap: 20px;\n",
        "                margin: 30px 0;\n",
        "            }}\n",
        "            .weather-card {{\n",
        "                background: linear-gradient(45deg, #e17055, #fdcb6e);\n",
        "                border-radius: 15px;\n",
        "                padding: 20px;\n",
        "                color: white;\n",
        "                box-shadow: 0 5px 15px rgba(0,0,0,0.1);\n",
        "            }}\n",
        "            .weather-card h3 {{\n",
        "                margin: 0 0 10px 0;\n",
        "                font-size: 1.1em;\n",
        "            }}\n",
        "            .weather-card .value {{\n",
        "                font-size: 1.8em;\n",
        "                font-weight: bold;\n",
        "                margin: 0;\n",
        "            }}\n",
        "            img {{\n",
        "                border-radius: 15px;\n",
        "                max-width: 90%;\n",
        "                height: auto;\n",
        "                box-shadow: 0 10px 25px rgba(0,0,0,0.1);\n",
        "                margin: 20px 0;\n",
        "            }}\n",
        "            button {{\n",
        "                background: linear-gradient(45deg, #00b894, #00cec9);\n",
        "                color: white;\n",
        "                border: none;\n",
        "                padding: 15px 30px;\n",
        "                font-size: 16px;\n",
        "                border-radius: 25px;\n",
        "                cursor: pointer;\n",
        "                transition: transform 0.2s ease;\n",
        "                margin-top: 20px;\n",
        "            }}\n",
        "            button:hover {{\n",
        "                transform: translateY(-2px);\n",
        "                box-shadow: 0 5px 15px rgba(0,0,0,0.2);\n",
        "            }}\n",
        "        </style>\n",
        "    </head>\n",
        "    <body>\n",
        "        <div class=\"container\">\n",
        "            <h1>🌡️ Weather in Brno on {parsed_date}</h1>\n",
        "            \n",
        "            <div class=\"weather-info\">\n",
        "                <div class=\"weather-card\">\n",
        "                    <h3>🌡️ Temperature</h3>\n",
        "                    <p class=\"value\">{temp}°C</p>\n",
        "                </div>\n",
        "                <div class=\"weather-card\">\n",
        "                    <h3>🤔 Feels Like</h3>\n",
        "                    <p class=\"value\">{feels_like}°C</p>\n",
        "                </div>\n",
        "                <div class=\"weather-card\">\n",
        "                    <h3>💧 Humidity</h3>\n",
        "                    <p class=\"value\">{humidity}%</p>\n",
        "                </div>\n",
        "                <div class=\"weather-card\">\n",
        "                    <h3>💨 Wind Speed</h3>\n",
        "                    <p class=\"value\">{wind_speed} m/s</p>\n",
        "                </div>\n",
        "                <div class=\"weather-card\">\n",
        "                    <h3>🔽 Pressure</h3>\n",
        "                    <p class=\"value\">{pressure} hPa</p>\n",
        "                </div>\n",
        "                <div class=\"weather-card\">\n",
        "                    <h3>☁️ Conditions</h3>\n",
        "                    <p class=\"value\">{description.title()}</p>\n",
        "                </div>\n",
        "            </div>\n",
        "            \n",
        "            <img src=\"data:image/png;base64,{base64.b64encode(img_data.getvalue()).decode()}\" alt=\"Weather Chart\">\n",
        "            <br>\n",
        "            <button onclick=\"window.history.back()\">🔙 Check Another Date</button>\n",
        "        </div>\n",
        "    </body>\n",
        "    </html>\n",
        "    \"\"\"\n",
        "    return html\n",
        "\n",
        "\n",
        "def output_no_data_found() -> str:\n",
        "    html = \"\"\"\n",
        "    <!DOCTYPE html>\n",
        "    <html>\n",
        "    <head>\n",
        "       <title>No Weather Data Found</title>\n",
        "        <style>\n",
        "            body {\n",
        "                font-family: 'Segoe UI', Tahoma, Geneva, Verdana, sans-serif;\n",
        "                text-align: center;\n",
        "                background: linear-gradient(135deg, #636e72, #2d3436);\n",
        "                padding: 40px;\n",
        "                margin: 0;\n",
        "                min-height: 100vh;\n",
        "            }\n",
        "            .container {\n",
        "                background: rgba(255, 255, 255, 0.95);\n",
        "                border-radius: 20px;\n",
        "                padding: 40px;\n",
        "                box-shadow: 0 15px 35px rgba(0,0,0,0.1);\n",
        "                max-width: 600px;\n",
        "                margin: 0 auto;\n",
        "            }\n",
        "            h1 {\n",
        "                color: #d63031;\n",
        "                margin-bottom: 20px;\n",
        "                font-size: 2.5em;\n",
        "            }\n",
        "            p {\n",
        "                color: #555;\n",
        "                font-size: 18px;\n",
        "                margin-bottom: 30px;\n",
        "            }\n",
        "            button {\n",
        "                background: linear-gradient(45deg, #0984e3, #74b9ff);\n",
        "                color: white;\n",
        "                border: none;\n",
        "                padding: 15px 30px;\n",
        "                font-size: 16px;\n",
        "                border-radius: 25px;\n",
        "                cursor: pointer;\n",
        "                transition: transform 0.2s ease;\n",
        "            }\n",
        "            button:hover {\n",
        "                transform: translateY(-2px);\n",
        "                box-shadow: 0 5px 15px rgba(0,0,0,0.2);\n",
        "            }\n",
        "        </style>\n",
        "    </head>\n",
        "    <body>\n",
        "        <div class=\"container\">\n",
        "            <h1>⚠️ No Weather Data Found</h1>\n",
        "            <p>Sorry, we couldn't retrieve weather data for the selected date. Please try a different date or check your internet connection.</p>\n",
        "            <button onclick=\"window.history.back()\">🔙 Go Back</button>\n",
        "        </div>\n",
        "    </body>\n",
        "    </html>\n",
        "    \"\"\"\n",
        "    return html\n"
      ]
    },
    {
      "cell_type": "raw",
      "metadata": {
        "vscode": {
          "languageId": "raw"
        }
      },
      "source": [
        "First, we declare global variables and handle the input from the WebFormSource.\n"
      ]
    },
    {
      "cell_type": "code",
      "execution_count": null,
      "metadata": {},
      "outputs": [],
      "source": [
        "# Global variables\n",
        "BRNO_LAT = 49.1951\n",
        "BRNO_LON = 16.6068\n",
        "\n",
        "# Using Open-Meteo API (free, no API key required)\n",
        "WEATHER_API_URL = \"https://api.open-meteo.com/v1/forecast\"\n",
        "HISTORICAL_API_URL = \"https://archive-api.open-meteo.com/v1/archive\"\n",
        "\n",
        "# Input processing\n",
        "form = event[\"form\"]\n",
        "parsed_date_str = date(form[\"Year\"], form[\"Month\"], form[\"Day\"]).strftime(\"%Y-%m-%d\")\n",
        "parsed_date = datetime.strptime(parsed_date_str, \"%Y-%m-%d\")\n",
        "today_date = datetime.now().date()\n",
        "request_date = parsed_date.date()\n"
      ]
    },
    {
      "cell_type": "raw",
      "metadata": {
        "vscode": {
          "languageId": "raw"
        }
      },
      "source": [
        "Here, we fetch weather data from Open-Meteo API for Brno.\n"
      ]
    },
    {
      "cell_type": "code",
      "execution_count": null,
      "metadata": {},
      "outputs": [],
      "source": [
        "weather_data = {}\n",
        "hourly_data = []\n",
        "\n",
        "try:\n",
        "    # Determine if we need historical data or current/forecast data\n",
        "    if request_date < today_date:\n",
        "        # Historical data\n",
        "        api_url = HISTORICAL_API_URL\n",
        "    else:\n",
        "        # Current or forecast data\n",
        "        api_url = WEATHER_API_URL\n",
        "    \n",
        "    # Prepare API request\n",
        "    params = {\n",
        "        \"latitude\": BRNO_LAT,\n",
        "        \"longitude\": BRNO_LON,\n",
        "        \"start_date\": parsed_date_str,\n",
        "        \"end_date\": parsed_date_str,\n",
        "        \"hourly\": [\"temperature_2m\", \"relative_humidity_2m\", \"wind_speed_10m\", \"surface_pressure\"],\n",
        "        \"daily\": [\"temperature_2m_max\", \"temperature_2m_min\", \"apparent_temperature_max\", \"apparent_temperature_min\"],\n",
        "        \"timezone\": \"Europe/Prague\"\n",
        "    }\n",
        "    \n",
        "    response = requests.get(api_url, params=params)\n",
        "    data = response.json()\n",
        "    \n",
        "    if \"hourly\" in data and data[\"hourly\"]:\n",
        "        hourly = data[\"hourly\"]\n",
        "        daily = data.get(\"daily\", {})\n",
        "        \n",
        "        # Extract hourly data for plotting\n",
        "        times = hourly[\"time\"]\n",
        "        temperatures = hourly[\"temperature_2m\"]\n",
        "        humidity = hourly[\"relative_humidity_2m\"]\n",
        "        wind_speeds = hourly[\"wind_speed_10m\"]\n",
        "        pressures = hourly[\"surface_pressure\"]\n",
        "        \n",
        "        # Create hourly data for plotting\n",
        "        for i, time_str in enumerate(times):\n",
        "            hour = datetime.fromisoformat(time_str.replace('Z', '+00:00')).hour\n",
        "            hourly_data.append({\n",
        "                'hour': hour,\n",
        "                'temperature': temperatures[i] if temperatures[i] is not None else 0,\n",
        "                'humidity': humidity[i] if humidity[i] is not None else 0,\n",
        "                'wind_speed': wind_speeds[i] if wind_speeds[i] is not None else 0,\n",
        "                'pressure': pressures[i] if pressures[i] is not None else 0\n",
        "            })\n",
        "        \n",
        "        # Calculate average values for the day\n",
        "        valid_temps = [t for t in temperatures if t is not None]\n",
        "        valid_humidity = [h for h in humidity if h is not None]\n",
        "        valid_wind = [w for w in wind_speeds if w is not None]\n",
        "        valid_pressure = [p for p in pressures if p is not None]\n",
        "        \n",
        "        if valid_temps:\n",
        "            weather_data = {\n",
        "                'temperature': round(sum(valid_temps) / len(valid_temps), 1),\n",
        "                'feels_like': round(sum(valid_temps) / len(valid_temps), 1),  # Simplified\n",
        "                'humidity': round(sum(valid_humidity) / len(valid_humidity), 1) if valid_humidity else 0,\n",
        "                'wind_speed': round(sum(valid_wind) / len(valid_wind), 1) if valid_wind else 0,\n",
        "                'pressure': round(sum(valid_pressure) / len(valid_pressure), 1) if valid_pressure else 0,\n",
        "                'description': f\"Average conditions for {parsed_date_str}\"\n",
        "            }\n",
        "            \n",
        "            # Use daily data if available for more accurate feels like\n",
        "            if daily and \"apparent_temperature_max\" in daily:\n",
        "                if daily[\"apparent_temperature_max\"][0] is not None:\n",
        "                    weather_data['feels_like'] = round(daily[\"apparent_temperature_max\"][0], 1)\n",
        "\n",
        "except Exception as e:\n",
        "    print(f\"Error fetching weather data: {e}\")\n",
        "    weather_data = {}\n"
      ]
    },
    {
      "cell_type": "raw",
      "metadata": {
        "vscode": {
          "languageId": "raw"
        }
      },
      "source": [
        "Here, we create a plot from the weather data.\n"
      ]
    },
    {
      "cell_type": "code",
      "execution_count": null,
      "metadata": {},
      "outputs": [],
      "source": [
        "# Create visualization if data is available\n",
        "if hourly_data and weather_data:\n",
        "    # Create DataFrame for easier plotting\n",
        "    df = pd.DataFrame(hourly_data)\n",
        "    \n",
        "    # Create a figure with subplots\n",
        "    fig, ((ax1, ax2), (ax3, ax4)) = plt.subplots(2, 2, figsize=(15, 10))\n",
        "    fig.suptitle(f'Weather in Brno on {parsed_date_str}', fontsize=16, fontweight='bold')\n",
        "    \n",
        "    # Temperature plot\n",
        "    ax1.plot(df['hour'], df['temperature'], marker='o', linewidth=2, markersize=4, color='#e74c3c')\n",
        "    ax1.set_title('🌡️ Temperature throughout the day', fontweight='bold')\n",
        "    ax1.set_xlabel('Hour')\n",
        "    ax1.set_ylabel('Temperature (°C)')\n",
        "    ax1.grid(True, alpha=0.3)\n",
        "    ax1.set_xticks(range(0, 24, 3))\n",
        "    \n",
        "    # Humidity plot\n",
        "    ax2.plot(df['hour'], df['humidity'], marker='s', linewidth=2, markersize=4, color='#3498db')\n",
        "    ax2.set_title('💧 Humidity throughout the day', fontweight='bold')\n",
        "    ax2.set_xlabel('Hour')\n",
        "    ax2.set_ylabel('Humidity (%)')\n",
        "    ax2.grid(True, alpha=0.3)\n",
        "    ax2.set_xticks(range(0, 24, 3))\n",
        "    \n",
        "    # Wind speed plot\n",
        "    ax3.plot(df['hour'], df['wind_speed'], marker='^', linewidth=2, markersize=4, color='#2ecc71')\n",
        "    ax3.set_title('💨 Wind Speed throughout the day', fontweight='bold')\n",
        "    ax3.set_xlabel('Hour')\n",
        "    ax3.set_ylabel('Wind Speed (m/s)')\n",
        "    ax3.grid(True, alpha=0.3)\n",
        "    ax3.set_xticks(range(0, 24, 3))\n",
        "    \n",
        "    # Pressure plot\n",
        "    ax4.plot(df['hour'], df['pressure'], marker='D', linewidth=2, markersize=4, color='#9b59b6')\n",
        "    ax4.set_title('🔽 Pressure throughout the day', fontweight='bold')\n",
        "    ax4.set_xlabel('Hour')\n",
        "    ax4.set_ylabel('Pressure (hPa)')\n",
        "    ax4.grid(True, alpha=0.3)\n",
        "    ax4.set_xticks(range(0, 24, 3))\n",
        "    \n",
        "    # Adjust layout\n",
        "    plt.tight_layout()\n",
        "    \n",
        "    # Save plot to buffer\n",
        "    buf = io.BytesIO()\n",
        "    plt.savefig(buf, format='png', dpi=150, bbox_inches='tight')\n",
        "    img_data = buf\n",
        "    plt.close()\n"
      ]
    },
    {
      "cell_type": "raw",
      "metadata": {
        "vscode": {
          "languageId": "raw"
        }
      },
      "source": [
        "Here, we handle the output for all possible cases to ensure the WebSink always has something to display to the user.\n"
      ]
    },
    {
      "cell_type": "code",
      "execution_count": null,
      "metadata": {},
      "outputs": [],
      "source": [
        "if weather_data and hourly_data:\n",
        "    # Build and set response with weather data\n",
        "    response = output_layout(\n",
        "        parsed_date=parsed_date_str,\n",
        "        weather_data=weather_data,\n",
        "        img_data=img_data\n",
        "    )\n",
        "    \n",
        "    event[\"response\"] = response\n",
        "    event[\"content_type\"] = \"text/html\"\n",
        "\n",
        "else:\n",
        "    # No data available\n",
        "    event[\"response\"] = output_no_data_found()\n",
        "    event[\"content_type\"] = \"text/html\"\n"
      ]
    },
    {
      "cell_type": "raw",
      "metadata": {
        "vscode": {
          "languageId": "raw"
        }
      },
      "source": [
        "Note that the event object still exists in the last cell, so it can be automatically passed as input to the WebSink.\n"
      ]
    }
  ],
  "metadata": {
    "language_info": {
      "name": "python"
    }
  },
  "nbformat": 4,
  "nbformat_minor": 2
}
