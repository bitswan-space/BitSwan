{
 "cells": [
  {
   "cell_type": "markdown",
   "id": "5b928eb7",
   "metadata": {},
   "source": [
    "# LookupPipeline – Webhook JSON → CSV with Dictionary Lookup\n",
    "\n",
    "This pipeline listens for HTTP POST requests at `/webhook`, decodes the JSON\n",
    "payload, replaces the key `foo` using a simple in-memory lookup table, and\n",
    "appends the transformed record to a CSV file."
   ]
  },
  {
   "cell_type": "markdown",
   "id": "f1a8f8b2",
   "metadata": {},
   "source": [
    "---\n",
    "\n",
    "### Imports and Setup"
   ]
  },
  {
   "cell_type": "code",
   "execution_count": null,
   "id": "4680223b",
   "metadata": {},
   "outputs": [
    {
     "name": "stdout",
     "output_type": "stream",
     "text": [
      "BitSwan BSPump version devel\n"
     ]
    }
   ],
   "source": [
    "from bspump.jupyter import *\n",
    "import bspump.http.web.source\n",
    "from bspump.file import FileCSVSink\n",
    "from bspump.abc.lookup import Lookup\n",
    "import json\n",
    "import pathlib\n"
   ]
  },
  {
   "cell_type": "markdown",
   "id": "e2720cdc",
   "metadata": {},
   "source": [
    "```websource.WebHookSource``` handles inbound webhooks;\n",
    "\n",
    "```FileCSVSink``` writes rows;\n",
    "\n",
    "```Lookup``` lets us register reusable lookup tables."
   ]
  },
  {
   "cell_type": "markdown",
   "id": "018aee36",
   "metadata": {},
   "source": [
    "\n",
    "----------------\n",
    "### Static lookup table & registration"
   ]
  },
  {
   "cell_type": "code",
   "execution_count": 2,
   "id": "8126ed48-346c-49c9-9e89-fdc0db2de839",
   "metadata": {},
   "outputs": [],
   "source": [
    "words = {\n",
    "    \"bap\": \"lol\",\n",
    "    \"baz\": \"baf\",\n",
    "}\n",
    "\n",
    "class WordLookup(Lookup):\n",
    "    def get(self, key):\n",
    "        return words.get(key)\n",
    "\n",
    "register_lookup(WordLookup)"
   ]
  },
  {
   "cell_type": "markdown",
   "id": "39f5ee3c",
   "metadata": {},
   "source": [
    "A trivial mapping from one word to another, wrapped in a BsPump Lookup so the\n",
    "pipeline can fetch it by name."
   ]
  },
  {
   "cell_type": "markdown",
   "id": "58ac4a0c",
   "metadata": {},
   "source": [
    "---\n",
    "\n",
    "### Sample events (optional, for interactive notebook testing)"
   ]
  },
  {
   "cell_type": "code",
   "execution_count": 5,
   "id": "ee957c39-5d6e-4bc4-90ec-cd1a3ff6dca4",
   "metadata": {},
   "outputs": [],
   "source": [
    "sample_events([\n",
    "    b\"\"\"{\"foo\":\"bap\"}\"\"\",\n",
    "    b\"\"\"{\"foo\":\"baz\"}\"\"\"\n",
    "])"
   ]
  },
  {
   "cell_type": "markdown",
   "id": "c2840f6a",
   "metadata": {},
   "source": [
    "---\n",
    "### Generator: JSON decode + lookup replace"
   ]
  },
  {
   "cell_type": "code",
   "execution_count": null,
   "id": "82dbe90b-9128-490d-8c09-33cf02caf240",
   "metadata": {},
   "outputs": [
    {
     "name": "stdout",
     "output_type": "stream",
     "text": [
      "{'foo': 'lol'}\n",
      "{'foo': 'baf'}\n"
     ]
    }
   ],
   "source": [
    "class LookupGenerator(bspump.Generator):\n",
    "    \"\"\"\n",
    "    • Decodes the incoming bytes to a Python dictionary\n",
    "    • Replaces event[\"foo\"] via WordLookup\n",
    "    • Passes the modified dictionary downstream\n",
    "    \"\"\"\n",
    "    def __init__(self, app, pipeline, id=None, config=None):\n",
    "        super().__init__(app, pipeline, id, config)\n",
    "        svc = app.get_service(\"bspump.PumpService\")\n",
    "        self.word_lookup = svc.locate_lookup(\"WordLookup\")\n",
    "    \n",
    "    async def generate(self, context, event, depth):\n",
    "        parsed = json.loads(event.decode(\"utf-8\"))\n",
    "        parsed[\"foo\"] = self.word_lookup.get(parsed[\"foo\"])\n",
    "        print(\"Emitingh:\", parsed)\n",
    "        await self.Pipeline.inject(context, parsed, depth)\n",
    "\n",
    "@register_generator\n",
    "def create_lookup_generator(app, pipeline):\n",
    "    return LookupGenerator(app, pipeline)"
   ]
  },
  {
   "cell_type": "markdown",
   "id": "c93df997",
   "metadata": {},
   "source": [
    "#### Small utility to validate out the path where we store the .csv"
   ]
  },
  {
   "cell_type": "code",
   "execution_count": null,
   "id": "0082db5f",
   "metadata": {},
   "outputs": [],
   "source": [
    "csv_path = pathlib.Path(\"examples/Lookups/data/lookup_output.csv\")\n",
    "csv_path.parent.mkdir(parents=True, exist_ok=True)"
   ]
  },
  {
   "cell_type": "markdown",
   "id": "49d9367f",
   "metadata": {},
   "source": [
    "----\n",
    "### Pipeline Definition (```auto_pipeline```)"
   ]
  },
  {
   "cell_type": "code",
   "execution_count": null,
   "id": "979fee55-b7e1-47ab-94f3-904dea5890f5",
   "metadata": {},
   "outputs": [],
   "source": [
    "\n",
    "auto_pipeline(\n",
    "    source=lambda app, pipeline: bspump.http.web.source.WebHookSource(\n",
    "        app, pipeline,\n",
    "        config={\n",
    "            \"port\": 8080,            # integer port\n",
    "            \"path\": \"/webhook/\",     # route, with trailing slash\n",
    "            \"secret_qparam\": \"not-secure\"\n",
    "        }\n",
    "    ),\n",
    "    sink=lambda app, pipeline: FileCSVSink(\n",
    "        app, pipeline,\n",
    "        config={\"path\": str(csv_path)}\n",
    "    ),\n",
    "    name=\"LookupPipeline\"\n",
    ")\n",
    "\n"
   ]
  },
  {
   "cell_type": "markdown",
   "id": "abc2600d",
   "metadata": {},
   "source": [
    "One call wires **source** → **generator** (above) → **sink**."
   ]
  }
 ],
 "metadata": {
  "kernelspec": {
   "display_name": "Python 3 (ipykernel)",
   "language": "python",
   "name": "python3"
  },
  "language_info": {
   "codemirror_mode": {
    "name": "ipython",
    "version": 3
   },
   "file_extension": ".py",
   "mimetype": "text/x-python",
   "name": "python",
   "nbconvert_exporter": "python",
   "pygments_lexer": "ipython3",
   "version": "3.10.11"
  }
 },
 "nbformat": 4,
 "nbformat_minor": 5
}
