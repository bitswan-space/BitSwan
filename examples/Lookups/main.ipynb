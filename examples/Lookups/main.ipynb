{
 "cells": [
  {
   "cell_type": "code",
   "execution_count": 1,
   "id": "4680223b",
   "metadata": {},
   "outputs": [
    {
     "name": "stdout",
     "output_type": "stream",
     "text": [
      "BitSwan BSPump version devel\n"
     ]
    }
   ],
   "source": [
    "from bspump.jupyter import *\n",
    "import bspump.http.web.source\n",
    "import bspump.file\n",
    "from bspump.abc.lookup import Lookup\n",
    "import time\n",
    "import json"
   ]
  },
  {
   "cell_type": "code",
   "execution_count": 2,
   "id": "8126ed48-346c-49c9-9e89-fdc0db2de839",
   "metadata": {},
   "outputs": [],
   "source": [
    "words = {\n",
    "    \"bap\": \"lol\",\n",
    "    \"baz\": \"baf\",\n",
    "}\n",
    "\n",
    "class WordLookup(Lookup):\n",
    "    def get(self, key):\n",
    "        return words.get(key)\n",
    "\n",
    "register_lookup(WordLookup)"
   ]
  },
  {
   "cell_type": "code",
   "execution_count": 3,
   "id": "f5fd3c76-2f57-4957-b0e3-6328e31fab62",
   "metadata": {},
   "outputs": [],
   "source": [
    "new_pipeline(\"LookupPipeline\")"
   ]
  },
  {
   "cell_type": "code",
   "execution_count": 4,
   "id": "979fee55-b7e1-47ab-94f3-904dea5890f5",
   "metadata": {},
   "outputs": [],
   "source": [
    "@register_source\n",
    "def source(app, pipeline):\n",
    "   return bspump.http.web.source.WebHookSource(\n",
    "       app,\n",
    "       pipeline,\n",
    "       config = {\n",
    "           \"port\": 8080,\n",
    "           \"path\": \"/webhook/\",\n",
    "           \"secret_qparam\": \"not-secure\",\n",
    "       })"
   ]
  },
  {
   "cell_type": "code",
   "execution_count": 5,
   "id": "ee957c39-5d6e-4bc4-90ec-cd1a3ff6dca4",
   "metadata": {},
   "outputs": [],
   "source": [
    "sample_events([\n",
    "    b\"\"\"{\"foo\":\"bap\"}\"\"\",\n",
    "    b\"\"\"{\"foo\":\"baz\"}\"\"\"\n",
    "])"
   ]
  },
  {
   "cell_type": "code",
   "execution_count": 6,
   "id": "67e91027-d95c-41ec-9377-991ce5925c86",
   "metadata": {},
   "outputs": [
    {
     "name": "stdout",
     "output_type": "stream",
     "text": [
      "{'foo': 'bap'}\n",
      "{'foo': 'baz'}\n"
     ]
    }
   ],
   "source": [
    "@step\n",
    "def parse_json(event):\n",
    "    return json.loads(event)"
   ]
  },
  {
   "cell_type": "code",
   "execution_count": 7,
   "id": "82dbe90b-9128-490d-8c09-33cf02caf240",
   "metadata": {},
   "outputs": [
    {
     "name": "stdout",
     "output_type": "stream",
     "text": [
      "{'foo': 'lol'}\n",
      "{'foo': 'baf'}\n"
     ]
    }
   ],
   "source": [
    "class LookupGenerator(bspump.Generator):\n",
    "    def __init__(self, app, pipeline, id=None, config=None):\n",
    "        super().__init__(app, pipeline, id, config)\n",
    "        svc = app.get_service(\"bspump.PumpService\")\n",
    "        self.word_lookup = svc.locate_lookup(\"WordLookup\")\n",
    "    \n",
    "    async def generate(self, context, event, depth):\n",
    "        event[\"foo\"] = self.word_lookup.get(event[\"foo\"])\n",
    "        await self.Pipeline.inject(context, event, depth)\n",
    "\n",
    "@register_generator\n",
    "def create_lookup_generator(app, pipeline):\n",
    "    return LookupGenerator(app, pipeline)"
   ]
  },
  {
   "cell_type": "code",
   "execution_count": 8,
   "id": "bfd88fa5-f797-4c23-82ac-117538bb05e2",
   "metadata": {},
   "outputs": [],
   "source": [
    "@register_sink\n",
    "def init_sink(app, pipeline):\n",
    "    return bspump.file.FileCSVSink(app, pipeline)"
   ]
  },
  {
   "cell_type": "code",
   "execution_count": 9,
   "id": "55aced63",
   "metadata": {},
   "outputs": [],
   "source": [
    "end_pipeline()"
   ]
  }
 ],
 "metadata": {
  "kernelspec": {
   "display_name": "Python 3 (ipykernel)",
   "language": "python",
   "name": "python3"
  },
  "language_info": {
   "codemirror_mode": {
    "name": "ipython",
    "version": 3
   },
   "file_extension": ".py",
   "mimetype": "text/x-python",
   "name": "python",
   "nbconvert_exporter": "python",
   "pygments_lexer": "ipython3",
   "version": "3.10.11"
  }
 },
 "nbformat": 4,
 "nbformat_minor": 5
}
