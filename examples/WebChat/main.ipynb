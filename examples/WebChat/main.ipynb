{
 "cells": [
  {
   "cell_type": "code",
   "id": "initial_id",
   "metadata": {
    "collapsed": true
   },
   "source": [
    "from bspump.http_webchat.server import *\n",
    "from bspump.http_webchat.webchat import *\n",
    "from bspump.jupyter import *"
   ],
   "outputs": [],
   "execution_count": null
  },
  {
   "metadata": {},
   "cell_type": "code",
   "outputs": [],
   "execution_count": null,
   "source": "event = None",
   "id": "77fa58fb62c41a45"
  },
  {
   "metadata": {},
   "cell_type": "code",
   "source": [
    "base_dir = os.getcwd()\n",
    "\n",
    "template_env = WebChatTemplateEnv(os.path.abspath(os.path.join(base_dir, \"templates\"))).get_jinja_env()"
   ],
   "id": "3eb8969f1063d316",
   "outputs": [],
   "execution_count": null
  },
  {
   "metadata": {},
   "cell_type": "code",
   "source": [
    "auto_pipeline(\n",
    "    source=lambda app, pipeline: WebChatSource(\n",
    "        app,\n",
    "        pipeline,\n",
    "        welcome_text=WebChatWelcomeWindow(\"Hello, welcome to the odkupy calculation assistant. Please select the fond you would like to calculate odkupy for.\")\n",
    "    ),\n",
    "    sink=lambda app, pipeline: WebchatSink(app, pipeline)\n",
    ")"
   ],
   "id": "7e5d484e1a012a89",
   "outputs": [],
   "execution_count": null
  },
  {
   "cell_type": "code",
   "id": "7d0e3031e3b223e2",
   "metadata": {},
   "source": "chat1 = create_webchat_flow(\"fund_id_12\")",
   "outputs": [],
   "execution_count": null
  },
  {
   "metadata": {},
   "cell_type": "code",
   "source": "# await tell_user(f\"{event['fond_value'] }\", event['bearer_token'])",
   "id": "81339e9537cfa7cb",
   "outputs": [],
   "execution_count": null
  },
  {
   "metadata": {},
   "cell_type": "code",
   "source": [
    "odkupy_id = 12\n",
    "valuation = odkupy_id + 12000"
   ],
   "id": "2429aad5998ccf41",
   "outputs": [],
   "execution_count": null
  },
  {
   "metadata": {},
   "cell_type": "code",
   "source": "await chat1.tell_user(\"I need more information\")",
   "id": "a9e035c9979db0c0",
   "outputs": [],
   "execution_count": null
  },
  {
   "metadata": {},
   "cell_type": "code",
   "source": "form_response = await chat1.set_prompt([DateField(name=\"valid_date\", display=\"Validation date\", required=True)])",
   "id": "ded6c18ce6cf4ccf",
   "outputs": [],
   "execution_count": null
  },
  {
   "metadata": {},
   "cell_type": "code",
   "source": "valid_date = form_response[\"valid_date\"]",
   "id": "add587fe2c9d2a09",
   "outputs": [],
   "execution_count": null
  },
  {
   "metadata": {},
   "cell_type": "code",
   "source": "await chat1.tell_user(f\"Valid date is {valid_date}\")",
   "id": "10c1fd84a41575af",
   "outputs": [],
   "execution_count": null
  },
  {
   "metadata": {},
   "cell_type": "code",
   "outputs": [],
   "execution_count": null,
   "source": "await chat1.redirect(\"/fund_id_11\")",
   "id": "a410e377963d0b64"
  },
  {
   "metadata": {},
   "cell_type": "code",
   "source": "chat2 = create_webchat_flow(\"fund_id_11\")",
   "id": "e12089e6245434e2",
   "outputs": [],
   "execution_count": null
  },
  {
   "metadata": {},
   "cell_type": "code",
   "source": "await chat2.tell_user(f\"Fund 11\")",
   "id": "e93b50b3ac4c3f86",
   "outputs": [],
   "execution_count": null
  }
 ],
 "metadata": {
  "kernelspec": {
   "display_name": "Python 3",
   "language": "python",
   "name": "python3"
  },
  "language_info": {
   "codemirror_mode": {
    "name": "ipython",
    "version": 2
   },
   "file_extension": ".py",
   "mimetype": "text/x-python",
   "name": "python",
   "nbconvert_exporter": "python",
   "pygments_lexer": "ipython2",
   "version": "2.7.6"
  }
 },
 "nbformat": 4,
 "nbformat_minor": 5
}
