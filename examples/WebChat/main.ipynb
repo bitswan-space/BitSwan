{
 "cells": [
  {
   "metadata": {},
   "cell_type": "code",
   "outputs": [],
   "execution_count": null,
   "source": "event = None",
   "id": "77fa58fb62c41a45"
  },
  {
   "cell_type": "code",
   "id": "7d0e3031e3b223e2",
   "metadata": {},
   "source": "chat1 = create_webchat_flow(\"fund_id_12\")",
   "outputs": [],
   "execution_count": null
  },
  {
   "metadata": {},
   "cell_type": "markdown",
   "source": "FUND 12",
   "id": "e4d6f1721d09b1a7"
  },
  {
   "cell_type": "code",
   "outputs": [],
   "execution_count": null,
   "source": "await chat1.set_welcome_message(welcome_text=WebChatWelcomeWindow(\"Hello, welcome to the odkupy calculation assistant. Please select the fond you would like to calculate odkupy for.\"))",
   "id": "c50628abaf9a9b0",
   "metadata": {}
  },
  {
   "cell_type": "code",
   "source": [
    "odkupy_id = 12\n",
    "valuation = odkupy_id + 12000"
   ],
   "id": "2429aad5998ccf41",
   "outputs": [],
   "execution_count": null,
   "metadata": {}
  },
  {
   "cell_type": "code",
   "source": "await chat1.tell_user(\"I need more information\")",
   "id": "9a9a035c9979db0c0",
   "outputs": [],
   "execution_count": null,
   "metadata": {}
  },
  {
   "cell_type": "code",
   "source": [
    "from bspump.http_webchat.webchat import DateField\n",
    "\n",
    "form_response = await chat1.set_prompt([DateField(name=\"valid_date\", display=\"Validation date\", required=True)])"
   ],
   "id": "ded587ce6cf4ccf",
   "outputs": [],
   "execution_count": null,
   "metadata": {}
  },
  {
   "cell_type": "code",
   "source": "valid_date = form_response[\"valid_date\"]",
   "id": "add587c9c9d2a09",
   "outputs": [],
   "execution_count": null,
   "metadata": {}
  },
  {
   "cell_type": "code",
   "source": "await chat1.tell_user(f\"Valid date is {valid_date}\")",
   "id": "10a1f84a41575af",
   "outputs": [],
   "execution_count": null,
   "metadata": {}
  },
  {
   "cell_type": "code",
   "outputs": [],
   "execution_count": null,
   "source": "await chat1.redirect(\"fund_id_11\")",
   "id": "a410e377963d0b64",
   "metadata": {}
  },
  {
   "cell_type": "code",
   "source": "chat2 = create_webchat_flow(\"fund_id_11\")",
   "id": "e12089e6245434e2",
   "outputs": [],
   "execution_count": null,
   "metadata": {}
  },
  {
   "metadata": {},
   "cell_type": "markdown",
   "source": "ch2 markdown",
   "id": "3c3ca13527b37b55"
  },
  {
   "cell_type": "code",
   "source": "await chat2.tell_user(f\"Fund 11\")",
   "id": "e93d50b3ac4c3f86",
   "outputs": [],
   "execution_count": null,
   "metadata": {}
  }
 ],
 "metadata": {
  "kernelspec": {
   "display_name": "Python 3",
   "language": "python",
   "name": "python3"
  },
  "language_info": {
   "codemirror_mode": {
    "name": "ipython",
    "version": 2
   },
   "file_extension": ".py",
   "mimetype": "text/x-python",
   "name": "python",
   "pygments_lexer": "ipython2",
   "version": "2.7.6"
  }
 },
 "nbformat": 4,
 "nbformat_minor": 5
}
