{
 "cells": [
  {
   "cell_type": "code",
   "id": "initial_id",
   "metadata": {
    "collapsed": true,
    "ExecuteTime": {
     "end_time": "2025-06-03T11:30:53.643289Z",
     "start_time": "2025-06-03T11:30:52.704034Z"
    }
   },
   "source": [
    "from bspump.http_webchat.server.server import *\n",
    "from bspump.http_webchat.server.server import WebChatResponse\n",
    "from bspump.http_webchat.server.source import WebChatSource\n",
    "from bspump.jupyter import *"
   ],
   "outputs": [],
   "execution_count": 2
  },
  {
   "metadata": {},
   "cell_type": "code",
   "outputs": [],
   "execution_count": null,
   "source": [
    "base_dir = os.getcwd()\n",
    "\n",
    "template_env = WebChatTemplateEnv(os.path.abspath(os.path.join(base_dir, \"templates\"))).get_jinja_env()"
   ],
   "id": "3eb8969f1063d316"
  },
  {
   "metadata": {
    "ExecuteTime": {
     "end_time": "2025-06-03T11:31:01.085906Z",
     "start_time": "2025-06-03T11:31:00.915228Z"
    }
   },
   "cell_type": "code",
   "source": [
    "from bspump.http.web.server import JSONWebSink\n",
    "\n",
    "auto_pipeline(\n",
    "    source=lambda app, pipeline: WebChatSource(\n",
    "        app,\n",
    "        pipeline,\n",
    "        welcome_message=WebChatWelcomeWindow(\n",
    "        welcome_text=\"Hello, welcome to the odkupy calculation assistant. Please select the fond you would like to calculate odkupy for.\"\n",
    "        )\n",
    "    ),\n",
    "    sink=lambda app, pipeline: JSONWebSink(app, pipeline)\n",
    ")\n"
   ],
   "id": "7e5d484e1a012a89",
   "outputs": [
    {
     "ename": "RuntimeError",
     "evalue": "asyncio.run() cannot be called from a running event loop",
     "output_type": "error",
     "traceback": [
      "\u001B[31m---------------------------------------------------------------------------\u001B[39m",
      "\u001B[31mRuntimeError\u001B[39m                              Traceback (most recent call last)",
      "\u001B[36mCell\u001B[39m\u001B[36m \u001B[39m\u001B[32mIn[3]\u001B[39m\u001B[32m, line 6\u001B[39m\n\u001B[32m      1\u001B[39m webchat = webchat_app.WebChat(\n\u001B[32m      2\u001B[39m     welcome_message_api=\u001B[33m\"\u001B[39m\u001B[33m/api/welcome_window\u001B[39m\u001B[33m\"\u001B[39m,\n\u001B[32m      3\u001B[39m     prompt_response_api=\u001B[33m\"\u001B[39m\u001B[33m/api/response_box\u001B[39m\u001B[33m\"\u001B[39m\n\u001B[32m      4\u001B[39m )\n\u001B[32m----> \u001B[39m\u001B[32m6\u001B[39m \u001B[43mwebchat\u001B[49m\u001B[43m.\u001B[49m\u001B[43mstart_webchat\u001B[49m\u001B[43m(\u001B[49m\u001B[43mhost\u001B[49m\u001B[43m=\u001B[49m\u001B[33;43m\"\u001B[39;49m\u001B[33;43m127.0.0.1\u001B[39;49m\u001B[33;43m\"\u001B[39;49m\u001B[43m,\u001B[49m\u001B[43m \u001B[49m\u001B[43mport\u001B[49m\u001B[43m=\u001B[49m\u001B[32;43m8080\u001B[39;49m\u001B[43m)\u001B[49m\n",
      "\u001B[36mFile \u001B[39m\u001B[32m~/Documents/Dev/Bitswan/Bitswan/bspump/http_webchat/server/app.py:310\u001B[39m, in \u001B[36mWebChat.start_webchat\u001B[39m\u001B[34m(self, host, port)\u001B[39m\n\u001B[32m    306\u001B[39m \u001B[38;5;250m\u001B[39m\u001B[33;03m\"\"\"\u001B[39;00m\n\u001B[32m    307\u001B[39m \u001B[33;03mStart the aiohttp server as a background task.\u001B[39;00m\n\u001B[32m    308\u001B[39m \u001B[33;03m\"\"\"\u001B[39;00m\n\u001B[32m    309\u001B[39m \u001B[38;5;28;01mif\u001B[39;00m \u001B[38;5;28mself\u001B[39m._server_task \u001B[38;5;129;01mis\u001B[39;00m \u001B[38;5;28;01mNone\u001B[39;00m \u001B[38;5;129;01mor\u001B[39;00m \u001B[38;5;28mself\u001B[39m._server_task.done():\n\u001B[32m--> \u001B[39m\u001B[32m310\u001B[39m     \u001B[43masyncio\u001B[49m\u001B[43m.\u001B[49m\u001B[43mrun\u001B[49m\u001B[43m(\u001B[49m\u001B[38;5;28;43mself\u001B[39;49m\u001B[43m.\u001B[49m\u001B[43m_start_runner\u001B[49m\u001B[43m(\u001B[49m\u001B[43mhost\u001B[49m\u001B[43m,\u001B[49m\u001B[43m \u001B[49m\u001B[43mport\u001B[49m\u001B[43m)\u001B[49m\u001B[43m)\u001B[49m\n\u001B[32m    311\u001B[39m \u001B[38;5;28;01melse\u001B[39;00m:\n\u001B[32m    312\u001B[39m     \u001B[38;5;28mprint\u001B[39m(\u001B[33m\"\u001B[39m\u001B[33mServer is already running.\u001B[39m\u001B[33m\"\u001B[39m)\n",
      "\u001B[36mFile \u001B[39m\u001B[32m/usr/lib64/python3.13/asyncio/runners.py:191\u001B[39m, in \u001B[36mrun\u001B[39m\u001B[34m(main, debug, loop_factory)\u001B[39m\n\u001B[32m    161\u001B[39m \u001B[38;5;250m\u001B[39m\u001B[33;03m\"\"\"Execute the coroutine and return the result.\u001B[39;00m\n\u001B[32m    162\u001B[39m \n\u001B[32m    163\u001B[39m \u001B[33;03mThis function runs the passed coroutine, taking care of\u001B[39;00m\n\u001B[32m   (...)\u001B[39m\u001B[32m    187\u001B[39m \u001B[33;03m    asyncio.run(main())\u001B[39;00m\n\u001B[32m    188\u001B[39m \u001B[33;03m\"\"\"\u001B[39;00m\n\u001B[32m    189\u001B[39m \u001B[38;5;28;01mif\u001B[39;00m events._get_running_loop() \u001B[38;5;129;01mis\u001B[39;00m \u001B[38;5;129;01mnot\u001B[39;00m \u001B[38;5;28;01mNone\u001B[39;00m:\n\u001B[32m    190\u001B[39m     \u001B[38;5;66;03m# fail fast with short traceback\u001B[39;00m\n\u001B[32m--> \u001B[39m\u001B[32m191\u001B[39m     \u001B[38;5;28;01mraise\u001B[39;00m \u001B[38;5;167;01mRuntimeError\u001B[39;00m(\n\u001B[32m    192\u001B[39m         \u001B[33m\"\u001B[39m\u001B[33masyncio.run() cannot be called from a running event loop\u001B[39m\u001B[33m\"\u001B[39m)\n\u001B[32m    194\u001B[39m \u001B[38;5;28;01mwith\u001B[39;00m Runner(debug=debug, loop_factory=loop_factory) \u001B[38;5;28;01mas\u001B[39;00m runner:\n\u001B[32m    195\u001B[39m     \u001B[38;5;28;01mreturn\u001B[39;00m runner.run(main)\n",
      "\u001B[31mRuntimeError\u001B[39m: asyncio.run() cannot be called from a running event loop"
     ]
    }
   ],
   "execution_count": 3
  },
  {
   "metadata": {},
   "cell_type": "code",
   "outputs": [],
   "execution_count": null,
   "source": [
    "form_response = await set_prompt([FormInput(label=\"Fond\", name=\"fund_id\", input_type=\"text\", required=True)], submit_api_call=\"/api/response_box\")\n",
    "fond_value = form_response[\"fund_id\"]"
   ],
   "id": "755b3deff33894e6"
  },
  {
   "cell_type": "code",
   "execution_count": 2,
   "id": "7d0e3031e3b223e2",
   "metadata": {
    "ExecuteTime": {
     "end_time": "2025-05-27T07:35:27.563784Z",
     "start_time": "2025-05-27T07:35:27.560436Z"
    }
   },
   "outputs": [
    {
     "name": "stdout",
     "output_type": "stream",
     "text": [
      "[WebChat] Skipping duplicate route: /fund_id=12\n"
     ]
    }
   ],
   "source": "create_webchat_flow(\"/fund_id=12\")"
  },
  {
   "metadata": {},
   "cell_type": "markdown",
   "source": "Calculating odkupy for Fund 12",
   "id": "45290c4d9dff957e"
  },
  {
   "metadata": {},
   "cell_type": "code",
   "outputs": [],
   "execution_count": null,
   "source": "odkupy_id = 12",
   "id": "2429aad5998ccf41"
  },
  {
   "metadata": {},
   "cell_type": "code",
   "outputs": [],
   "execution_count": null,
   "source": "valuation = odkupy_id + 12000",
   "id": "18f7f270bea7b5c4"
  },
  {
   "metadata": {},
   "cell_type": "code",
   "outputs": [],
   "execution_count": null,
   "source": "response = WebChatResponse(input_html=f\"Total valuation is {valuation}\")",
   "id": "a9e035c9979db0c0"
  },
  {
   "metadata": {},
   "cell_type": "code",
   "outputs": [],
   "execution_count": null,
   "source": "response",
   "id": "ded6c18ce6cf4ccf"
  },
  {
   "metadata": {},
   "cell_type": "code",
   "outputs": [],
   "execution_count": null,
   "source": "create_webchat_flow(\"/fund_id=11\")",
   "id": "e12089e6245434e2"
  },
  {
   "metadata": {},
   "cell_type": "code",
   "outputs": [],
   "execution_count": null,
   "source": [
    "WebChatResponse(\n",
    "    input_html=\"Total valuation is\",\n",
    "    api_endpoint=\"https://run.mocky.io/v3/1e17cf34-ab78-40b9-8512-136e290a43c2\")"
   ],
   "id": "e93b50b3ac4c3f86"
  }
 ],
 "metadata": {
  "kernelspec": {
   "display_name": "Python 3",
   "language": "python",
   "name": "python3"
  },
  "language_info": {
   "codemirror_mode": {
    "name": "ipython",
    "version": 2
   },
   "file_extension": ".py",
   "mimetype": "text/x-python",
   "name": "python",
   "nbconvert_exporter": "python",
   "pygments_lexer": "ipython2",
   "version": "2.7.6"
  }
 },
 "nbformat": 4,
 "nbformat_minor": 5
}
