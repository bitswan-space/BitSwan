{
 "cells": [
  {
   "cell_type": "code",
   "id": "initial_id",
   "metadata": {
    "collapsed": true,
    "ExecuteTime": {
     "end_time": "2025-06-19T10:00:32.324702Z",
     "start_time": "2025-06-19T10:00:32.320330Z"
    }
   },
   "source": [
    "from bspump.http_webchat.server import *\n",
    "from bspump.jupyter import *\n",
    "from bspump.http.web.server import JSONWebSink"
   ],
   "outputs": [],
   "execution_count": 27
  },
  {
   "metadata": {
    "ExecuteTime": {
     "end_time": "2025-06-19T10:00:32.377432Z",
     "start_time": "2025-06-19T10:00:32.373260Z"
    }
   },
   "cell_type": "code",
   "source": [
    "base_dir = os.getcwd()\n",
    "\n",
    "template_env = WebChatTemplateEnv(os.path.abspath(os.path.join(base_dir, \"templates\"))).get_jinja_env()"
   ],
   "id": "3eb8969f1063d316",
   "outputs": [],
   "execution_count": 28
  },
  {
   "metadata": {},
   "cell_type": "code",
   "outputs": [],
   "execution_count": null,
   "source": "event = None",
   "id": "4f15936b929738dc"
  },
  {
   "metadata": {
    "ExecuteTime": {
     "end_time": "2025-06-19T10:00:32.432365Z",
     "start_time": "2025-06-19T10:00:32.427493Z"
    }
   },
   "cell_type": "code",
   "source": [
    "auto_pipeline(\n",
    "    source=lambda app, pipeline: WebChatSource(\n",
    "        app,\n",
    "        pipeline,\n",
    "        welcome_text=WebChatWelcomeWindow(\n",
    "        welcome_text=\"Hello, welcome to the odkupy calculation assistant. Please select the fond you would like to calculate odkupy for.\"\n",
    "        )\n",
    "    ),\n",
    "    sink=lambda app, pipeline: WebchatSink(app, pipeline)\n",
    ")\n"
   ],
   "id": "7e5d484e1a012a89",
   "outputs": [],
   "execution_count": 29
  },
  {
   "metadata": {
    "ExecuteTime": {
     "end_time": "2025-06-19T10:00:43.581243Z",
     "start_time": "2025-06-19T10:00:43.570242Z"
    }
   },
   "cell_type": "code",
   "source": [
    "await set_prompt([FormInput(label=\"Fond\", name=\"fund_id\", input_type=\"text\", required=True)], submit_api_call=\"/api/response_box\")\n",
    "# fond_value = form_response[\"fund_id\"]"
   ],
   "id": "755b3deff33894e6",
   "outputs": [],
   "execution_count": 32
  },
  {
   "metadata": {},
   "cell_type": "markdown",
   "source": "",
   "id": "fc796f655d6cf487"
  },
  {
   "cell_type": "code",
   "id": "7d0e3031e3b223e2",
   "metadata": {
    "ExecuteTime": {
     "end_time": "2025-06-19T10:00:43.630730Z",
     "start_time": "2025-06-19T10:00:43.623279Z"
    }
   },
   "source": "create_webchat_flow(\"/fund_id=12\")",
   "outputs": [
    {
     "data": {
      "text/plain": [
       "<function bspump.http_webchat.server.server.create_webchat_flow.<locals>.decorator(func: Callable)>"
      ]
     },
     "execution_count": 33,
     "metadata": {},
     "output_type": "execute_result"
    }
   ],
   "execution_count": 33
  },
  {
   "metadata": {},
   "cell_type": "markdown",
   "source": "Calculating odkupy for Fund 12",
   "id": "45290c4d9dff957e"
  },
  {
   "metadata": {
    "ExecuteTime": {
     "end_time": "2025-06-19T10:00:43.686131Z",
     "start_time": "2025-06-19T10:00:43.681971Z"
    }
   },
   "cell_type": "code",
   "source": "odkupy_id = 12",
   "id": "2429aad5998ccf41",
   "outputs": [],
   "execution_count": 34
  },
  {
   "metadata": {
    "ExecuteTime": {
     "end_time": "2025-06-19T10:00:43.737444Z",
     "start_time": "2025-06-19T10:00:43.733426Z"
    }
   },
   "cell_type": "code",
   "source": "valuation = odkupy_id + 12000",
   "id": "18f7f270bea7b5c4",
   "outputs": [],
   "execution_count": 35
  },
  {
   "metadata": {
    "ExecuteTime": {
     "end_time": "2025-06-19T10:00:43.794299Z",
     "start_time": "2025-06-19T10:00:43.789328Z"
    }
   },
   "cell_type": "code",
   "source": "response = WebChatResponse(input_html=f\"Total valuation is {valuation}\")",
   "id": "a9e035c9979db0c0",
   "outputs": [],
   "execution_count": 36
  },
  {
   "metadata": {
    "ExecuteTime": {
     "end_time": "2025-06-19T10:00:43.850716Z",
     "start_time": "2025-06-19T10:00:43.844436Z"
    }
   },
   "cell_type": "code",
   "source": "response",
   "id": "ded6c18ce6cf4ccf",
   "outputs": [
    {
     "data": {
      "text/plain": [
       "<bspump.http_webchat.server.server.WebChatResponse at 0x7f93684510f0>"
      ]
     },
     "execution_count": 37,
     "metadata": {},
     "output_type": "execute_result"
    }
   ],
   "execution_count": 37
  },
  {
   "metadata": {
    "ExecuteTime": {
     "end_time": "2025-06-19T10:00:43.907260Z",
     "start_time": "2025-06-19T10:00:43.902046Z"
    }
   },
   "cell_type": "code",
   "source": "create_webchat_flow(\"/fund_id=11\")",
   "id": "e12089e6245434e2",
   "outputs": [
    {
     "data": {
      "text/plain": [
       "<function bspump.http_webchat.server.server.create_webchat_flow.<locals>.decorator(func: Callable)>"
      ]
     },
     "execution_count": 38,
     "metadata": {},
     "output_type": "execute_result"
    }
   ],
   "execution_count": 38
  },
  {
   "metadata": {
    "ExecuteTime": {
     "end_time": "2025-06-19T10:00:43.965234Z",
     "start_time": "2025-06-19T10:00:43.959582Z"
    }
   },
   "cell_type": "code",
   "source": [
    "WebChatResponse(\n",
    "    input_html=\"Total valuation is\",\n",
    "    api_endpoint=\"https://run.mocky.io/v3/1e17cf34-ab78-40b9-8512-136e290a43c2\")"
   ],
   "id": "e93b50b3ac4c3f86",
   "outputs": [
    {
     "data": {
      "text/plain": [
       "<bspump.http_webchat.server.server.WebChatResponse at 0x7f9368438dd0>"
      ]
     },
     "execution_count": 39,
     "metadata": {},
     "output_type": "execute_result"
    }
   ],
   "execution_count": 39
  }
 ],
 "metadata": {
  "kernelspec": {
   "display_name": "Python 3",
   "language": "python",
   "name": "python3"
  },
  "language_info": {
   "codemirror_mode": {
    "name": "ipython",
    "version": 2
   },
   "file_extension": ".py",
   "mimetype": "text/x-python",
   "name": "python",
   "nbconvert_exporter": "python",
   "pygments_lexer": "ipython2",
   "version": "2.7.6"
  }
 },
 "nbformat": 4,
 "nbformat_minor": 5
}
