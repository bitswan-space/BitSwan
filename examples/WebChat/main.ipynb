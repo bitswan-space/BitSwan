{
 "cells": [
  {
   "cell_type": "code",
   "id": "initial_id",
   "metadata": {
    "collapsed": true
   },
   "source": [
    "from bspump.http_webchat.server import *\n",
    "from bspump.jupyter import *"
   ],
   "outputs": [],
   "execution_count": null
  },
  {
   "metadata": {},
   "cell_type": "code",
   "source": [
    "base_dir = os.getcwd()\n",
    "\n",
    "template_env = WebChatTemplateEnv(os.path.abspath(os.path.join(base_dir, \"templates\"))).get_jinja_env()"
   ],
   "id": "3eb8969f1063d316",
   "outputs": [],
   "execution_count": null
  },
  {
   "metadata": {},
   "cell_type": "code",
   "source": "event = {}",
   "id": "4f15936b929738dc",
   "outputs": [],
   "execution_count": null
  },
  {
   "metadata": {},
   "cell_type": "code",
   "source": [
    "auto_pipeline(\n",
    "    source=lambda app, pipeline: WebChatSource(\n",
    "        app,\n",
    "        pipeline,\n",
    "        welcome_text=WebChatWelcomeWindow(\n",
    "        welcome_text=\"Hello, welcome to the odkupy calculation assistant. Please select the fond you would like to calculate odkupy for.\"\n",
    "        )\n",
    "    ),\n",
    "    sink=lambda app, pipeline: WebchatSink(app, pipeline)\n",
    ")"
   ],
   "id": "7e5d484e1a012a89",
   "outputs": [],
   "execution_count": null
  },
  {
   "metadata": {},
   "cell_type": "code",
   "outputs": [],
   "execution_count": null,
   "source": "await tell_user(f\"Hello\", event['bearer_token'])",
   "id": "a9244482e99d345"
  },
  {
   "metadata": {},
   "cell_type": "code",
   "outputs": [],
   "execution_count": null,
   "source": [
    "form_response = await set_prompt([FormInput(label=\"Fond\", name=\"fund_id\", input_type=\"text\", required=True)], event['bearer_token'])\n",
    "fond_value = form_response[\"fund_id\"]\n",
    "\n",
    "#if fond_value == '12':\n",
    "#    await redirect(\"http://0.0.0.0:8080/fund_id_12\")\n"
   ],
   "id": "755b3deff33894e6"
  },
  {
   "cell_type": "code",
   "id": "7d0e3031e3b223e2",
   "metadata": {},
   "source": [
    "create_webchat_flow(\"/fund_id=12\")\n",
    "# this is an endpoint, this will have the request parameter"
   ],
   "outputs": [],
   "execution_count": null
  },
  {
   "metadata": {},
   "cell_type": "markdown",
   "source": "Calculating odkupy for Fund 12",
   "id": "45290c4d9dff957e"
  },
  {
   "metadata": {},
   "cell_type": "code",
   "source": [
    "odkupy_id = 12\n",
    "valuation = odkupy_id + 12000"
   ],
   "id": "2429aad5998ccf41",
   "outputs": [],
   "execution_count": null
  },
  {
   "metadata": {},
   "cell_type": "code",
   "source": "await tell_user(event['chat_id'], f\"Total valuation is {valuation}\")",
   "id": "a9e035c9979db0c0",
   "outputs": [],
   "execution_count": null
  },
  {
   "metadata": {},
   "cell_type": "code",
   "outputs": [],
   "execution_count": null,
   "source": "# await set_prompt([FormInput(label=\"Validation date\", name=\"valid_date\", input_type=\"date\", required=True)], submit_api_call=\"/api/response_box\")",
   "id": "ded6c18ce6cf4ccf"
  },
  {
   "metadata": {},
   "cell_type": "code",
   "outputs": [],
   "execution_count": null,
   "source": "#valid_date = form_response[\"valid_date\"]",
   "id": "add587fe2c9d2a09"
  },
  {
   "metadata": {},
   "cell_type": "code",
   "outputs": [],
   "execution_count": null,
   "source": "#form_response = await set_prompt([FormInput(label=\"Fond\", name=\"fund_id\", input_type=\"text\", required=True)], submit_api_call=\"/api/response_box\")",
   "id": "8caf50faa3f27e0"
  },
  {
   "metadata": {},
   "cell_type": "code",
   "source": "create_webchat_flow(\"/fund_id=11\")",
   "id": "e12089e6245434e2",
   "outputs": [],
   "execution_count": null
  },
  {
   "metadata": {},
   "cell_type": "code",
   "source": [
    "WebChatResponse(\n",
    "    input_html=\"Total valuation is\",\n",
    "    api_endpoint=\"https://run.mocky.io/v3/1e17cf34-ab78-40b9-8512-136e290a43c2\")"
   ],
   "id": "e93b50b3ac4c3f86",
   "outputs": [],
   "execution_count": null
  }
 ],
 "metadata": {
  "kernelspec": {
   "display_name": "Python 3",
   "language": "python",
   "name": "python3"
  },
  "language_info": {
   "codemirror_mode": {
    "name": "ipython",
    "version": 2
   },
   "file_extension": ".py",
   "mimetype": "text/x-python",
   "name": "python",
   "nbconvert_exporter": "python",
   "pygments_lexer": "ipython2",
   "version": "2.7.6"
  }
 },
 "nbformat": 4,
 "nbformat_minor": 5
}
