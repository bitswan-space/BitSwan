{
 "cells": [
  {
   "metadata": {},
   "cell_type": "code",
   "outputs": [],
   "execution_count": null,
   "source": "await run_flow(\"initial_flow\")",
   "id": "54a394fe33790a2d"
  },
  {
   "metadata": {},
   "cell_type": "code",
   "outputs": [],
   "execution_count": null,
   "source": "initial_flow = create_webchat_flow(\"initial_flow\")",
   "id": "e0c953790e71dee0"
  },
  {
   "metadata": {},
   "cell_type": "code",
   "outputs": [],
   "execution_count": null,
   "source": "await initial_flow.set_welcome_message(welcome_text=\"This is the welcome message that is always visible on the top.\")",
   "id": "dc1bfa770bcbc21e"
  },
  {
   "metadata": {},
   "cell_type": "code",
   "outputs": [],
   "execution_count": null,
   "source": "await initial_flow.tell_user(\"This is your first message.\")",
   "id": "57a8c599ab35b10"
  },
  {
   "metadata": {},
   "cell_type": "code",
   "outputs": [],
   "execution_count": null,
   "source": [
    "form_response = await initial_flow.set_prompt(\n",
    "    [\n",
    "        IntField(name=\"fund_id\", display=\"Fond\", required=True),\n",
    "        IntField(\"n\"),\n",
    "        TextField(\"le\", hidden=True),\n",
    "        ChoiceField(\"lol\", choices=[\"a\", \"b\", \"c\"]),\n",
    "        CheckboxField(\"checkbox\", required=False)\n",
    "    ]\n",
    ")\n",
    "\n",
    "fond_value = form_response[\"fund_id\"]"
   ],
   "id": "19fd6e4688904168"
  },
  {
   "metadata": {},
   "cell_type": "code",
   "outputs": [],
   "execution_count": null,
   "source": [
    "if fond_value == '12':\n",
    "    await initial_flow.run_flow(\"flow_fund_id_12\")\n",
    "elif fond_value == '11':\n",
    "    await initial_flow.run_flow(\"flow_fund_id_11\")\n",
    "else:\n",
    "    await initial_flow.tell_user(\"No flow defined for this fund\")"
   ],
   "id": "fab3c0231dce8f10"
  },
  {
   "cell_type": "code",
   "id": "7d0e3031e3b223e2",
   "metadata": {},
   "source": "chat12 = create_webchat_flow(\"flow_fund_id_12\")",
   "outputs": [],
   "execution_count": null
  },
  {
   "metadata": {},
   "cell_type": "markdown",
   "source": "This markdown cell gets displayed as a response to the user.",
   "id": "e4d6f1721d09b1a7"
  },
  {
   "cell_type": "code",
   "source": [
    "odkupy_id = 12\n",
    "valuation = odkupy_id + 12000"
   ],
   "id": "2429aad5998ccf41",
   "outputs": [],
   "execution_count": null,
   "metadata": {}
  },
  {
   "cell_type": "code",
   "source": "await chat12.tell_user(\"I need more information\")",
   "id": "9a9a035c9979db0c0",
   "outputs": [],
   "execution_count": null,
   "metadata": {}
  },
  {
   "cell_type": "code",
   "source": "form_response = await chat12.set_prompt([DateField(name=\"valid_date\", display=\"Validation date\", required=True)])",
   "id": "ded587ce6cf4ccf",
   "outputs": [],
   "execution_count": null,
   "metadata": {}
  },
  {
   "cell_type": "code",
   "source": "valid_date = form_response[\"valid_date\"]",
   "id": "add587c9c9d2a09",
   "outputs": [],
   "execution_count": null,
   "metadata": {}
  },
  {
   "metadata": {},
   "cell_type": "markdown",
   "source": "Total valuation is {valuation} and valid date is {valid_date}",
   "id": "3b16bd02943782f5"
  },
  {
   "metadata": {},
   "cell_type": "code",
   "outputs": [],
   "execution_count": null,
   "source": "await chat12.run_flow(\"flow_fund_id_11\")",
   "id": "c1e2399d79571da4"
  },
  {
   "cell_type": "code",
   "source": "chat11 = create_webchat_flow(\"flow_fund_id_11\")",
   "id": "e12089e6245434e2",
   "outputs": [],
   "execution_count": null,
   "metadata": {}
  },
  {
   "metadata": {},
   "cell_type": "code",
   "outputs": [],
   "execution_count": null,
   "source": [
    "odkupy_id = 11\n",
    "valuation = odkupy_id + 11000"
   ],
   "id": "6fa909ffaf0e126e"
  },
  {
   "cell_type": "code",
   "source": "await chat11.tell_user(f\"Total valuation is {valuation}\")",
   "id": "e93d50b3ac4c3f86",
   "outputs": [],
   "execution_count": null,
   "metadata": {}
  },
  {
   "metadata": {},
   "cell_type": "code",
   "outputs": [],
   "execution_count": null,
   "source": "await chat11.run_flow(\"final_flow\")",
   "id": "991f8405a168ec5d"
  },
  {
   "metadata": {},
   "cell_type": "code",
   "outputs": [],
   "execution_count": null,
   "source": "final_flow = create_webchat_flow(\"final_flow\")",
   "id": "9b2f6219c57cd41c"
  },
  {
   "metadata": {},
   "cell_type": "code",
   "outputs": [],
   "execution_count": null,
   "source": "await final_flow.tell_user(\"This is the last message that user sees and the flow ends.\")",
   "id": "d138c476660a819e"
  }
 ],
 "metadata": {
  "kernelspec": {
   "display_name": "Python 3",
   "language": "python",
   "name": "python3"
  },
  "language_info": {
   "codemirror_mode": {
    "name": "ipython",
    "version": 2
   },
   "file_extension": ".py",
   "mimetype": "text/x-python",
   "name": "python",
   "pygments_lexer": "ipython2",
   "version": "2.7.6"
  }
 },
 "nbformat": 4,
 "nbformat_minor": 5
}
