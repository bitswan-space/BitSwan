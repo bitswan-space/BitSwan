{
 "cells": [
  {
   "cell_type": "markdown",
   "id": "68be381c-09b4-48bb-ab74-8f70b209172e",
   "metadata": {},
   "source": [
    "Stock Calculator Automation\n",
    "----------------\n",
    "This automation allows you to create a simple webpage with an input form that allows to select a date and when submitted, you see a higest rising stock from a selected set of stocks. \n"
   ]
  },
  {
   "cell_type": "markdown",
   "id": "e4364752",
   "metadata": {},
   "source": [
    "Needed imports"
   ]
  },
  {
   "cell_type": "code",
   "execution_count": null,
   "id": "1fd34891-3aac-4f76-9697-f8495a239091",
   "metadata": {
    "ExecuteTime": {
     "end_time": "2025-01-29T13:33:39.688711Z",
     "start_time": "2025-01-29T13:33:39.376349Z"
    }
   },
   "outputs": [],
   "source": [
    "from bspump.jupyter import *\n",
    "from bspump.http.web.server import *\n",
    "import requests\n",
    "import pandas as pd\n",
    "from datetime import datetime, timedelta\n",
    "import time\n",
    "import io\n",
    "from datetime import date, timedelta\n",
    "import base64"
   ]
  },
  {
   "cell_type": "markdown",
   "id": "6642efa0",
   "metadata": {},
   "source": [
    "Now we can declare a mock event, allowing us to execute all cells during development without needing to deploy the code to see the results."
   ]
  },
  {
   "cell_type": "code",
   "execution_count": null,
   "id": "c0fa21e3",
   "metadata": {},
   "outputs": [],
   "source": [
    "event = {\n",
    "    \"form\": {\n",
    "        \"date\": \"2025-06-05\"\n",
    "    }\n",
    "}\n"
   ]
  },
  {
   "cell_type": "markdown",
   "id": "5277719b",
   "metadata": {},
   "source": [
    "Defining an autopipline, the core of the automation. We define its source and sink."
   ]
  },
  {
   "cell_type": "code",
   "execution_count": null,
   "id": "6e5432e7-f84a-4b27-826a-5171e6112ba8",
   "metadata": {
    "ExecuteTime": {
     "end_time": "2025-01-29T13:33:42.482975Z",
     "start_time": "2025-01-29T13:33:42.471887Z"
    }
   },
   "outputs": [],
   "source": [
    "today = datetime.now()\n",
    "\n",
    "auto_pipeline(\n",
    "    source=lambda app, pipeline: WebFormSource(\n",
    "        app, pipeline,\n",
    "        route=\"/\",\n",
    "        form_intro=\"\"\"\n",
    "            <h1>Select a date and click submit to see a visualization</h1>\n",
    "        \"\"\",\n",
    "        fields=[\n",
    "            DateField(\n",
    "                \"date\",\n",
    "                display=\"Date\",\n",
    "                default=today.strftime(\"%Y-%m-%d\")\n",
    "            ),\n",
    "        ]\n",
    "    ),\n",
    "    sink=lambda app, pipeline: WebSink(app, pipeline),\n",
    "    name=\"WebServerPipeline\"\n",
    ")\n"
   ]
  },
  {
   "cell_type": "markdown",
   "id": "3c9a3733-b58a-4038-b8bc-296044013008",
   "metadata": {},
   "source": [
    "Pipeline section\n",
    "----------------\n",
    "\n",
    "Everything after this is rerun every time an event comes in. At run time, the `event` variable is automatically set with the value of the event that comes from the source.\n",
    "\n",
    "We can do whatever transformations we please, and then, by setting `event` at the end of the notebook, the value of `event` will automatically be sent to the sink."
   ]
  },
  {
   "cell_type": "markdown",
   "id": "a3434cd6",
   "metadata": {},
   "source": [
    "### Helper Functions\n",
    "Convert the single date string into a datetime and the before/after window"
   ]
  },
  {
   "cell_type": "code",
   "execution_count": null,
   "id": "d4a5c611",
   "metadata": {},
   "outputs": [],
   "source": [
    "# Grab the ISO date string from the form\n",
    "parsed_date_str = event[\"form\"][\"date\"]\n",
    "# e.g. \"2025-06-05\" → datetime(2025,6,5)\n",
    "parsed_date = datetime.fromisoformat(parsed_date_str)\n",
    "\n",
    "day_before = parsed_date - timedelta(days=1)\n",
    "day_after  = parsed_date + timedelta(days=1)\n"
   ]
  },
  {
   "cell_type": "markdown",
   "id": "10361c61",
   "metadata": {},
   "source": [
    "\n",
    "Here is a helper function of the output layout."
   ]
  },
  {
   "cell_type": "code",
   "execution_count": null,
   "id": "f1ba1695",
   "metadata": {},
   "outputs": [],
   "source": [
    "def output_layout(parsed_date,top_stock_name,top_stock_change,img_data) -> str:\n",
    "    html = f\"\"\"\n",
    "    <!DOCTYPE html>\n",
    "    <html>\n",
    "    <head>\n",
    "        <title>Stock Performance</title>\n",
    "        <style>\n",
    "            body {{\n",
    "                font-family: Arial, sans-serif;\n",
    "                text-align: center;\n",
    "                background-color: #f5f5f5;\n",
    "                padding: 40px;\n",
    "            }}\n",
    "            h1 {{\n",
    "                color: #333;\n",
    "                margin-bottom: 20px;\n",
    "            }}\n",
    "            img {{\n",
    "                border: 1px solid #ccc;\n",
    "                max-width: 90%;\n",
    "                height: auto;\n",
    "                box-shadow: 0 0 10px rgba(0,0,0,0.1);\n",
    "            }}\n",
    "            button {{\n",
    "                background-color: #0275d8;\n",
    "                color: white;\n",
    "                border: none;\n",
    "                padding: 10px 20px;\n",
    "                font-size: 16px;\n",
    "                border-radius: 5px;\n",
    "                cursor: pointer;\n",
    "            }}\n",
    "            button:hover {{\n",
    "                background-color: #025aa5;\n",
    "            }}\n",
    "        </style>\n",
    "    </head>\n",
    "    <body>\n",
    "        <h1>📈 Top Stock on {parsed_date}: {top_stock_name} (change {top_stock_change:.2f}%)</h1>\n",
    "        <img src=\"data:image/jpeg;base64,{base64.b64encode(img_data.getvalue()).decode()}\" alt=\"Stock Performance\">\n",
    "        <button onclick=\"window.history.back()\">🔙 Go Back</button>\n",
    "    </body>\n",
    "    </html>\n",
    "    \"\"\"\n",
    "    return html\n",
    "\n",
    "\n",
    "def output_no_data_found() -> str:\n",
    "    html = \"\"\"\n",
    "    <!DOCTYPE html>\n",
    "    <html>\n",
    "    <head>\n",
    "       <title>No Data Found</title>\n",
    "        <style>\n",
    "            body {\n",
    "                font-family: Arial, sans-serif;\n",
    "                text-align: center;\n",
    "                background-color: #f5f5f5;\n",
    "                padding: 40px;\n",
    "            }\n",
    "            h1 {\n",
    "                color: #d9534f;\n",
    "                margin-bottom: 20px;\n",
    "            }\n",
    "            p {\n",
    "                color: #555;\n",
    "                font-size: 18px;\n",
    "                margin-bottom: 30px;\n",
    "            }\n",
    "            button {\n",
    "                background-color: #0275d8;\n",
    "                color: white;\n",
    "                border: none;\n",
    "                padding: 10px 20px;\n",
    "                font-size: 16px;\n",
    "                border-radius: 5px;\n",
    "                cursor: pointer;\n",
    "            }\n",
    "            button:hover {\n",
    "                background-color: #025aa5;\n",
    "            }\n",
    "        </style>\n",
    "    </head>\n",
    "    <body>\n",
    "        <h1>⚠️ No Stock Data Found</h1>\n",
    "        <p>Markets might be closed, try a different date.</p>\n",
    "        <button onclick=\"window.history.back()\">🔙 Go Back</button>\n",
    "    </body>\n",
    "    </html>\n",
    "    \"\"\"\n",
    "    return html"
   ]
  },
  {
   "cell_type": "markdown",
   "id": "72ec296b",
   "metadata": {},
   "source": [
    "First, we declare global variables and handle the input from the WebFormSource."
   ]
  },
  {
   "cell_type": "code",
   "execution_count": null,
   "id": "98037729",
   "metadata": {},
   "outputs": [],
   "source": [
    "# Global variables\n",
    "STOCKS = [\"AAPL\", \"MSFT\", \"GOOGL\", \"AMZN\", \"TSLA\", \"NVDA\", \"META\", \"JPM\", \"NFLX\", \"AMD\"]\n",
    "\n",
    "HEADERS = {\n",
    "        \"User-Agent\": \"Mozilla/5.0 (Windows NT 10.0; Win64; x64)\"\n",
    "        }\n",
    "\n",
    "# Input processing \n",
    "form = event[\"form\"]\n",
    "\n",
    "# event[\"form\"][\"date\"] is an ISO string \"YYYY-MM-DD\"\n",
    "parsed_date_str = form[\"date\"]\n",
    "\n",
    "# Convert it into a Python datetime\n",
    "parsed_date = datetime.fromisoformat(parsed_date_str)\n",
    "\n",
    "# Compute the window\n",
    "day_before = parsed_date - timedelta(days=1)\n",
    "day_after  = parsed_date + timedelta(days=1)"
   ]
  },
  {
   "cell_type": "markdown",
   "id": "464f85d8",
   "metadata": {},
   "source": [
    "Here, we fetch data from Yahoo Finance and parse it for plotting."
   ]
  },
  {
   "cell_type": "code",
   "execution_count": null,
   "id": "393d66a2",
   "metadata": {},
   "outputs": [],
   "source": [
    "# Initialize change tracking \n",
    "changes = {}\n",
    "\n",
    "# Iterate over each ticker and fetch data \n",
    "for ticker in STOCKS:\n",
    "    # Convert datetime to UNIX timestamps\n",
    "    start_ts = int(time.mktime(day_before.timetuple()))\n",
    "    end_ts = int(time.mktime(day_after.timetuple()))\n",
    "\n",
    "    # Prepare API request\n",
    "    url = f\"https://query1.finance.yahoo.com/v8/finance/chart/{ticker}\"\n",
    "    params = {\n",
    "        \"period1\": start_ts,\n",
    "        \"period2\": end_ts,\n",
    "        \"interval\": \"1d\"\n",
    "    }\n",
    "\n",
    "    try:\n",
    "        response = requests.get(url, params=params, headers=HEADERS)\n",
    "        data = response.json()\n",
    "\n",
    "        result = data[\"chart\"][\"result\"][0]\n",
    "        timestamps = result[\"timestamp\"]\n",
    "        closes = result[\"indicators\"][\"quote\"][0][\"close\"]\n",
    "\n",
    "        # Convert timestamps to readable dates\n",
    "        dates = [datetime.fromtimestamp(ts).strftime('%Y-%m-%d') for ts in timestamps]\n",
    "        series = pd.Series(closes, index=dates)\n",
    "\n",
    "        # Compute percent change if both dates exist in the series\n",
    "        if parsed_date_str in series and day_before.strftime(\"%Y-%m-%d\") in series:\n",
    "            previous_close = series[day_before.strftime(\"%Y-%m-%d\")]\n",
    "            current_close = series[parsed_date_str]\n",
    "            if previous_close and current_close:\n",
    "                percent_change = ((current_close - previous_close) / previous_close) * 100\n",
    "                changes[ticker] = percent_change\n",
    "\n",
    "    except Exception as e:\n",
    "        print(f\"Error fetching data for {ticker}: {e}\")"
   ]
  },
  {
   "cell_type": "markdown",
   "id": "25184e1a",
   "metadata": {},
   "source": [
    "Here, We create a plot from the data."
   ]
  },
  {
   "cell_type": "code",
   "execution_count": null,
   "id": "4b3cf31f",
   "metadata": {},
   "outputs": [
    {
     "data": {
      "image/png": "[encoded data removed]",
      "text/plain": [
       "<Figure size 1000x700 with 1 Axes>"
      ]
     },
     "metadata": {},
     "output_type": "display_data"
    }
   ],
   "source": [
    "# install matplotlib if you experience error with the plot while executing the cells in during dev\n",
    "# %pip install matplotlib\n",
    "\n",
    "# Prepare output if data is available \n",
    "if changes:\n",
    "    df = pd.DataFrame(list(changes.items()), columns=[\"Ticker\", \"Change (%)\"])\n",
    "    df.sort_values(\"Change (%)\", ascending=False, inplace=True)\n",
    "\n",
    "    # Plotting\n",
    "    ax = df.plot.bar(\n",
    "        x=\"Ticker\",\n",
    "        y=\"Change (%)\",\n",
    "        title=f\"Stock Change (%) on {parsed_date_str}\",\n",
    "        xlabel=\"Ticker\",\n",
    "        ylabel=\"Change (%)\",\n",
    "        grid=True,\n",
    "        figsize=(10, 7)\n",
    "    )\n",
    "\n",
    "    # Save plot to buffer\n",
    "    buf = io.BytesIO()\n",
    "    ax.figure.savefig(buf, format=\"jpeg\")\n",
    "    img_data = buf"
   ]
  },
  {
   "cell_type": "markdown",
   "id": "06794696",
   "metadata": {},
   "source": [
    "Here, we handle the output for all possible cases to ensure the WebSink always has something to display to the user."
   ]
  },
  {
   "cell_type": "code",
   "execution_count": null,
   "id": "a325511f",
   "metadata": {
    "ExecuteTime": {
     "end_time": "2025-01-29T13:33:45.006419Z",
     "start_time": "2025-01-29T13:33:45.003552Z"
    }
   },
   "outputs": [],
   "source": [
    "if changes:\n",
    "    # Get top stock info\n",
    "    top_stock = max(changes, key=changes.get)\n",
    "    top_stock_name = top_stock\n",
    "    top_stock_change = changes[top_stock]\n",
    "\n",
    "    # Build and set response\n",
    "    response = output_layout(\n",
    "        parsed_date=parsed_date_str,\n",
    "        top_stock_name=top_stock_name,\n",
    "        top_stock_change=top_stock_change,\n",
    "        img_data=img_data\n",
    "    )\n",
    "\n",
    "    event[\"response\"] = response\n",
    "    event[\"content_type\"] = \"text/html\"\n",
    "\n",
    "else:\n",
    "    event[\"response\"] = output_no_data_found()\n",
    "    event[\"content_type\"] = \"text/html\""
   ]
  },
  {
   "cell_type": "markdown",
   "id": "84759541",
   "metadata": {},
   "source": [
    "Note that the event object still exists in the last cell, so it can be automatically passed as input to the WebSink."
   ]
  }
 ],
 "metadata": {
  "kernelspec": {
   "display_name": ".bitswan",
   "language": "python",
   "name": "python3"
  },
  "language_info": {
   "codemirror_mode": {
    "name": "ipython",
    "version": 3
   },
   "file_extension": ".py",
   "mimetype": "text/x-python",
   "name": "python",
   "nbconvert_exporter": "python",
   "pygments_lexer": "ipython3",
   "version": "3.10.17"
  }
 },
 "nbformat": 4,
 "nbformat_minor": 5
}
