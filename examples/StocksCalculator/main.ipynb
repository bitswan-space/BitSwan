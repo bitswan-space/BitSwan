{
 "cells": [
  {
   "cell_type": "markdown",
   "id": "68be381c-09b4-48bb-ab74-8f70b209172e",
   "metadata": {},
   "source": [
    "Stock Calculator Automation\n",
    "----------------\n",
    "This automation allows you to create a simple webpage with an input form that allows to select a date and when submitted, you see a higest rising stock from a selected set of stocks. \n"
   ]
  },
  {
   "cell_type": "markdown",
   "id": "e4364752",
   "metadata": {},
   "source": [
    "Needed imports"
   ]
  },
  {
   "cell_type": "code",
   "execution_count": null,
   "id": "1fd34891-3aac-4f76-9697-f8495a239091",
   "metadata": {
    "ExecuteTime": {
     "end_time": "2025-01-29T13:33:39.688711Z",
     "start_time": "2025-01-29T13:33:39.376349Z"
    }
   },
   "outputs": [],
   "source": [
    "from bspump.jupyter import *\n",
    "from bspump.http.web.server import *\n",
    "import requests\n",
    "import pandas as pd\n",
    "from datetime import datetime, timedelta\n",
    "import time\n",
    "import io\n",
    "from datetime import date\n",
    "import base64"
   ]
  },
  {
   "cell_type": "markdown",
   "id": "72badf24",
   "metadata": {},
   "source": [
    "Global variables because we are simplifying the code"
   ]
  },
  {
   "cell_type": "code",
   "execution_count": null,
   "id": "71a86ce7",
   "metadata": {},
   "outputs": [],
   "source": [
    "STOCKS = [\"AAPL\", \"MSFT\", \"GOOGL\", \"AMZN\", \"TSLA\", \"NVDA\", \"META\", \"JPM\", \"NFLX\", \"AMD\"]\n",
    "\n",
    "HEADERS = {\n",
    "        \"User-Agent\": \"Mozilla/5.0 (Windows NT 10.0; Win64; x64)\"\n",
    "        }"
   ]
  },
  {
   "cell_type": "markdown",
   "id": "cc407946",
   "metadata": {},
   "source": [
    "Functions for fetching and processing data from Yahoo finance API."
   ]
  },
  {
   "cell_type": "code",
   "execution_count": 17,
   "id": "b8c9fbd1",
   "metadata": {},
   "outputs": [],
   "source": [
    "def fetch_yahoo_price(ticker, start_date, end_date):\n",
    "    start_ts = int(time.mktime(start_date.timetuple()))\n",
    "    end_ts = int(time.mktime(end_date.timetuple()))\n",
    "    url = f\"https://query1.finance.yahoo.com/v8/finance/chart/{ticker}\"\n",
    "    params = {\n",
    "        \"period1\": start_ts,\n",
    "        \"period2\": end_ts,\n",
    "        \"interval\": \"1d\"\n",
    "    }\n",
    "\n",
    "    try:\n",
    "        resp = requests.get(url, params=params, headers=HEADERS)\n",
    "        data = resp.json()\n",
    "\n",
    "        result = data[\"chart\"][\"result\"][0]\n",
    "        timestamps = result[\"timestamp\"]\n",
    "        closes = result[\"indicators\"][\"quote\"][0][\"close\"]\n",
    "\n",
    "        dates = [datetime.fromtimestamp(ts).strftime('%Y-%m-%d') for ts in timestamps]\n",
    "        return pd.Series(closes, index=dates)\n",
    "    except Exception as e:\n",
    "        print(f\"Error for {ticker}: {e}\")\n",
    "        return None\n",
    "\n",
    "\n",
    "def get_price_changes(tickers, date_str) -> dict:\n",
    "    date_obj = datetime.strptime(date_str, \"%Y-%m-%d\")\n",
    "    day_before = date_obj - timedelta(days=1)\n",
    "    day_after = date_obj + timedelta(days=1)\n",
    "\n",
    "    changes = {}\n",
    "    for ticker in tickers:\n",
    "        series = fetch_yahoo_price(ticker, day_before, day_after)\n",
    "        print(series)\n",
    "        if series is not None and date_str in series and day_before.strftime(\"%Y-%m-%d\") in series:\n",
    "            prev = series[day_before.strftime(\"%Y-%m-%d\")]\n",
    "            curr = series[date_str]\n",
    "            if prev and curr:\n",
    "                change = ((curr - prev) / prev) * 100\n",
    "                changes[ticker] = change\n",
    "    return changes\n",
    "\n",
    "def plot_with_pandas(changes, date_str) -> bytes:\n",
    "    df = pd.DataFrame(list(changes.items()), columns=[\"Ticker\", \"Change (%)\"])\n",
    "    df.sort_values(\"Change (%)\", ascending=False, inplace=True)\n",
    "\n",
    "    ax = df.plot.bar(\n",
    "        x=\"Ticker\",\n",
    "        y=\"Change (%)\",\n",
    "        title=f\"Stock Change (%) on {date_str}\",\n",
    "        xlabel=\"Ticker\",\n",
    "        ylabel=\"Change (%)\",\n",
    "        grid=True,\n",
    "        figsize=(10, 7)\n",
    "    )\n",
    "\n",
    "    buf = io.BytesIO()\n",
    "    ax.figure.savefig(buf, format=\"jpeg\")\n",
    "    return buf"
   ]
  },
  {
   "cell_type": "code",
   "execution_count": null,
   "id": "99746675",
   "metadata": {},
   "outputs": [
    {
     "data": {
      "text/plain": [
       "<_io.BytesIO at 0x71b55ef17c90>"
      ]
     },
     "execution_count": 18,
     "metadata": {},
     "output_type": "execute_result"
    },
    {
     "data": {
      "image/png": "[encoded data removed]",
      "text/plain": [
       "<Figure size 1000x700 with 1 Axes>"
      ]
     },
     "metadata": {},
     "output_type": "display_data"
    }
   ],
   "source": [
    "#ignore \n",
    "# !pip install numpy\n",
    "# !pip install pandas\n",
    "# !pip install matplotlib\n",
    "import io\n",
    "import pandas as pd\n",
    "import numpy as np\n",
    "mock_data = {'AAPL': np.float64(2.4331633507028676), \n",
    "             'MSFT': np.float64(2.0636844155362275), \n",
    "             'GOOGL': np.float64(2.561566548850186), \n",
    "             'AMZN': np.float64(4.28456735278061), \n",
    "             'TSLA': np.float64(5.366224400956115), \n",
    "             'NVDA': np.float64(3.86287766043215), \n",
    "             'META': np.float64(3.995766530888617), \n",
    "             'JPM': np.float64(2.2454300382664707), \n",
    "             'NFLX': np.float64(0.8891324282352583), \n",
    "             'AMD': np.float64(4.7878473813337745)}\n",
    "date_str = \"today\"\n",
    "plot_with_pandas(mock_data,date_str)"
   ]
  },
  {
   "cell_type": "markdown",
   "id": "5277719b",
   "metadata": {},
   "source": [
    "Defining an autopipline, the core of the automation. We define its source, sink."
   ]
  },
  {
   "cell_type": "code",
   "execution_count": null,
   "id": "6e5432e7-f84a-4b27-826a-5171e6112ba8",
   "metadata": {
    "ExecuteTime": {
     "end_time": "2025-01-29T13:33:42.482975Z",
     "start_time": "2025-01-29T13:33:42.471887Z"
    }
   },
   "outputs": [],
   "source": [
    "\n",
    "today = datetime.now()\n",
    "\n",
    "auto_pipeline(\n",
    "    source=lambda app, pipeline: WebFormSource(app, pipeline, route=\"/\",\n",
    "    form_intro=\"\"\"<h1> Select date range and click submit to see a visualization\"\"\",\n",
    "    fields=[\n",
    "        IntField(\"Day\",default=today.day),\n",
    "        IntField(\"Month\",default=today.month),\n",
    "        IntField(\"Year\",default=today.year),\n",
    "    ]),\n",
    "    sink=lambda app, pipeline: WebSink(app, pipeline)\n",
    ")"
   ]
  },
  {
   "cell_type": "markdown",
   "id": "3c9a3733-b58a-4038-b8bc-296044013008",
   "metadata": {},
   "source": [
    "Pipeline section\n",
    "----------------\n",
    "\n",
    "Everything after this is rerun every time an event comes in. At run time, the `event` variable is automatically set with the value of the event that comes from the source.\n",
    "\n",
    "We can do whatever transformations we please, and then, by setting `event` at the end of the notebook, the value of `event` will automatically be sent to the sink."
   ]
  },
  {
   "cell_type": "markdown",
   "id": "10361c61",
   "metadata": {},
   "source": [
    "Here is a helper function of the output layout."
   ]
  },
  {
   "cell_type": "code",
   "execution_count": null,
   "id": "f1ba1695",
   "metadata": {},
   "outputs": [],
   "source": [
    "def output_layout(parsed_date,top_stock_name,top_stock_change,img_data) -> str:\n",
    "    html = f\"\"\"\n",
    "    <!DOCTYPE html>\n",
    "    <html>\n",
    "    <head>\n",
    "        <title>Stock Performance</title>\n",
    "        <style>\n",
    "            body {{\n",
    "                font-family: Arial, sans-serif;\n",
    "                text-align: center;\n",
    "                background-color: #f5f5f5;\n",
    "                padding: 40px;\n",
    "            }}\n",
    "            h1 {{\n",
    "                color: #333;\n",
    "                margin-bottom: 20px;\n",
    "            }}\n",
    "            img {{\n",
    "                border: 1px solid #ccc;\n",
    "                max-width: 90%;\n",
    "                height: auto;\n",
    "                box-shadow: 0 0 10px rgba(0,0,0,0.1);\n",
    "            }}\n",
    "        </style>\n",
    "    </head>\n",
    "    <body>\n",
    "        <h1>📈 Top Stock on {parsed_date}: {top_stock_name} (change {top_stock_change:.2f}%)</h1>\n",
    "        <img src=\"data:image/jpeg;base64,{base64.b64encode(img_data.getvalue()).decode()}\" alt=\"Stock Performance\">\n",
    "    </body>\n",
    "    </html>\n",
    "    \"\"\"\n",
    "    return html"
   ]
  },
  {
   "cell_type": "markdown",
   "id": "72ec296b",
   "metadata": {},
   "source": [
    "In this last part we work with the actual event, It initially has the data from the web form and then we use it to calculate the data nad set the result as an HTML containing stylyzed by the output_layout function containing the results from the calculation and image of the result plot."
   ]
  },
  {
   "cell_type": "code",
   "execution_count": null,
   "id": "a325511f",
   "metadata": {
    "ExecuteTime": {
     "end_time": "2025-01-29T13:33:45.006419Z",
     "start_time": "2025-01-29T13:33:45.003552Z"
    }
   },
   "outputs": [],
   "source": [
    "form = event[\"form\"]\n",
    "parsed_date = date(form[\"Year\"], form[\"Month\"], form[\"Day\"]).strftime(\"%Y-%m-%d\")\n",
    "\n",
    "changes = get_price_changes(STOCKS, parsed_date)\n",
    "\n",
    "if changes:\n",
    "    print(\"No data found. Market may have been closed.\")\n",
    "    top_stock = max(changes, key=changes.get)\n",
    "    print(f\"Most increasing stock on {parsed_date}: {top_stock} ({changes[top_stock]:.2f}%)\")\n",
    "    img_data = plot_with_pandas(changes, parsed_date)\n",
    "\n",
    "\n",
    "    top_stock_name = top_stock\n",
    "    top_stock_change = changes[top_stock]\n",
    "\n",
    "    response = output_layout(parsed_date=parsed_date,top_stock_name=top_stock_name,top_stock_change=top_stock_change,img_data=img_data)\n",
    "\n",
    "\n",
    "\n",
    "\n",
    "    event[\"response\"] = output_layout(parsed_date=parsed_date,top_stock_name=top_stock_name,top_stock_change=top_stock_change,img_data=img_data)\n",
    "    event[\"content_type\"] = \"text/html\"\n",
    "else:\n",
    "    print(\"No data found. Market may have been closed.\")\n",
    "\n"
   ]
  }
 ],
 "metadata": {
  "kernelspec": {
   "display_name": ".venv",
   "language": "python",
   "name": "python3"
  },
  "language_info": {
   "codemirror_mode": {
    "name": "ipython",
    "version": 3
   },
   "file_extension": ".py",
   "mimetype": "text/x-python",
   "name": "python",
   "nbconvert_exporter": "python",
   "pygments_lexer": "ipython3",
   "version": "3.12.3"
  }
 },
 "nbformat": 4,
 "nbformat_minor": 5
}
