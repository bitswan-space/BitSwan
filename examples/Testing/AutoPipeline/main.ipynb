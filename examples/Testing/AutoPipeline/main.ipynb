{
 "cells": [
  {
   "cell_type": "markdown",
   "id": "be7f3cfc",
   "metadata": {},
   "source": [
    "Test that globals and variables defined in processor steps are allowed to propagate to subsequent steps in the pipeline"
   ]
  },
  {
   "cell_type": "code",
   "execution_count": null,
   "id": "1fd34891-3aac-4f76-9697-f8495a239091",
   "metadata": {},
   "outputs": [],
   "source": [
    "from bspump.jupyter import *\n",
    "from bspump.test import TestSink, TestSource\n",
    "import json\n"
   ]
  },
  {
   "cell_type": "code",
   "execution_count": null,
   "id": "6ccb8d48",
   "metadata": {},
   "outputs": [],
   "source": [
    "foovar=3"
   ]
  },
  {
   "cell_type": "code",
   "execution_count": null,
   "id": "eb6f7aa2-4821-41eb-88ce-304e2756735f",
   "metadata": {},
   "outputs": [],
   "source": [
    "event = {}\n",
    "test_events = [({\"foo\":\"aaa\"},{\"expect\" : [{\"foo\": \"aaa\", \"foovar\": 3, \"barvar\": \"hello\", \"bazvar\": \"aaa\"}]}), \n",
    "               ({\"foo\":\"aab\"},{\"expect\" : [{\"foo\": \"aab\", \"foovar\": 3, \"barvar\": \"hello\", \"bazvar\": \"aab\"}]})]\n"
   ]
  },
  {
   "cell_type": "code",
   "execution_count": null,
   "id": "6e5432e7-f84a-4b27-826a-5171e6112ba8",
   "metadata": {},
   "outputs": [],
   "source": [
    "auto_pipeline(\n",
    "    source=lambda app, pipeline: TestSource(app, pipeline, \"TestSource\"),\n",
    "    sink=lambda app, pipeline: TestSink(app, pipeline, \"TestSink\")\n",
    ")\n"
   ]
  },
  {
   "cell_type": "code",
   "execution_count": null,
   "id": "08f23673",
   "metadata": {},
   "outputs": [],
   "source": [
    "barvar=\"hello\"\n",
    "bazvar=event[\"foo\"]"
   ]
  },
  {
   "cell_type": "code",
   "execution_count": null,
   "id": "944f3fb3-74d5-45cc-8c8f-307f0d411de7",
   "metadata": {},
   "outputs": [
    {
     "data": {
      "text/plain": [
       "{'foo': 'BAP'}"
      ]
     },
     "execution_count": 11,
     "metadata": {},
     "output_type": "execute_result"
    }
   ],
   "source": [
    "event[\"foovar\"] = foovar\n",
    "event[\"barvar\"] = barvar\n",
    "event[\"bazvar\"] = bazvar\n",
    "event"
   ]
  }
 ],
 "metadata": {
  "kernelspec": {
   "display_name": "Python 3 (ipykernel)",
   "language": "python",
   "name": "python3"
  },
  "language_info": {
   "codemirror_mode": {
    "name": "ipython",
    "version": 3
   },
   "file_extension": ".py",
   "mimetype": "text/x-python",
   "name": "python",
   "nbconvert_exporter": "python",
   "pygments_lexer": "ipython3",
   "version": "3.10.13"
  }
 },
 "nbformat": 4,
 "nbformat_minor": 5
}
