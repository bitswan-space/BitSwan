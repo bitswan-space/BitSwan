{
 "cells": [
  {
   "cell_type": "markdown",
   "id": "68be381c-09b4-48bb-ab74-8f70b209172e",
   "metadata": {},
   "source": [
    "`auto_pipeline`\n",
    "----------------\n",
    "\n",
    "Say you want to create a quick linear pipeline that just takes events from one data source, transforms those events, and sends them on to a data sink. Since we're thinking in a straight line, we can think of the jupyter notebook itself as a pipeline. In the simplest case, events would come in at the top of the notebook, are processed, and then come out the bottom.\n",
    "\n",
    "Since sometimes you might want to do some imports/setup before launching the pipeline, in reality we divide the notebook into two sections. The setup section and the pipeline section.\n",
    "\n",
    "`auto_pipeline()` lets you turn simple jupyter notebooks into pipelines.\n",
    "\n",
    "\n",
    "To use just call `auto_pipeline(source=<source>, sink=<sink>)` at some point in your notebook, and the rest of the cells in the notebook will become processors in that pipeline. The special variable `event` will be set in the pipeline after the `auto_pipeline` call. This variable will also be sent to the sink at the end of the pipeline.\n"
   ]
  },
  {
   "cell_type": "markdown",
   "id": "8c07f869-465c-41f4-b807-08b31a6756d2",
   "metadata": {},
   "source": [
    "Setup section \n",
    "-------------\n",
    "\n",
    "Gets run once at launch"
   ]
  },
  {
   "cell_type": "code",
   "execution_count": null,
   "id": "1fd34891-3aac-4f76-9697-f8495a239091",
   "metadata": {},
   "outputs": [],
   "source": [
    "from bspump.jupyter import *\n",
    "from bspump.unittest import ProcessorTestCase, TestCase\n",
    "from bspump.test import TestSink, TestSource\n",
    "from bspump.trigger import CronTrigger\n",
    "from bspump.abc.source import TriggerSource\n",
    "from bspump.http.web.server import *\n",
    "from datetime import datetime\n",
    "import json\n",
    "\n",
    "class MyTestSink(TestSink):\n",
    "    pass\n",
    "\n",
    "class MyTestSource(TestSource):\n",
    "    async def cycle(self, *args, **kwags):\n",
    "        await self.Pipeline.ready()\n",
    "        event = {\"time_triggered\": datetime.now().timestamp()}\n",
    "        await self.Pipeline.process(event)\n"
   ]
  },
  {
   "cell_type": "code",
   "execution_count": null,
   "id": "6ccb8d48",
   "metadata": {},
   "outputs": [],
   "source": [
    "foovar=3"
   ]
  },
  {
   "cell_type": "code",
   "execution_count": null,
   "id": "eb6f7aa2-4821-41eb-88ce-304e2756735f",
   "metadata": {},
   "outputs": [],
   "source": [
    "# we define a sample event to test our pipeline.\n",
    "event = b\"\"\"{\"ffoo\":\"bap\"}\"\"\"\n",
    "test_events = {\n",
    "    b\"\"\"{\"foo\":\"aaa\"}\"\"\": {\n",
    "        \"expect\": [{\"foo\": \"aaa\", \"foovar\": 3, \"barvar\": \"hello\", \"bazvar\": \"aaa\"}]\n",
    "    },\n",
    "    b\"\"\"{\"foo\":\"aab\"}\"\"\": {\n",
    "        \"expect\": [{\"foo\": \"aab\", \"foovar\": 3, \"barvar\": \"hello\", \"bazvar\": \"aab\"}]\n",
    "    }\n",
    "}\n"
   ]
  },
  {
   "cell_type": "markdown",
   "id": "557e9886-316a-4ec9-88b7-688baec9433e",
   "metadata": {},
   "source": [
    "We use `auto_pipeline` to mark the start of the *pipeline section*. We also specifiy the source and sink for our pipeline at this time."
   ]
  },
  {
   "cell_type": "code",
   "execution_count": null,
   "id": "6e5432e7-f84a-4b27-826a-5171e6112ba8",
   "metadata": {},
   "outputs": [],
   "source": [
    "auto_pipeline(\n",
    "    source=lambda app, pipeline: TestSource(app, pipeline, \"TestSource\"),\n",
    "    sink=lambda app, pipeline: TestSink(app, pipeline, \"TestSink\")\n",
    ")\n"
   ]
  },
  {
   "cell_type": "markdown",
   "id": "7a4fa147",
   "metadata": {},
   "source": [
    "The test fails here. Supposedly the subsequent block is taken as a processor step, so the variable is limited in scope. The variables should be allowed to propagate to subsequent steps"
   ]
  },
  {
   "cell_type": "code",
   "execution_count": null,
   "id": "08f23673",
   "metadata": {},
   "outputs": [],
   "source": [
    "barvar=\"hello\"\n",
    "bazvar=event[\"foo\"]"
   ]
  },
  {
   "cell_type": "markdown",
   "id": "3c9a3733-b58a-4038-b8bc-296044013008",
   "metadata": {},
   "source": [
    "Pipeline section\n",
    "----------------\n",
    "\n",
    "Everything after this is rerun every time an event comes in. At run time, the `event` variable is automatically set with the value of the event that comes from the source.\n",
    "\n",
    "We can do whatever transformations we please, and then, by setting `event` at the end of the notebook, the value of `event` will automatically be sent to the sink."
   ]
  },
  {
   "cell_type": "code",
   "execution_count": null,
   "id": "7d3cac4f-da52-4189-9386-fddffb1b0bb3",
   "metadata": {},
   "outputs": [
    {
     "data": {
      "text/plain": [
       "{'foo': 'bap'}"
      ]
     },
     "execution_count": 10,
     "metadata": {},
     "output_type": "execute_result"
    }
   ],
   "source": [
    "event = json.loads(event.decode(\"utf8\"))\n",
    "foovar\n",
    "barvar\n",
    "bazvar\n",
    "foovar2\n",
    "event"
   ]
  },
  {
   "cell_type": "code",
   "execution_count": null,
   "id": "944f3fb3-74d5-45cc-8c8f-307f0d411de7",
   "metadata": {},
   "outputs": [
    {
     "data": {
      "text/plain": [
       "{'foo': 'BAP'}"
      ]
     },
     "execution_count": 11,
     "metadata": {},
     "output_type": "execute_result"
    }
   ],
   "source": [
    "event[\"foovar\"] = foovar\n",
    "event[\"barvar\"] = barvar\n",
    "event[\"bazvar\"] = bazvar\n",
    "event"
   ]
  }
 ],
 "metadata": {
  "kernelspec": {
   "display_name": "Python 3 (ipykernel)",
   "language": "python",
   "name": "python3"
  },
  "language_info": {
   "codemirror_mode": {
    "name": "ipython",
    "version": 3
   },
   "file_extension": ".py",
   "mimetype": "text/x-python",
   "name": "python",
   "nbconvert_exporter": "python",
   "pygments_lexer": "ipython3",
   "version": "3.10.13"
  }
 },
 "nbformat": 4,
 "nbformat_minor": 5
}
