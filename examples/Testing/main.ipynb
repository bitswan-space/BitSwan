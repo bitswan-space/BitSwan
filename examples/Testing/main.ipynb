{
 "cells": [
  {
   "cell_type": "markdown",
   "id": "68be381c-09b4-48bb-ab74-8f70b209172e",
   "metadata": {},
   "source": [
    "Testing\n",
    "----------------\n",
    "\n",
    "If you want to test your pipeline you can add test cases at any point in the jupyter notebook. You add a test case by creating a function named `test_pipeline(pass_events)` at any point in your jupyter notebook. In this case, we place it at the bottom\n",
    "\n",
    "We can then pass events through the `pass_events` function and use \"probes\" to check intermediate values.\n",
    "\n",
    "Tests will be automatically run before deployment but can also be run using the CLI."
   ]
  },
  {
   "cell_type": "markdown",
   "id": "8c07f869-465c-41f4-b807-08b31a6756d2",
   "metadata": {},
   "source": [
    "Setup section \n",
    "-------------\n",
    "\n",
    "Gets run once at launch"
   ]
  },
  {
   "cell_type": "code",
   "execution_count": 1,
   "id": "1fd34891-3aac-4f76-9697-f8495a239091",
   "metadata": {},
   "outputs": [],
   "source": [
    "from bspump.jupyter import *\n",
    "import bspump.kafka\n",
    "import json"
   ]
  },
  {
   "cell_type": "code",
   "execution_count": 2,
   "id": "507378df-66c9-4f08-8800-545caa5f43e8",
   "metadata": {},
   "outputs": [],
   "source": [
    "some_constant=3"
   ]
  },
  {
   "cell_type": "code",
   "execution_count": 3,
   "id": "3c39b6dc-6627-4b65-82c1-f7d1052b0855",
   "metadata": {},
   "outputs": [
    {
     "name": "stdout",
     "output_type": "stream",
     "text": [
      "BitSwan BSPump version devel\n"
     ]
    }
   ],
   "source": [
    "@register_connection\n",
    "def connection(app):\n",
    "  return bspump.kafka.KafkaConnection(app, \"KafkaConnection\")"
   ]
  },
  {
   "cell_type": "code",
   "execution_count": 9,
   "id": "eb6f7aa2-4821-41eb-88ce-304e2756735f",
   "metadata": {},
   "outputs": [],
   "source": [
    "# we define a sample event to test our pipeline.\n",
    "event = b\"\"\"{\"foo\":\"bap\"}\"\"\""
   ]
  },
  {
   "cell_type": "markdown",
   "id": "557e9886-316a-4ec9-88b7-688baec9433e",
   "metadata": {},
   "source": [
    "We use `auto_pipeline` to mark the start of the *pipeline section*. We also specifiy the source and sink for our pipeline at this time."
   ]
  },
  {
   "cell_type": "markdown",
   "id": "f1fb73ed-62d4-4259-9066-6c7ba598da06",
   "metadata": {},
   "source": [
    "Test section\n",
    "------------\n",
    "\n",
    "We create a dictionary of test events mapping each input event to a function that checks the expected output. The expected output is the list of events that get sent to the sink for a given input event.\n",
    "\n",
    "You can use test probes to probe local variables at a given point in the pipeline.\n",
    "\n",
    "You can use function based tests to inspect inside output events."
   ]
  },
  {
   "cell_type": "code",
   "execution_count": null,
   "id": "5917f996-39c2-4cfb-9828-19cd49ac0bc8",
   "metadata": {},
   "outputs": [],
   "source": [
    "test_events = {\n",
    "    b\"\"\"{\"foo\":\"aaa\"}\"\"\": {\n",
    "        \"expect\": [b'{\"foo\": \"A   A   A\"}'],\n",
    "    },\n",
    "    b\"\"\"{\"foo\":\"aab\"}\"\"\": {\n",
    "        \"expect\": [b'{\"foo\": \"B   A   A\"}'],\n",
    "        \"probes\": {\n",
    "            \"after-upper\": (lambda plocals, pglobals: plocals[\"event\"][\"foo\"], \"AAB\"),\n",
    "        }\n",
    "    },\n",
    "    b\"\"\"{\"foo\":\"cab\"}\"\"\": {\n",
    "        \"inspect\": (lambda events: events[0][9], ord(\"B\")),\n",
    "    },\n",
    "}"
   ]
  },
  {
   "cell_type": "code",
   "execution_count": 5,
   "id": "6e5432e7-f84a-4b27-826a-5171e6112ba8",
   "metadata": {},
   "outputs": [],
   "source": [
    "auto_pipeline(\n",
    "    source=lambda app, pipeline: bspump.kafka.KafkaSource(app, pipeline, \"KafkaConnection\"),\n",
    "    sink=lambda app, pipeline: bspump.kafka.KafkaSink(app, pipeline, \"KafkaConnection\")\n",
    ")"
   ]
  },
  {
   "cell_type": "markdown",
   "id": "3c9a3733-b58a-4038-b8bc-296044013008",
   "metadata": {},
   "source": [
    "Pipeline section\n",
    "----------------\n",
    "\n",
    "Everything after this is rerun every time an event comes in. At run time, the `event` variable is automatically set with the value of the event that comes from the source.\n",
    "\n",
    "We can do whatever transformations we please, and then, by setting `event` at the end of the notebook, the value of `event` will automatically be sent to the sink."
   ]
  },
  {
   "cell_type": "code",
   "execution_count": 10,
   "id": "7d3cac4f-da52-4189-9386-fddffb1b0bb3",
   "metadata": {},
   "outputs": [
    {
     "data": {
      "text/plain": [
       "{'foo': 'bap'}"
      ]
     },
     "execution_count": 10,
     "metadata": {},
     "output_type": "execute_result"
    }
   ],
   "source": [
    "event = json.loads(event.decode(\"utf8\"))\n",
    "event"
   ]
  },
  {
   "cell_type": "code",
   "execution_count": 11,
   "id": "944f3fb3-74d5-45cc-8c8f-307f0d411de7",
   "metadata": {},
   "outputs": [
    {
     "data": {
      "text/plain": [
       "{'foo': 'BAP'}"
      ]
     },
     "execution_count": 11,
     "metadata": {},
     "output_type": "execute_result"
    }
   ],
   "source": [
    "event[\"foo\"] = event[\"foo\"].upper()\n",
    "event"
   ]
  },
  {
   "cell_type": "markdown",
   "id": "ce9e5f5e-467a-4046-ad2b-ccc615d55984",
   "metadata": {},
   "source": [
    "Test probes\n",
    "-----------\n",
    "\n",
    "If you want to examine intermediate values we can add test probes at any point in our pipeline. These test probes can be used in tests to examine any local variable."
   ]
  },
  {
   "cell_type": "code",
   "execution_count": null,
   "id": "ac763bf4-39e2-413c-ad23-b53161e42d26",
   "metadata": {},
   "outputs": [],
   "source": [
    "add_test_probe(\"after-upper\")"
   ]
  },
  {
   "cell_type": "code",
   "execution_count": 12,
   "id": "5a56c65e-196e-4cab-9891-03b85d485271",
   "metadata": {},
   "outputs": [
    {
     "data": {
      "text/plain": [
       "{'foo': 'P   A   B'}"
      ]
     },
     "execution_count": 12,
     "metadata": {},
     "output_type": "execute_result"
    }
   ],
   "source": [
    "event[\"foo\"] = (\" \" * some_constant).join(reversed(list(event[\"foo\"])))\n",
    "event"
   ]
  },
  {
   "cell_type": "code",
   "execution_count": 13,
   "id": "1e63b344-4c6f-4c46-8e5f-3163aa04dbc0",
   "metadata": {},
   "outputs": [
    {
     "data": {
      "text/plain": [
       "b'{\"foo\": \"P   A   B\"}'"
      ]
     },
     "execution_count": 13,
     "metadata": {},
     "output_type": "execute_result"
    }
   ],
   "source": [
    "event = json.dumps(event).encode()\n",
    "event"
   ]
  }
 ],
 "metadata": {
  "kernelspec": {
   "display_name": "Python 3 (ipykernel)",
   "language": "python",
   "name": "python3"
  },
  "language_info": {
   "codemirror_mode": {
    "name": "ipython",
    "version": 3
   },
   "file_extension": ".py",
   "mimetype": "text/x-python",
   "name": "python",
   "nbconvert_exporter": "python",
   "pygments_lexer": "ipython3",
   "version": "3.10.15"
  }
 },
 "nbformat": 4,
 "nbformat_minor": 5
}
