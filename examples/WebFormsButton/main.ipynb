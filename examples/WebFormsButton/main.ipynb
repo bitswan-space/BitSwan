{
 "cells": [
  {
   "cell_type": "code",
   "execution_count": 1,
   "id": "00d9f193-f748-4f3f-8b44-6541abc461b9",
   "metadata": {},
   "outputs": [],
   "source": [
    "from bspump.http.web.server import *\n",
    "from bspump.jupyter import *"
   ]
  },
  {
   "metadata": {},
   "cell_type": "code",
   "outputs": [],
   "execution_count": null,
   "source": "event = None",
   "id": "214940433f86d7c7"
  },
  {
   "metadata": {},
   "cell_type": "code",
   "outputs": [],
   "execution_count": null,
   "source": [
    "auto_pipeline(\n",
    "    source=lambda app, pipeline: WebFormSource(app, pipeline, route=\"/\", fields=[\n",
    "        TextField(\"first_name\", display=\"First Name\"),\n",
    "        TextField(\"last_name\", display=\"Last Name\"),\n",
    "        IntField(\"age\", display=\"Age\"),\n",
    "        ChoiceField(\"gender\", choices=[\"Male\", \"Female\", \"Other\"], display=\"Gender\"),\n",
    "        CheckboxField(\"employee\", display=\"Employee\"),\n",
    "        Button(button_id=\"test_report_button\", name=\"Test Report\", on_click=\"/static/js/test_report.js\"),\n",
    "    ]),\n",
    "    sink=lambda app, pipeline: JSONWebSink(app, pipeline)\n",
    ")"
   ],
   "id": "6d603fc39581a4e"
  },
  {
   "cell_type": "code",
   "execution_count": null,
   "id": "ba89b073-27c5-45d2-90cd-93cea1b0ce4d",
   "metadata": {},
   "outputs": [],
   "source": [
    "event[\"response\"] = {\n",
    "            \"Name\": f\"{event[\"form\"][\"first_name\"]}  {event[\"form\"][\"last_name\"]}\",\n",
    "            \"Employee\": event[\"form\"][\"employee\"],\n",
    "            \"Age\": event[\"form\"][\"age\"],\n",
    "            \"Gender\": event[\"form\"][\"gender\"],\n",
    "             \"button\": {\n",
    "                \"id\": \"download_pdf\",\n",
    "                \"name\": \"Download PDF\",\n",
    "                \"on_click\": \"/static/js/download_pdf.js\"\n",
    "            }\n",
    "        }\n",
    "event"
   ]
  }
 ],
 "metadata": {
  "kernelspec": {
   "display_name": "Python 3 (ipykernel)",
   "language": "python",
   "name": "python3"
  },
  "language_info": {
   "codemirror_mode": {
    "name": "ipython",
    "version": 3
   },
   "file_extension": ".py",
   "mimetype": "text/x-python",
   "name": "python",
   "nbconvert_exporter": "python",
   "pygments_lexer": "ipython3",
   "version": "3.10.15"
  }
 },
 "nbformat": 4,
 "nbformat_minor": 5
}
