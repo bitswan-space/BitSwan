{
 "cells": [
  {
   "cell_type": "markdown",
   "id": "b8f7b664",
   "metadata": {},
   "source": [
    "# WebFormsButton Example\n",
    "----------------\n",
    "This notebook demonstrates the use of ```bspump``` to serve a dynamic web form, trigger custom actions (including JavaScript) from the UI, and integrate with scripts for PDF download and API interaction.\n",
    "\n",
    "The pipeline showcases how to present advanced web forms with custom actions and interact with browser-side scripts.\n",
    "\n",
    "### Pipeline Overview\n",
    "- **Source**: Presents a web form at / with multiple input types and action buttons.\n",
    "\n",
    "- **Sink**: Returns form submissions as JSON, which can be further processed or displayed.\n",
    "\n",
    "JS Integration: Buttons on the form trigger client-side scripts—such as downloading the filled form as a PDF or making test API calls."
   ]
  },
  {
   "cell_type": "markdown",
   "id": "8413226f",
   "metadata": {},
   "source": [
    "----------------\n",
    "### Imports and Setup"
   ]
  },
  {
   "cell_type": "code",
   "execution_count": null,
   "id": "00d9f193-f748-4f3f-8b44-6541abc461b9",
   "metadata": {},
   "outputs": [],
   "source": [
    "from bspump.http.web.server import *\n",
    "from bspump.http.web.server import RichJSONOutput\n",
    "from bspump.jupyter import *"
   ]
  },
  {
   "cell_type": "markdown",
   "id": "14a34cd8",
   "metadata": {},
   "source": [
    "----------------\n",
    "### Example Event (For Testing inside the notebook)"
   ]
  },
  {
   "cell_type": "code",
   "execution_count": null,
   "id": "214940433f86d7c7",
   "metadata": {},
   "outputs": [],
   "source": [
    "event = None"
   ]
  },
  {
   "cell_type": "markdown",
   "id": "e4827e3a",
   "metadata": {},
   "source": [
    "----------------\n",
    "### Pipeline Definition"
   ]
  },
  {
   "cell_type": "code",
   "execution_count": null,
   "id": "6d603fc39581a4e",
   "metadata": {},
   "outputs": [],
   "source": [
    "auto_pipeline(\n",
    "    source=lambda app, pipeline: WebFormSource(app, pipeline, route=\"/\", fields=[\n",
    "        TextField(\"first_name\", display=\"First Name\"),\n",
    "        TextField(\"last_name\", display=\"Last Name\"),\n",
    "        IntField(\"age\", display=\"Age\"),\n",
    "        ChoiceField(\"gender\", choices=[\"Male\", \"Female\", \"Other\"], display=\"Gender\"),\n",
    "        CheckboxField(\"employee\", display=\"Employee\"),\n",
    "        Button(button_id=\"test_report_button\", name=\"Test Report\", on_click=\"/scripts/test_report.js\", default_css_classes=\"bg-cyan-600 hover:bg-cyan-900 text-slate-100 font-bold py-2 px-4 rounded-lg mt-10\"),\n",
    "    ]),\n",
    "    sink=lambda app, pipeline: JSONWebSink(app, pipeline)\n",
    ")"
   ]
  },
  {
   "cell_type": "markdown",
   "id": "37e81712",
   "metadata": {},
   "source": [
    "What happens here:\n",
    "\n",
    "- The form appears at the root path /.\n",
    "\n",
    "    There are form fields for name, age, gender, employee status, and two buttons:\n",
    "\n",
    "    - **Test Report**: triggers an API call (see test_report.js).\n",
    "\n",
    "    - **Download as PDF**: downloads the current form as a PDF (see download_pdf.js)."
   ]
  },
  {
   "cell_type": "markdown",
   "id": "66be7be8",
   "metadata": {},
   "source": [
    "----------------\n",
    "### Processing and Response"
   ]
  },
  {
   "cell_type": "code",
   "execution_count": null,
   "id": "ba89b073-27c5-45d2-90cd-93cea1b0ce4d",
   "metadata": {
    "ExecuteTime": {
     "end_time": "2025-02-25T13:46:42.585213Z",
     "start_time": "2025-02-25T13:46:42.581632Z"
    }
   },
   "outputs": [
    {
     "ename": "SyntaxError",
     "evalue": "'(' was never closed (2325967584.py, line 1)",
     "output_type": "error",
     "traceback": [
      "\u001b[0;36m  Cell \u001b[0;32mIn[1], line 1\u001b[0;36m\u001b[0m\n\u001b[0;31m    event[\"response\"] = RichJSONOutput().update({\u001b[0m\n\u001b[0m                                               ^\u001b[0m\n\u001b[0;31mSyntaxError\u001b[0m\u001b[0;31m:\u001b[0m '(' was never closed\n"
     ]
    }
   ],
   "source": [
    "event[\"response\"] = RichJSONOutput.update()({\n",
    "    \"Name\": f\"{event['form']['first_name']} {event['form']['last_name']}\",\n",
    "    \"Employee\": event[\"form\"][\"employee\"],\n",
    "    \"Age\": event[\"form\"][\"age\"],\n",
    "    \"Gender\": event[\"form\"][\"gender\"]\n",
    "})\n",
    "\n",
    "event[\"response\"].add_button(\n",
    "    name=\"Download PDF\",\n",
    "    on_click=\"/scripts/download_pdf.js\",\n",
    "    button_id=\"download_pdf\"\n",
    ")"
   ]
  },
  {
   "cell_type": "code",
   "execution_count": null,
   "id": "36c4c981",
   "metadata": {},
   "outputs": [],
   "source": []
  }
 ],
 "metadata": {
  "kernelspec": {
   "display_name": "Python 3",
   "language": "python",
   "name": "python3"
  },
  "language_info": {
   "codemirror_mode": {
    "name": "ipython",
    "version": 3
   },
   "file_extension": ".py",
   "mimetype": "text/x-python",
   "name": "python",
   "nbconvert_exporter": "python",
   "pygments_lexer": "ipython3",
   "version": "3.13.3"
  }
 },
 "nbformat": 4,
 "nbformat_minor": 5
}
