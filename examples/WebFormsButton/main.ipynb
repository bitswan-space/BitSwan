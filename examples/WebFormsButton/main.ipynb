{
 "cells": [
  {
   "cell_type": "code",
   "execution_count": 1,
   "id": "00d9f193-f748-4f3f-8b44-6541abc461b9",
   "metadata": {},
   "outputs": [],
   "source": [
    "from bspump.http.web.server import *\n",
    "from bspump.http.web.server import RichJSONOutput\n",
    "from bspump.jupyter import *"
   ]
  },
  {
   "metadata": {},
   "cell_type": "code",
   "outputs": [],
   "execution_count": null,
   "source": "event = None",
   "id": "214940433f86d7c7"
  },
  {
   "metadata": {},
   "cell_type": "code",
   "outputs": [],
   "execution_count": null,
   "source": [
    "auto_pipeline(\n",
    "    source=lambda app, pipeline: WebFormSource(\n",
    "        app,\n",
    "        pipeline,\n",
    "        route=\"/\",\n",
    "        fields=[\n",
    "            TextField(\"first_name\", display=\"First Name\"),\n",
    "            TextField(\"last_name\", display=\"Last Name\"),\n",
    "            IntField(\"age\", display=\"Age\"),\n",
    "            ChoiceField(\n",
    "                \"gender\", choices=[\"Male\", \"Female\", \"Other\"], display=\"Gender\"\n",
    "            ),\n",
    "            CheckboxField(\"employee\", display=\"Employee\"),\n",
    "            Button(\n",
    "                button_id=\"test_report_button\",\n",
    "                name=\"Test Report\",\n",
    "                on_click=\"/scripts/test_report.js\",\n",
    "                default_css_classes=\"bg-cyan-600 hover:bg-cyan-900 text-slate-100 font-bold py-2 px-4 rounded-lg mt-10\",\n",
    "            ),\n",
    "        ],\n",
    "    ),\n",
    "    sink=lambda app, pipeline: JSONWebSink(app, pipeline),\n",
    ")"
   ],
   "id": "6d603fc39581a4e"
  },
  {
   "cell_type": "code",
   "id": "ba89b073-27c5-45d2-90cd-93cea1b0ce4d",
   "metadata": {
    "ExecuteTime": {
     "end_time": "2025-02-25T13:46:42.585213Z",
     "start_time": "2025-02-25T13:46:42.581632Z"
    }
   },
   "source": [
    "event[\"response\"] = RichJSONOutput(\n",
    "    {\n",
    "        \"Name\": f\"{event[\"form\"][\"first_name\"]}  {event[\"form\"][\"last_name\"]}\",\n",
    "        \"Employee\": event[\"form\"][\"employee\"],\n",
    "        \"Age\": event[\"form\"][\"age\"],\n",
    "        \"Gender\": event[\"form\"][\"gender\"],\n",
    "    }\n",
    ")\n",
    "\n",
    "event[\"response\"].add_button(\n",
    "    name=\"Download PDF\", on_click=\"/scripts/download_pdf.js\", button_id=\"download_pdf\"\n",
    ")"
   ],
   "outputs": [
    {
     "ename": "SyntaxError",
     "evalue": "'(' was never closed (2325967584.py, line 1)",
     "output_type": "error",
     "traceback": [
      "\u001b[0;36m  Cell \u001b[0;32mIn[1], line 1\u001b[0;36m\u001b[0m\n\u001b[0;31m    event[\"response\"] = RichJSONOutput().update({\u001b[0m\n\u001b[0m                                               ^\u001b[0m\n\u001b[0;31mSyntaxError\u001b[0m\u001b[0;31m:\u001b[0m '(' was never closed\n"
     ]
    }
   ],
   "execution_count": 1
  }
 ],
 "metadata": {
  "kernelspec": {
   "display_name": "Python 3 (ipykernel)",
   "language": "python",
   "name": "python3"
  },
  "language_info": {
   "codemirror_mode": {
    "name": "ipython",
    "version": 3
   },
   "file_extension": ".py",
   "mimetype": "text/x-python",
   "name": "python",
   "nbconvert_exporter": "python",
   "pygments_lexer": "ipython3",
   "version": "3.10.15"
  }
 },
 "nbformat": 4,
 "nbformat_minor": 5
}
