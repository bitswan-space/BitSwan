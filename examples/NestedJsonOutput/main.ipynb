{
 "cells": [
  {
   "cell_type": "markdown",
   "id": "8f00f189",
   "metadata": {},
   "source": [
    "# Nested JSON output \n",
    "### Showcase of complex form input handling and structured JSON response\n",
    " This pipeline presents a web form capturing user/profile/order/settings data, processes it asynchronously, and returns a nested JSON object.\n",
    "\n",
    " ----------------\n"
   ]
  },
  {
   "cell_type": "markdown",
   "id": "a3b19b8c",
   "metadata": {},
   "source": [
    "### Import needed bspump modules:\n"
   ]
  },
  {
   "cell_type": "code",
   "execution_count": null,
   "id": "8e5cf5c8",
   "metadata": {},
   "outputs": [],
   "source": [
    "from bspump.http.web.server import *\n",
    "from bspump.jupyter import *\n",
    "import asyncio"
   ]
  },
  {
   "cell_type": "markdown",
   "id": "3eae60e5",
   "metadata": {},
   "source": [
    "----------------\n",
    "### In Jupyter, you can test the pipeline logic without submitting the form using a sample event:\n"
   ]
  },
  {
   "cell_type": "code",
   "execution_count": null,
   "id": "5034a9d7",
   "metadata": {},
   "outputs": [],
   "source": [
    "event = {\n",
    "    \"form\": {\n",
    "        \"user_name\": \"Alice\",\n",
    "        \"user_email\": \"alice@example.com\",\n",
    "        \"user_age\": 30,\n",
    "        \"user_verified\": True,\n",
    "        \"newsletter\": False,\n",
    "        \"notifications_email\": True,\n",
    "        \"notifications_sms\": False,\n",
    "        \"order_id\": 12345,\n",
    "        \"language\": \"en\",\n",
    "        \"keywords\": \"alpha,beta,gamma\"\n",
    "    }\n",
    "}"
   ]
  },
  {
   "cell_type": "markdown",
   "id": "99b408e2",
   "metadata": {},
   "source": [
    "----------------\n",
    "### Pipeline Definition: auto_pipeline\n",
    "Defines the HTTP form source ```WebFormSource``` and JSON sink ```JSONWebSink```.\n",
    "When deployed, visiting ```http://<host>:<port>/``` shows the form with multiple fields:\n",
    "user_name, user_email, user_age, user_verified, etc. On submission, the Proscessing block runs and handles the business logic.\n"
   ]
  },
  {
   "cell_type": "code",
   "execution_count": null,
   "id": "6577057a",
   "metadata": {},
   "outputs": [],
   "source": [
    "auto_pipeline(\n",
    "    source=lambda app, pipeline: WebFormSource(\n",
    "        app, pipeline, route=\"/\", fields=[\n",
    "            TextField(\"user_name\", display=\"User Name\"),\n",
    "            TextField(\"user_email\", display=\"Email\"),\n",
    "            IntField(\"user_age\", display=\"Age\"),\n",
    "            CheckboxField(\"user_verified\", display=\"Verified\"),\n",
    "            CheckboxField(\"newsletter\", display=\"Newsletter Subscription\"),\n",
    "            CheckboxField(\"notifications_email\", display=\"Email Notifications\"),\n",
    "            CheckboxField(\"notifications_sms\", display=\"SMS Notifications\"),\n",
    "            IntField(\"order_id\", display=\"Order ID\"),\n",
    "            TextField(\"language\", display=\"Language\"),\n",
    "            TextField(\"keywords\", display=\"Keywords (comma-separated)\", multiline=True),\n",
    "        ]\n",
    "    ),\n",
    "    sink=lambda app, pipeline: WebSink(app, pipeline),\n",
    "    name=\"WebServerPipeline\"\n",
    ")"
   ]
  },
  {
   "cell_type": "markdown",
   "id": "e8b15b0f",
   "metadata": {},
   "source": [
    "----------------\n",
    "### Processing Step: Pipeline logic with Asynchronous functionality\n",
    "When the form is submitted, BsPump gathers all form fields into ```event[\"form\"]```.\n",
    " The ```asyncio.sleep(1)``` simulates work (sleep), extracts form data,\n",
    " builds a nested JSON response, and passes event to the sink."
   ]
  },
  {
   "cell_type": "code",
   "execution_count": null,
   "id": "54b4121b",
   "metadata": {},
   "outputs": [],
   "source": [
    "print(\"Processing form data…\", event[\"form\"])\n",
    "# (Optional) Simulate asynchronous work, for example calling an external service\n",
    "await asyncio.sleep(1)\n",
    "\n",
    "try:\n",
    "    form_data = event[\"form\"] # Log raw form values\n",
    "        # Construction of nested JSON structure from form fields\n",
    "    event[\"response\"] = json.dumps({\n",
    "        \"user\": {\n",
    "            \"name\": form_data[\"user_name\"],\n",
    "            \"email\": form_data[\"user_email\"],\n",
    "            \"profile\": {\n",
    "                \"age\": form_data[\"user_age\"],\n",
    "                \"verified\": form_data[\"user_verified\"],\n",
    "                \"preferences\": {\n",
    "                    \"newsletter\": form_data[\"newsletter\"],\n",
    "                    \"notifications\": {\n",
    "                        \"email\": form_data[\"notifications_email\"],\n",
    "                        \"sms\": form_data[\"notifications_sms\"]\n",
    "                    }\n",
    "                }\n",
    "            }\n",
    "        },\n",
    "        \"order\": {\n",
    "            \"id\": form_data[\"order_id\"],\n",
    "            \"shipped\": False\n",
    "        },\n",
    "        \"settings\": {\n",
    "            \"language\": form_data[\"language\"],\n",
    "            \"keywords\": form_data[\"keywords\"].split(\",\")\n",
    "        },\n",
    "    })\n",
    "    event[\"content_type\"] = \"text/plain\"\n",
    "# Handle missing form fields\n",
    "except KeyError as e:\n",
    "    event[\"response\"] = {\"error\": f\"Missing field: {str(e)}\"}\n",
    "# Handle any other unexpected errors\n",
    "except Exception as e:\n",
    "    event[\"response\"] = {\"error\": f\"Unexpected error: {str(e)}\"}"
   ]
  },
  {
   "cell_type": "markdown",
   "id": "53d0a0ae",
   "metadata": {},
   "source": [
    "----------------\n",
    "### Testing\n",
    "You are able to run the notebook yourself by typing:\n",
    "```bitswan notebook NestedJsonOutput/main.ipynb```\n",
    "into the console in the examples directory, then you can test it on ```http://localhost:8080/```"
   ]
  }
 ],
 "metadata": {
  "kernelspec": {
   "display_name": "venv",
   "language": "python",
   "name": "python3"
  },
  "language_info": {
   "codemirror_mode": {
    "name": "ipython",
    "version": 3
   },
   "file_extension": ".py",
   "mimetype": "text/x-python",
   "name": "python",
   "nbconvert_exporter": "python",
   "pygments_lexer": "ipython3",
   "version": "3.10.12"
  }
 },
 "nbformat": 4,
 "nbformat_minor": 5
}
