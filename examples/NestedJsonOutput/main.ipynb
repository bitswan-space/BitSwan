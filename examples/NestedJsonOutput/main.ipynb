{
 "cells": [
  {
   "cell_type": "code",
   "execution_count": null,
   "id": "initial_id",
   "metadata": {
    "collapsed": true
   },
   "outputs": [],
   "source": [
    "from bspump.http.web.server import *\n",
    "from bspump.jupyter import *\n",
    "import asyncio"
   ]
  },
  {
   "cell_type": "code",
   "execution_count": null,
   "id": "9f1d3e0d1e30281a",
   "metadata": {},
   "outputs": [],
   "source": [
    "new_pipeline(\"WebServerPipeline\")"
   ]
  },
  {
   "cell_type": "code",
   "execution_count": 1,
   "id": "2085311e2a1a1313",
   "metadata": {
    "ExecuteTime": {
     "end_time": "2025-01-14T14:59:22.112191Z",
     "start_time": "2025-01-14T14:59:21.984562Z"
    }
   },
   "outputs": [
    {
     "name": "stdout",
     "output_type": "stream",
     "text": [
      "Registering source\n"
     ]
    },
    {
     "ename": "NameError",
     "evalue": "name 'register_source' is not defined",
     "output_type": "error",
     "traceback": [
      "\u001b[0;31m---------------------------------------------------------------------------\u001b[0m",
      "\u001b[0;31mNameError\u001b[0m                                 Traceback (most recent call last)",
      "Cell \u001b[0;32mIn[1], line 2\u001b[0m\n\u001b[1;32m      1\u001b[0m \u001b[38;5;28mprint\u001b[39m(\u001b[38;5;124m\"\u001b[39m\u001b[38;5;124mRegistering source\u001b[39m\u001b[38;5;124m\"\u001b[39m)\n\u001b[0;32m----> 2\u001b[0m \u001b[38;5;129m@register_source\u001b[39m\n\u001b[1;32m      3\u001b[0m \u001b[38;5;28;01mdef\u001b[39;00m\u001b[38;5;250m \u001b[39m\u001b[38;5;21msource\u001b[39m(app, pipeline):\n\u001b[1;32m      4\u001b[0m     \u001b[38;5;28;01mreturn\u001b[39;00m WebFormSource(app, pipeline, route\u001b[38;5;241m=\u001b[39m\u001b[38;5;124m\"\u001b[39m\u001b[38;5;124m/\u001b[39m\u001b[38;5;124m\"\u001b[39m, fields\u001b[38;5;241m=\u001b[39m[\n\u001b[1;32m      5\u001b[0m         TextField(\u001b[38;5;124m\"\u001b[39m\u001b[38;5;124mfoo\u001b[39m\u001b[38;5;124m\"\u001b[39m, display\u001b[38;5;241m=\u001b[39m\u001b[38;5;124m\"\u001b[39m\u001b[38;5;124mFoo\u001b[39m\u001b[38;5;124m\"\u001b[39m),\n\u001b[1;32m      6\u001b[0m         TextField(\u001b[38;5;124m\"\u001b[39m\u001b[38;5;124mla\u001b[39m\u001b[38;5;124m\"\u001b[39m, readonly\u001b[38;5;241m=\u001b[39m\u001b[38;5;28;01mTrue\u001b[39;00m, default\u001b[38;5;241m=\u001b[39m\u001b[38;5;124m\"\u001b[39m\u001b[38;5;124mlaa\u001b[39m\u001b[38;5;124m\"\u001b[39m),\n\u001b[0;32m   (...)\u001b[0m\n\u001b[1;32m     10\u001b[0m         CheckboxField(\u001b[38;5;124m\"\u001b[39m\u001b[38;5;124mcheckbox\u001b[39m\u001b[38;5;124m\"\u001b[39m),\n\u001b[1;32m     11\u001b[0m     ])\n",
      "\u001b[0;31mNameError\u001b[0m: name 'register_source' is not defined"
     ]
    }
   ],
   "source": [
    "print(\"Registering source\")\n",
    "\n",
    "\n",
    "@register_source\n",
    "def source(app, pipeline):\n",
    "    return WebFormSource(\n",
    "        app,\n",
    "        pipeline,\n",
    "        route=\"/\",\n",
    "        fields=[\n",
    "            TextField(\"user_name\", display=\"User Name\"),\n",
    "            TextField(\"user_email\", display=\"Email\"),\n",
    "            IntField(\"user_age\", display=\"Age\"),\n",
    "            CheckboxField(\"user_verified\", display=\"Verified\"),\n",
    "            CheckboxField(\"newsletter\", display=\"Newsletter Subscription\"),\n",
    "            CheckboxField(\"notifications_email\", display=\"Email Notifications\"),\n",
    "            CheckboxField(\"notifications_sms\", display=\"SMS Notifications\"),\n",
    "            IntField(\"order_id\", display=\"Order ID\"),\n",
    "            TextField(\"language\", display=\"Language\"),\n",
    "            TextField(\"keywords\", display=\"Keywords (comma-separated)\", multiline=True),\n",
    "        ],\n",
    "    )"
   ]
  },
  {
   "cell_type": "code",
   "execution_count": null,
   "id": "b931582aaa7cecc4",
   "metadata": {},
   "outputs": [],
   "source": [
    "@async_step\n",
    "async def output(inject, ctx):\n",
    "    print(\"Processing form data...\")\n",
    "    print(ctx[\"form\"])\n",
    "    await asyncio.sleep(1)\n",
    "\n",
    "    try:\n",
    "        form_data = ctx[\"form\"]\n",
    "\n",
    "        ctx[\"response\"] = {\n",
    "            \"user\": {\n",
    "                \"name\": form_data[\"user_name\"],\n",
    "                \"email\": form_data[\"user_email\"],\n",
    "                \"profile\": {\n",
    "                    \"age\": form_data[\"user_age\"],\n",
    "                    \"verified\": form_data[\"user_verified\"],\n",
    "                    \"preferences\": {\n",
    "                        \"newsletter\": form_data[\"newsletter\"],\n",
    "                        \"notifications\": {\n",
    "                            \"email\": form_data[\"notifications_email\"],\n",
    "                            \"sms\": form_data[\"notifications_sms\"],\n",
    "                        },\n",
    "                    },\n",
    "                },\n",
    "            },\n",
    "            \"order\": {\n",
    "                \"id\": form_data[\"order_id\"],\n",
    "                \"shipped\": False,\n",
    "            },\n",
    "            \"settings\": {\n",
    "                \"language\": form_data[\"language\"],\n",
    "                \"keywords\": form_data[\"keywords\"].split(\",\"),\n",
    "            },\n",
    "        }\n",
    "\n",
    "    except KeyError as e:\n",
    "        ctx[\"response\"] = {\"error\": f\"Missing field: {str(e)}\"}\n",
    "    except Exception as e:\n",
    "        ctx[\"response\"] = {\"error\": f\"Unexpected error: {str(e)}\"}\n",
    "\n",
    "    await inject(ctx)"
   ]
  },
  {
   "cell_type": "code",
   "execution_count": null,
   "id": "180d6f8dc3f09592",
   "metadata": {},
   "outputs": [],
   "source": [
    "@register_sink\n",
    "def sink(app, pipeline):\n",
    "    return JSONWebSink(app, pipeline)"
   ]
  },
  {
   "cell_type": "code",
   "execution_count": null,
   "id": "71d4ae87c749ad72",
   "metadata": {},
   "outputs": [],
   "source": [
    "end_pipeline()"
   ]
  }
 ],
 "metadata": {
  "kernelspec": {
   "display_name": "Python 3",
   "language": "python",
   "name": "python3"
  },
  "language_info": {
   "codemirror_mode": {
    "name": "ipython",
    "version": 2
   },
   "file_extension": ".py",
   "mimetype": "text/x-python",
   "name": "python",
   "nbconvert_exporter": "python",
   "pygments_lexer": "ipython2",
   "version": "2.7.6"
  }
 },
 "nbformat": 4,
 "nbformat_minor": 5
}
