{
 "cells": [
  {
   "cell_type": "markdown",
   "id": "4af21a9c-6625-4ed2-b25f-ea4f7b004f35",
   "metadata": {},
   "source": [
    "Protected web forms\n",
    "-------------------\n",
    "\n",
    "You can protect a webform with a secret key. This is usefull for debugging a JSON endpoint as this webform will also function as a normal REST endpoint that you can post JSON to. The advantage here, is that you can open it up in the browser with the secret key and play with it. This type of form should not be used for production as a URL containing a secret key can easilly be leaked thus compromising the security of the endpoint."
   ]
  },
  {
   "cell_type": "code",
   "execution_count": 1,
   "id": "00d9f193-f748-4f3f-8b44-6541abc461b9",
   "metadata": {},
   "outputs": [],
   "source": [
    "from bspump.http.web.server import *\n",
    "from bspump.jupyter import *\n",
    "import asyncio"
   ]
  },
  {
   "cell_type": "code",
   "execution_count": null,
   "id": "c6d465aa",
   "metadata": {},
   "outputs": [],
   "source": [
    "auto_pipeline(\n",
    "    source=lambda app, pipeline: ProtectedWebFormSource(\n",
    "        app,\n",
    "        pipeline,\n",
    "        route=\"/\",\n",
    "        form_intro=\"\"\"<p>This is a protected form.</p>\"\"\",\n",
    "        fields=[\n",
    "            TextField(\"foo\", display=\"Foo\", description=\"specify the foo\"),\n",
    "            TextField(\"la\", readonly=True, default=\"laa\"),\n",
    "            IntField(\"n\"),\n",
    "            TextField(\"bar\", hidden=True),\n",
    "            FieldSet(\n",
    "                \"hex\",\n",
    "                fields=[\n",
    "                    ChoiceField(\"lol\", choices=[\"a\", \"b\", \"c\"]),\n",
    "                    CheckboxField(\"checkbox\"),\n",
    "                ],\n",
    "            ),\n",
    "        ],\n",
    "    ),\n",
    "    sink=lambda app, pipeline: JSONWebSink(app, pipeline),\n",
    "    name=\"ProtectedWebFormSourcePipeline\",\n",
    ")"
   ]
  },
  {
   "cell_type": "code",
   "execution_count": null,
   "id": "ba89b073-27c5-45d2-90cd-93cea1b0ce4d",
   "metadata": {},
   "outputs": [],
   "source": [
    "await asyncio.sleep(1)\n",
    "try:\n",
    "    event[\"response\"] = {\n",
    "        \"msg\": event[\"form\"][\"foo\"],\n",
    "        \"checkbox\": event[\"form\"][\"hex\"][\"checkbox\"],\n",
    "        \"n\": event[\"form\"][\"n\"],\n",
    "        \"lol\": event[\"form\"][\"hex\"][\"lol\"],\n",
    "    }\n",
    "except e:\n",
    "    event[\"response\"] = {\"error\", str(e)}\n",
    "event"
   ]
  }
 ],
 "metadata": {
  "kernelspec": {
   "display_name": "Python 3 (ipykernel)",
   "language": "python",
   "name": "python3"
  },
  "language_info": {
   "codemirror_mode": {
    "name": "ipython",
    "version": 3
   },
   "file_extension": ".py",
   "mimetype": "text/x-python",
   "name": "python",
   "nbconvert_exporter": "python",
   "pygments_lexer": "ipython3",
   "version": "3.10.15"
  }
 },
 "nbformat": 4,
 "nbformat_minor": 5
}
