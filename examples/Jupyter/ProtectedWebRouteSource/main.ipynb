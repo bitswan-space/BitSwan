{
 "cells": [
  {
   "cell_type": "code",
   "execution_count": 1,
   "id": "00d9f193-f748-4f3f-8b44-6541abc461b9",
   "metadata": {},
   "outputs": [],
   "source": [
    "import bspump\n",
    "from bspump.http.web.server import *\n",
    "from bspump.jupyter import *"
   ]
  },
  {
   "cell_type": "code",
   "execution_count": 2,
   "id": "fd948a04-3dfe-4e3c-af8d-fe57cd8762ad",
   "metadata": {},
   "outputs": [],
   "source": [
    "new_pipeline(\"ProtectedWebRouteSourcePipeline\")"
   ]
  },
  {
   "cell_type": "code",
   "execution_count": null,
   "id": "02bb70c6-2ac8-46aa-af47-8ea59cfdeb95",
   "metadata": {},
   "outputs": [],
   "source": [
    "print(\"Registering source\")\n",
    "@register_source\n",
    "def source(app, pipeline):\n",
    "    return ProtectedWebRouteSource(app, pipeline, method=\"GET\", route=\"/\")"
   ]
  },
  {
   "cell_type": "code",
   "execution_count": null,
   "id": "ba89b073-27c5-45d2-90cd-93cea1b0ce4d",
   "metadata": {},
   "outputs": [],
   "source": [
    "@step\n",
    "def foo(ctx):\n",
    "    ctx[\"response\"] = {\"msg\": \"Hello world!\"}\n",
    "    return ctx"
   ]
  },
  {
   "cell_type": "code",
   "execution_count": null,
   "id": "b997ff37-edd1-4bcc-918f-93be8b0574f3",
   "metadata": {},
   "outputs": [],
   "source": [
    "@register_sink\n",
    "def sink(app, pipeline):\n",
    "    return JSONWebSink(app, pipeline)"
   ]
  },
  {
   "cell_type": "code",
   "execution_count": null,
   "id": "b9282c2b-6a33-4f5b-a5fa-cd7fb6ecf59e",
   "metadata": {},
   "outputs": [],
   "source": [
    "end_pipeline()"
   ]
  }
 ],
 "metadata": {
  "kernelspec": {
   "display_name": "Python 3 (ipykernel)",
   "language": "python",
   "name": "python3"
  },
  "language_info": {
   "codemirror_mode": {
    "name": "ipython",
    "version": 3
   },
   "file_extension": ".py",
   "mimetype": "text/x-python",
   "name": "python",
   "nbconvert_exporter": "python",
   "pygments_lexer": "ipython3",
   "version": "3.10.15"
  }
 },
 "nbformat": 4,
 "nbformat_minor": 5
}
