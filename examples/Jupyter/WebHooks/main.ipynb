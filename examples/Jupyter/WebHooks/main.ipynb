{
 "cells": [
  {
   "cell_type": "code",
   "execution_count": 1,
   "id": "4680223b",
   "metadata": {},
   "outputs": [],
   "source": [
    "from bspump.jupyter import *\n",
    "import bspump.http.web.source\n",
    "import bspump.file\n",
    "import time\n",
    "import json"
   ]
  },
  {
   "cell_type": "code",
   "execution_count": 2,
   "id": "f5fd3c76-2f57-4957-b0e3-6328e31fab62",
   "metadata": {},
   "outputs": [],
   "source": [
    "new_pipeline(\"WebHookPipeline\")"
   ]
  },
  {
   "cell_type": "code",
   "execution_count": 1,
   "id": "979fee55-b7e1-47ab-94f3-904dea5890f5",
   "metadata": {},
   "outputs": [
    {
     "ename": "NameError",
     "evalue": "name 'register_source' is not defined",
     "output_type": "error",
     "traceback": [
      "\u001b[0;31m---------------------------------------------------------------------------\u001b[0m",
      "\u001b[0;31mNameError\u001b[0m                                 Traceback (most recent call last)",
      "Cell \u001b[0;32mIn[1], line 1\u001b[0m\n\u001b[0;32m----> 1\u001b[0m \u001b[38;5;129m@register_source\u001b[39m\n\u001b[1;32m      2\u001b[0m \u001b[38;5;28;01mdef\u001b[39;00m \u001b[38;5;21msource\u001b[39m(app, pipeline):\n\u001b[1;32m      3\u001b[0m    \u001b[38;5;28;01mreturn\u001b[39;00m bspump\u001b[38;5;241m.\u001b[39mhttp\u001b[38;5;241m.\u001b[39mweb\u001b[38;5;241m.\u001b[39msource\u001b[38;5;241m.\u001b[39mWebHookSource(\n\u001b[1;32m      4\u001b[0m        app,\n\u001b[1;32m      5\u001b[0m        pipeline,\n\u001b[0;32m   (...)\u001b[0m\n\u001b[1;32m      9\u001b[0m            \u001b[38;5;124m\"\u001b[39m\u001b[38;5;124msecret_qparam\u001b[39m\u001b[38;5;124m\"\u001b[39m: \u001b[38;5;124m\"\u001b[39m\u001b[38;5;124mnot-secure\u001b[39m\u001b[38;5;124m\"\u001b[39m,\n\u001b[1;32m     10\u001b[0m        })\n",
      "\u001b[0;31mNameError\u001b[0m: name 'register_source' is not defined"
     ]
    }
   ],
   "source": [
    "@register_source\n",
    "def source(app, pipeline):\n",
    "   return bspump.http.web.source.WebHookSource(\n",
    "       app,\n",
    "       pipeline,\n",
    "       config = {\n",
    "           \"port\": 8080,\n",
    "           \"path\": \"/webhook/\",\n",
    "           \"secret_qparam\": \"not-secure\",\n",
    "       })"
   ]
  },
  {
   "cell_type": "code",
   "execution_count": 4,
   "id": "ee957c39-5d6e-4bc4-90ec-cd1a3ff6dca4",
   "metadata": {},
   "outputs": [],
   "source": [
    "sample_events([\n",
    "    b\"\"\"{\"foo\":\"bap\"}\"\"\",\n",
    "    b\"\"\"{\"foo\":\"baz\"}\"\"\"\n",
    "])"
   ]
  },
  {
   "cell_type": "code",
   "execution_count": 5,
   "id": "67e91027-d95c-41ec-9377-991ce5925c86",
   "metadata": {},
   "outputs": [
    {
     "name": "stdout",
     "output_type": "stream",
     "text": [
      "{'foo': 'bap'}\n",
      "{'foo': 'baz'}\n"
     ]
    }
   ],
   "source": [
    "@step\n",
    "def parse_json(event):\n",
    "    return json.loads(event)"
   ]
  },
  {
   "cell_type": "code",
   "execution_count": 6,
   "id": "82dbe90b-9128-490d-8c09-33cf02caf240",
   "metadata": {},
   "outputs": [
    {
     "name": "stdout",
     "output_type": "stream",
     "text": [
      "{'foo': 'BAP'}\n",
      "{'foo': 'BAZ'}\n"
     ]
    }
   ],
   "source": [
    "@async_step\n",
    "async def capitalize_foo(inject, event):\n",
    "    event[\"foo\"] = event[\"foo\"].upper()\n",
    "    await inject(event)"
   ]
  },
  {
   "cell_type": "code",
   "execution_count": 8,
   "id": "bfd88fa5-f797-4c23-82ac-117538bb05e2",
   "metadata": {},
   "outputs": [],
   "source": [
    "@register_sink\n",
    "def init_sink(app, pipeline):\n",
    "    return bspump.file.FileCSVSink(app, pipeline)"
   ]
  },
  {
   "cell_type": "code",
   "execution_count": 9,
   "id": "55aced63",
   "metadata": {},
   "outputs": [],
   "source": [
    "end_pipeline()"
   ]
  }
 ],
 "metadata": {
  "kernelspec": {
   "display_name": "Python 3 (ipykernel)",
   "language": "python",
   "name": "python3"
  },
  "language_info": {
   "codemirror_mode": {
    "name": "ipython",
    "version": 3
   },
   "file_extension": ".py",
   "mimetype": "text/x-python",
   "name": "python",
   "nbconvert_exporter": "python",
   "pygments_lexer": "ipython3",
   "version": "3.10.13"
  }
 },
 "nbformat": 4,
 "nbformat_minor": 5
}
