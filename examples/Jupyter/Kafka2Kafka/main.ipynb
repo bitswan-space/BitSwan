{
 "cells": [
  {
   "cell_type": "code",
   "execution_count": 1,
   "id": "4680223b",
   "metadata": {},
   "outputs": [],
   "source": [
    "from bspump.jupyter import *\n",
    "import bspump.kafka\n",
    "import json"
   ]
  },
  {
   "cell_type": "code",
   "execution_count": 2,
   "id": "ee90d481-7bce-4c07-817f-f95980fdf922",
   "metadata": {},
   "outputs": [],
   "source": [
    "@register_connection\n",
    "def connection(app):\n",
    "  return bspump.kafka.KafkaConnection(app, \"KafkaConnection\")"
   ]
  },
  {
   "cell_type": "code",
   "execution_count": 3,
   "id": "f5fd3c76-2f57-4957-b0e3-6328e31fab62",
   "metadata": {},
   "outputs": [],
   "source": [
    "new_pipeline(\"Kafka2KafkaPipeline\")"
   ]
  },
  {
   "cell_type": "code",
   "execution_count": 4,
   "id": "979fee55-b7e1-47ab-94f3-904dea5890f5",
   "metadata": {},
   "outputs": [],
   "source": [
    "@register_source\n",
    "def kafka_source(app, pipeline):\n",
    "   return bspump.kafka.KafkaSource(app, pipeline, \"KafkaConnection\")"
   ]
  },
  {
   "cell_type": "code",
   "execution_count": 5,
   "id": "ee957c39-5d6e-4bc4-90ec-cd1a3ff6dca4",
   "metadata": {},
   "outputs": [],
   "source": [
    "sample_events([\n",
    "    b\"\"\"{\"foo\":\"bap\"}\"\"\",\n",
    "    b\"\"\"{\"foo\":\"baz\"}\"\"\"\n",
    "])"
   ]
  },
  {
   "cell_type": "code",
   "execution_count": 6,
   "id": "67e91027-d95c-41ec-9377-991ce5925c86",
   "metadata": {},
   "outputs": [
    {
     "name": "stdout",
     "output_type": "stream",
     "text": [
      "{'foo': 'bap'}\n",
      "{'foo': 'baz'}\n"
     ]
    }
   ],
   "source": [
    "@step\n",
    "def parse_json(event):\n",
    "    return json.loads(event.decode(\"utf8\"))"
   ]
  },
  {
   "cell_type": "code",
   "execution_count": 7,
   "id": "82dbe90b-9128-490d-8c09-33cf02caf240",
   "metadata": {},
   "outputs": [
    {
     "name": "stdout",
     "output_type": "stream",
     "text": [
      "{'foo': 'BAP'}\n",
      "{'foo': 'BAZ'}\n"
     ]
    }
   ],
   "source": [
    "@async_step\n",
    "async def capitalize_foo(inject, event):\n",
    "    event[\"foo\"] = event[\"foo\"].upper()\n",
    "    await inject(event)"
   ]
  },
  {
   "cell_type": "code",
   "execution_count": 8,
   "id": "b3bf4469-4724-4229-ae59-6d1f02bb9bd0",
   "metadata": {},
   "outputs": [
    {
     "name": "stdout",
     "output_type": "stream",
     "text": [
      "{'foo': 'PAB'}\n",
      "{'foo': 'ZAB'}\n"
     ]
    }
   ],
   "source": [
    "@async_step\n",
    "async def reverse_foo(inject, event):\n",
    "    event[\"foo\"] = \"\".join(reversed(list(event[\"foo\"])))\n",
    "    await inject(event)"
   ]
  },
  {
   "cell_type": "code",
   "execution_count": 9,
   "id": "d6588afb-ce85-4b8c-bc58-cb2df0e7bef7",
   "metadata": {},
   "outputs": [
    {
     "name": "stdout",
     "output_type": "stream",
     "text": [
      "b'{\"foo\": \"PAB\"}'\n",
      "b'{\"foo\": \"ZAB\"}'\n"
     ]
    }
   ],
   "source": [
    "@step\n",
    "def encode_json(event):\n",
    "    return json.dumps(event).encode()"
   ]
  },
  {
   "cell_type": "code",
   "execution_count": 10,
   "id": "bfd88fa5-f797-4c23-82ac-117538bb05e2",
   "metadata": {},
   "outputs": [],
   "source": [
    "@register_sink\n",
    "def init_kafka_sink(app, pipeline):\n",
    "    return bspump.kafka.KafkaSink(app, pipeline, \"KafkaConnection\")"
   ]
  },
  {
   "cell_type": "code",
   "execution_count": 11,
   "id": "55aced63",
   "metadata": {},
   "outputs": [],
   "source": [
    "end_pipeline()"
   ]
  }
 ],
 "metadata": {
  "kernelspec": {
   "display_name": "Python 3 (ipykernel)",
   "language": "python",
   "name": "python3"
  },
  "language_info": {
   "codemirror_mode": {
    "name": "ipython",
    "version": 3
   },
   "file_extension": ".py",
   "mimetype": "text/x-python",
   "name": "python",
   "nbconvert_exporter": "python",
   "pygments_lexer": "ipython3",
   "version": "3.10.15"
  }
 },
 "nbformat": 4,
 "nbformat_minor": 5
}
