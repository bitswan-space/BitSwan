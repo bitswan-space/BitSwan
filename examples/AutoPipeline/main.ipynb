{
 "cells": [
  {
   "cell_type": "markdown",
   "id": "68be381c-09b4-48bb-ab74-8f70b209172e",
   "metadata": {},
   "source": [
    "# ```auto_pipeline()```\n",
    "----------------\n",
    "\n",
    "Say you want to create a quick linear pipeline that just takes events from one data source, transforms those events, and sends them on to a data sink. Since we're thinking in a straight line, we can think of the jupyter notebook itself as a pipeline. In the simplest case, events would come in at the top of the notebook, are processed, and then come out the bottom.\n",
    "\n",
    "Since sometimes you might want to do some imports/setup before launching the pipeline, in reality we divide the notebook into two sections. The setup section and the pipeline section.\n",
    "\n",
    "`auto_pipeline()` lets you turn simple jupyter notebooks into pipelines.\n",
    "\n",
    "\n",
    "To use just call `auto_pipeline(source=<source>, sink=<sink>)` at some point in your notebook, and the rest of the cells in the notebook will become processors in that pipeline. The special variable `event` will be set in the pipeline after the `auto_pipeline` call. This variable will also be sent to the sink at the end of the pipeline.\n"
   ]
  },
  {
   "cell_type": "markdown",
   "id": "8c07f869-465c-41f4-b807-08b31a6756d2",
   "metadata": {},
   "source": [
    "----------------\n",
    "### Setup: Imports & Connections\n",
    "\n",
    "Gets run once at launch, pulling in ```bspump``` components and any connectors you need."
   ]
  },
  {
   "cell_type": "code",
   "execution_count": null,
   "id": "1fd34891-3aac-4f76-9697-f8495a239091",
   "metadata": {},
   "outputs": [],
   "source": [
    "from bspump.jupyter import *\n",
    "import bspump.kafka\n",
    "import json"
   ]
  },
  {
   "cell_type": "code",
   "execution_count": null,
   "id": "507378df-66c9-4f08-8800-545caa5f43e8",
   "metadata": {},
   "outputs": [],
   "source": [
    "some_constant=3"
   ]
  },
  {
   "cell_type": "markdown",
   "id": "941b542e",
   "metadata": {},
   "source": [
    "----------------\n",
    "### Registering a named connection in ```bspump```:"
   ]
  },
  {
   "cell_type": "code",
   "execution_count": null,
   "id": "3c39b6dc-6627-4b65-82c1-f7d1052b0855",
   "metadata": {},
   "outputs": [],
   "source": [
    "@register_connection\n",
    "def connection(app):\n",
    "  return bspump.kafka.KafkaConnection(app, \"KafkaConnection\")"
   ]
  },
  {
   "cell_type": "markdown",
   "id": "91cbd112",
   "metadata": {},
   "source": [
    "----------------\n",
    "### Sample Event (for local testing)\n",
    "A small JSON or bytes buffer you define so you can run the transformations interactively in Jupyter:"
   ]
  },
  {
   "cell_type": "code",
   "execution_count": null,
   "id": "eb6f7aa2-4821-41eb-88ce-304e2756735f",
   "metadata": {},
   "outputs": [],
   "source": [
    "# we define a sample event to test our pipeline.\n",
    "event = b\"\"\"{\"foo\":\"bap\"}\"\"\""
   ]
  },
  {
   "cell_type": "markdown",
   "id": "557e9886-316a-4ec9-88b7-688baec9433e",
   "metadata": {},
   "source": [
    "When you “Run All” in Jupyter, this event simulates the first incoming record."
   ]
  },
  {
   "cell_type": "markdown",
   "id": "2130ce68",
   "metadata": {},
   "source": [
    "\n",
    "----------------\n",
    "### Pipeline Definition (```auto_pipeline```)\n",
    "We use `auto_pipeline` to mark the start of the *pipeline section*. We also specifiy the source and sink for our pipeline at this time."
   ]
  },
  {
   "cell_type": "code",
   "execution_count": null,
   "id": "6e5432e7-f84a-4b27-826a-5171e6112ba8",
   "metadata": {},
   "outputs": [],
   "source": [
    "auto_pipeline(\n",
    "    source=lambda app, pipeline: bspump.kafka.KafkaSource(app, pipeline, \"KafkaConnection\"),\n",
    "    sink=lambda app, pipeline: bspump.kafka.KafkaSink(app, pipeline, \"KafkaConnection\")\n",
    ")"
   ]
  },
  {
   "cell_type": "markdown",
   "id": "3c9a3733-b58a-4038-b8bc-296044013008",
   "metadata": {},
   "source": [
    "----------------\n",
    "### Pipeline section\n",
    "Everything after this is rerun every time an event comes in. At run time, the `event` variable is automatically set with the value of the event that comes from the source.\n",
    "\n",
    "We can do whatever transformations we please, and then, by setting `event` at the end of the notebook, the value of `event` will automatically be sent to the sink."
   ]
  },
  {
   "cell_type": "code",
   "execution_count": null,
   "id": "7d3cac4f-da52-4189-9386-fddffb1b0bb3",
   "metadata": {},
   "outputs": [],
   "source": [
    "event = json.loads(event.decode(\"utf8\"))\n",
    "event"
   ]
  },
  {
   "cell_type": "code",
   "execution_count": null,
   "id": "944f3fb3-74d5-45cc-8c8f-307f0d411de7",
   "metadata": {},
   "outputs": [],
   "source": [
    "event[\"foo\"] = event[\"foo\"].upper()\n",
    "event"
   ]
  },
  {
   "cell_type": "code",
   "execution_count": null,
   "id": "5a56c65e-196e-4cab-9891-03b85d485271",
   "metadata": {},
   "outputs": [],
   "source": [
    "event[\"foo\"] = (\" \" * some_constant).join(reversed(list(event[\"foo\"])))\n",
    "event"
   ]
  },
  {
   "cell_type": "code",
   "execution_count": null,
   "id": "1e63b344-4c6f-4c46-8e5f-3163aa04dbc0",
   "metadata": {},
   "outputs": [],
   "source": [
    "event = json.dumps(event).encode()\n",
    "event"
   ]
  },
  {
   "cell_type": "markdown",
   "id": "bb7db583",
   "metadata": {},
   "source": [
    "----------------\n",
    "### Testing\n",
    "You can run the notebook yourself by typing: ```bitswan notebook AutoPipeline/main.ipynb``` This will connect us to Kafka, and if we send events to Kafka, we’ll be able to see them flow through the pipeline.\n",
    "Alternativelly, you can just test it directly in the notebook by Executing cells with different events."
   ]
  }
 ],
 "metadata": {
  "kernelspec": {
   "display_name": "Python 3",
   "language": "python",
   "name": "python3"
  },
  "language_info": {
   "codemirror_mode": {
    "name": "ipython",
    "version": 3
   },
   "file_extension": ".py",
   "mimetype": "text/x-python",
   "name": "python",
   "nbconvert_exporter": "python",
   "pygments_lexer": "ipython3",
   "version": "3.13.3"
  }
 },
 "nbformat": 4,
 "nbformat_minor": 5
}
