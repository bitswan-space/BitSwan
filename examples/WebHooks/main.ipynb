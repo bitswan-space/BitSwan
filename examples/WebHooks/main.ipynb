{
 "cells": [
  {
   "cell_type": "markdown",
   "id": "85ba6b7e",
   "metadata": {},
   "source": [
    "# Webhook Example\n",
    "Webhook pipelines can recieve data from a custom webhook while using any sink. This is good for hooking up a webhook to feed into kafka or another advanced broker or database.\n",
    "### Webhook Pipeline Overview\n",
    "\n",
    "- **Source:** Listens on a specified port and path for incoming HTTP POST requests (the webhook endpoint).\n",
    "- **Sink:** Writes received data into a CSV file.\n",
    "\n",
    "### Imports and Pipeline Setup"
   ]
  },
  {
   "cell_type": "code",
   "execution_count": null,
   "id": "4680223b",
   "metadata": {},
   "outputs": [],
   "source": [
    "from bspump.jupyter import *\n",
    "import bspump.http.web.source\n",
    "import bspump.file\n",
    "import time\n",
    "import json"
   ]
  },
  {
   "cell_type": "markdown",
   "id": "3323e355",
   "metadata": {},
   "source": [
    "### In Jupyter, you can test the pipeline logic without submitting the form using a sample events:"
   ]
  },
  {
   "cell_type": "code",
   "execution_count": null,
   "id": "2c4757a7",
   "metadata": {},
   "outputs": [],
   "source": [
    "sample_events([\n",
    "    b\"\"\"{\"foo\":\"bap\"}\"\"\",\n",
    "    b\"\"\"{\"foo\":\"baz\"}\"\"\"\n",
    "])"
   ]
  },
  {
   "cell_type": "markdown",
   "id": "5a60f3da",
   "metadata": {},
   "source": [
    "### Example pipeline\n",
    "source and sink registrations"
   ]
  },
  {
   "cell_type": "code",
   "execution_count": null,
   "id": "8661fa67",
   "metadata": {},
   "outputs": [],
   "source": [
    "auto_pipeline(\n",
    "    source=lambda app, pipeline: bspump.http.web.source.WebHookSource(\n",
    "       app,\n",
    "       pipeline,\n",
    "       config = {\n",
    "           \"port\": 8080,\n",
    "           \"path\": \"/webhook/\",\n",
    "           \"secret_qparam\": \"not-secure\",\n",
    "       }),\n",
    "    sink=lambda app, pipeline: bspump.file.FileCSVSink(app, pipeline),\n",
    "    name=\"WebhookPipeline\"\n",
    ")"
   ]
  },
  {
   "cell_type": "markdown",
   "id": "c2babd61",
   "metadata": {},
   "source": [
    "```WebHookSource```: Sets up a simple HTTP server at /webhook on port 8080. Requests must include the secret query parameter.\n",
    "\n",
    "```FileCSVSink```: Every event received is written (appended) as a row to /data/random-numbers-1.csv."
   ]
  },
  {
   "cell_type": "code",
   "execution_count": 5,
   "id": "67e91027-d95c-41ec-9377-991ce5925c86",
   "metadata": {},
   "outputs": [
    {
     "name": "stdout",
     "output_type": "stream",
     "text": [
      "{'foo': 'bap'}\n",
      "{'foo': 'baz'}\n"
     ]
    }
   ],
   "source": [
    "event = json.loads(event)\n",
    "event"
   ]
  },
  {
   "cell_type": "code",
   "execution_count": 6,
   "id": "82dbe90b-9128-490d-8c09-33cf02caf240",
   "metadata": {},
   "outputs": [
    {
     "name": "stdout",
     "output_type": "stream",
     "text": [
      "{'foo': 'BAP'}\n",
      "{'foo': 'BAZ'}\n"
     ]
    }
   ],
   "source": [
    "event[\"foo\"] = event[\"foo\"].upper()\n",
    "event"
   ]
  }
 ],
 "metadata": {
  "kernelspec": {
   "display_name": "Python 3 (ipykernel)",
   "language": "python",
   "name": "python3"
  },
  "language_info": {
   "codemirror_mode": {
    "name": "ipython",
    "version": 3
   },
   "file_extension": ".py",
   "mimetype": "text/x-python",
   "name": "python",
   "nbconvert_exporter": "python",
   "pygments_lexer": "ipython3",
   "version": "3.10.13"
  }
 },
 "nbformat": 4,
 "nbformat_minor": 5
}
